{
 "cells": [
  {
   "cell_type": "markdown",
   "metadata": {
    "id": "8smXSSFk4cmP"
   },
   "source": [
    "# Visual RecSys for Streaming Platforms\n",
    "\n",
    "Visual similarity recommendation refers to the process of suggesting items or content based on their visual similarity to a reference item. This type of recommendation system is commonly used in various domains, such as e-commerce, image search engines, and content recommendation platforms.\n",
    "\n",
    "Methodology:-\n",
    "1. Data Collection\n",
    "2. Feature Extraction\n",
    "3. Similarity Calculation\n",
    "4. Ranking and Recommendation"
   ]
  },
  {
   "cell_type": "markdown",
   "metadata": {
    "id": "_AL1QUwA60B4"
   },
   "source": [
    "## 1.Problem\n",
    "To recommend movie posters from the dataset of movies posters given an image of the movie poster."
   ]
  },
  {
   "cell_type": "markdown",
   "metadata": {
    "id": "KdwAVex85yNc"
   },
   "source": [
    "## 2.Data Collection\n",
    "We are using the dataset taken from the Kaggle\n",
    "https://www.kaggle.com/datasets/akshaypawar7/millions-of-movies\n",
    "\n",
    "We have used the refined movie dataset `movies.csv`\n",
    " shared along with this code."
   ]
  },
  {
   "cell_type": "markdown",
   "metadata": {
    "id": "r3OcrqWfaER9"
   },
   "source": [
    "### Loading the data from the movie excel "
   ]
  },
  {
   "cell_type": "code",
   "execution_count": 1,
   "metadata": {
    "id": "b79uzy6z62ID"
   },
   "outputs": [
    {
     "data": {
      "text/html": [
       "<div>\n",
       "<style scoped>\n",
       "    .dataframe tbody tr th:only-of-type {\n",
       "        vertical-align: middle;\n",
       "    }\n",
       "\n",
       "    .dataframe tbody tr th {\n",
       "        vertical-align: top;\n",
       "    }\n",
       "\n",
       "    .dataframe thead th {\n",
       "        text-align: right;\n",
       "    }\n",
       "</style>\n",
       "<table border=\"1\" class=\"dataframe\">\n",
       "  <thead>\n",
       "    <tr style=\"text-align: right;\">\n",
       "      <th></th>\n",
       "      <th>movie_id</th>\n",
       "      <th>title</th>\n",
       "      <th>genres</th>\n",
       "      <th>original_language</th>\n",
       "      <th>overview</th>\n",
       "      <th>production_companies</th>\n",
       "      <th>release_date</th>\n",
       "      <th>runtime</th>\n",
       "      <th>vote_average</th>\n",
       "      <th>vote_count</th>\n",
       "      <th>credits</th>\n",
       "      <th>keywords</th>\n",
       "      <th>poster_path</th>\n",
       "    </tr>\n",
       "  </thead>\n",
       "  <tbody>\n",
       "    <tr>\n",
       "      <th>0</th>\n",
       "      <td>1</td>\n",
       "      <td>Avatar: The Way of Water</td>\n",
       "      <td>Science Fiction-Adventure-Action</td>\n",
       "      <td>en</td>\n",
       "      <td>Set more than a decade after the events of the...</td>\n",
       "      <td>20th Century Studios-Lightstorm Entertainment</td>\n",
       "      <td>14-12-2022</td>\n",
       "      <td>192</td>\n",
       "      <td>7.751</td>\n",
       "      <td>6748</td>\n",
       "      <td>Sam Worthington-Zoe SaldaÃ±a-Sigourney Weaver-...</td>\n",
       "      <td>loss of loved one-dying and death-alien life-f...</td>\n",
       "      <td>https://image.tmdb.org/t/p/w500/t6HIqrRAclMCA6...</td>\n",
       "    </tr>\n",
       "    <tr>\n",
       "      <th>1</th>\n",
       "      <td>2</td>\n",
       "      <td>The Pope's Exorcist</td>\n",
       "      <td>Horror-Mystery-Thriller</td>\n",
       "      <td>en</td>\n",
       "      <td>Father Gabriele Amorth Chief Exorcist of the V...</td>\n",
       "      <td>Screen Gems-2.0 Entertainment-Jesus &amp; Mary-Wor...</td>\n",
       "      <td>05-04-2023</td>\n",
       "      <td>103</td>\n",
       "      <td>7.433</td>\n",
       "      <td>545</td>\n",
       "      <td>Russell Crowe-Daniel Zovatto-Alex Essoe-Franco...</td>\n",
       "      <td>spain-rome italy-vatican-pope-pig-possession-c...</td>\n",
       "      <td>https://image.tmdb.org/t/p/w500/9JBEPLTPSm0d1m...</td>\n",
       "    </tr>\n",
       "    <tr>\n",
       "      <th>2</th>\n",
       "      <td>3</td>\n",
       "      <td>Shazam! Fury of the Gods</td>\n",
       "      <td>Action-Comedy-Fantasy</td>\n",
       "      <td>en</td>\n",
       "      <td>Billy Batson and his foster siblings who trans...</td>\n",
       "      <td>New Line Cinema-The Safran Company-DC Films-Wa...</td>\n",
       "      <td>15-03-2023</td>\n",
       "      <td>130</td>\n",
       "      <td>6.840</td>\n",
       "      <td>1355</td>\n",
       "      <td>Zachary Levi-Asher Angel-Jack Dylan Grazer-Ada...</td>\n",
       "      <td>superhero-end of the world-super power-aftercr...</td>\n",
       "      <td>https://image.tmdb.org/t/p/w500/2VK4d3mqqTc7LV...</td>\n",
       "    </tr>\n",
       "    <tr>\n",
       "      <th>3</th>\n",
       "      <td>4</td>\n",
       "      <td>The Super Mario Bros. Movie</td>\n",
       "      <td>Animation-Adventure-Family-Fantasy-Comedy</td>\n",
       "      <td>en</td>\n",
       "      <td>While working underground to fix a water main ...</td>\n",
       "      <td>Universal Pictures-Illumination-Nintendo</td>\n",
       "      <td>05-04-2023</td>\n",
       "      <td>92</td>\n",
       "      <td>7.556</td>\n",
       "      <td>332</td>\n",
       "      <td>Chris Pratt-Anya Taylor-Joy-Charlie Day-Jack B...</td>\n",
       "      <td>video game-plumber-magic mushroom-based on vid...</td>\n",
       "      <td>https://image.tmdb.org/t/p/w500/qNBAXBIQlnOThr...</td>\n",
       "    </tr>\n",
       "    <tr>\n",
       "      <th>4</th>\n",
       "      <td>5</td>\n",
       "      <td>Ant-Man and the Wasp: Quantumania</td>\n",
       "      <td>Action-Adventure-Science Fiction</td>\n",
       "      <td>en</td>\n",
       "      <td>Super-Hero partners Scott Lang and Hope van Dy...</td>\n",
       "      <td>Marvel Studios-Kevin Feige Productions</td>\n",
       "      <td>15-02-2023</td>\n",
       "      <td>125</td>\n",
       "      <td>6.448</td>\n",
       "      <td>1547</td>\n",
       "      <td>Paul Rudd-Evangeline Lilly-Jonathan Majors-Kat...</td>\n",
       "      <td>hero-ant-sequel-superhero-based on comic-famil...</td>\n",
       "      <td>https://image.tmdb.org/t/p/w500/ngl2FKBlU4fhbd...</td>\n",
       "    </tr>\n",
       "  </tbody>\n",
       "</table>\n",
       "</div>"
      ],
      "text/plain": [
       "   movie_id                              title  \\\n",
       "0         1           Avatar: The Way of Water   \n",
       "1         2                The Pope's Exorcist   \n",
       "2         3           Shazam! Fury of the Gods   \n",
       "3         4        The Super Mario Bros. Movie   \n",
       "4         5  Ant-Man and the Wasp: Quantumania   \n",
       "\n",
       "                                      genres original_language  \\\n",
       "0           Science Fiction-Adventure-Action                en   \n",
       "1                    Horror-Mystery-Thriller                en   \n",
       "2                      Action-Comedy-Fantasy                en   \n",
       "3  Animation-Adventure-Family-Fantasy-Comedy                en   \n",
       "4           Action-Adventure-Science Fiction                en   \n",
       "\n",
       "                                            overview  \\\n",
       "0  Set more than a decade after the events of the...   \n",
       "1  Father Gabriele Amorth Chief Exorcist of the V...   \n",
       "2  Billy Batson and his foster siblings who trans...   \n",
       "3  While working underground to fix a water main ...   \n",
       "4  Super-Hero partners Scott Lang and Hope van Dy...   \n",
       "\n",
       "                                production_companies release_date runtime  \\\n",
       "0      20th Century Studios-Lightstorm Entertainment   14-12-2022     192   \n",
       "1  Screen Gems-2.0 Entertainment-Jesus & Mary-Wor...   05-04-2023     103   \n",
       "2  New Line Cinema-The Safran Company-DC Films-Wa...   15-03-2023     130   \n",
       "3           Universal Pictures-Illumination-Nintendo   05-04-2023      92   \n",
       "4             Marvel Studios-Kevin Feige Productions   15-02-2023     125   \n",
       "\n",
       "   vote_average  vote_count  \\\n",
       "0         7.751        6748   \n",
       "1         7.433         545   \n",
       "2         6.840        1355   \n",
       "3         7.556         332   \n",
       "4         6.448        1547   \n",
       "\n",
       "                                             credits  \\\n",
       "0  Sam Worthington-Zoe SaldaÃ±a-Sigourney Weaver-...   \n",
       "1  Russell Crowe-Daniel Zovatto-Alex Essoe-Franco...   \n",
       "2  Zachary Levi-Asher Angel-Jack Dylan Grazer-Ada...   \n",
       "3  Chris Pratt-Anya Taylor-Joy-Charlie Day-Jack B...   \n",
       "4  Paul Rudd-Evangeline Lilly-Jonathan Majors-Kat...   \n",
       "\n",
       "                                            keywords  \\\n",
       "0  loss of loved one-dying and death-alien life-f...   \n",
       "1  spain-rome italy-vatican-pope-pig-possession-c...   \n",
       "2  superhero-end of the world-super power-aftercr...   \n",
       "3  video game-plumber-magic mushroom-based on vid...   \n",
       "4  hero-ant-sequel-superhero-based on comic-famil...   \n",
       "\n",
       "                                         poster_path  \n",
       "0  https://image.tmdb.org/t/p/w500/t6HIqrRAclMCA6...  \n",
       "1  https://image.tmdb.org/t/p/w500/9JBEPLTPSm0d1m...  \n",
       "2  https://image.tmdb.org/t/p/w500/2VK4d3mqqTc7LV...  \n",
       "3  https://image.tmdb.org/t/p/w500/qNBAXBIQlnOThr...  \n",
       "4  https://image.tmdb.org/t/p/w500/ngl2FKBlU4fhbd...  "
      ]
     },
     "execution_count": 1,
     "metadata": {},
     "output_type": "execute_result"
    }
   ],
   "source": [
    "# loading the data from the movie excel \n",
    "import pandas as pd\n",
    "excel_path=\"movies.csv\"\n",
    "moviedata = pd.read_csv(excel_path, delimiter = ',')\n",
    "moviedata.head()"
   ]
  },
  {
   "cell_type": "markdown",
   "metadata": {
    "id": "asL8tc5MaBFv"
   },
   "source": [
    "### Creating the a new Database"
   ]
  },
  {
   "cell_type": "code",
   "execution_count": 2,
   "metadata": {
    "id": "MzHU9jdXMBZE"
   },
   "outputs": [
    {
     "name": "stdout",
     "output_type": "stream",
     "text": [
      "Database is created\n"
     ]
    }
   ],
   "source": [
    "#Creating the a new Database\n",
    "import mysql.connector as msql\n",
    "from mysql.connector import Error\n",
    "try:\n",
    "    conn = msql.connect(host='localhost', user='root',  \n",
    "                        password='@Temp2023')#give ur username, password\n",
    "    if conn.is_connected():\n",
    "        cursor = conn.cursor()\n",
    "        cursor.execute(\"drop DATABASE movies\")\n",
    "        cursor.execute(\"create DATABASE movies\")\n",
    "        print(\"Database is created\")\n",
    "except Error as e:\n",
    "    print(\"Error while connecting to MySQL\", e) "
   ]
  },
  {
   "cell_type": "markdown",
   "metadata": {
    "id": "azQ6m-FeZ8zt"
   },
   "source": [
    "### Loading the data to the database into the movie table "
   ]
  },
  {
   "cell_type": "code",
   "execution_count": 3,
   "metadata": {
    "id": "f5vvSStDMOaN"
   },
   "outputs": [
    {
     "name": "stdout",
     "output_type": "stream",
     "text": [
      "You're connected to database:  ('movies',)\n",
      "Creating table....\n",
      "Table is created....\n",
      "Record inserted:-Avatar: The Way of Water\n",
      "Record inserted:-The Pope's Exorcist\n",
      "Record inserted:-Shazam! Fury of the Gods\n",
      "Record inserted:-The Super Mario Bros. Movie\n",
      "Record inserted:-Ant-Man and the Wasp: Quantumania\n",
      "Record inserted:-Creed III\n",
      "Record inserted:-Knock at the Cabin\n",
      "Record inserted:-Guardians of the Galaxy Volume 3\n",
      "Record inserted:-Plane\n",
      "Record inserted:-Black Panther: Wakanda Forever\n",
      "Record inserted:-Scream VI\n",
      "Record inserted:-The Eighth Clause\n",
      "Record inserted:-Puss in Boots: The Last Wish\n",
      "Record inserted:-Evil Dead Rise\n",
      "Record inserted:-John Wick: Chapter 4\n",
      "Record inserted:-Lord of the Streets\n",
      "Record inserted:-A Man Called Otto\n",
      "Record inserted:-Huesera: The Bone Woman\n",
      "Record inserted:-Dungeons & Dragons: Honor Among Thieves\n",
      "Record inserted:-Narvik\n",
      "Record inserted:-Ghosted\n",
      "Record inserted:-Diabolik - Ginko all'attacco!\n",
      "Record inserted:-65\n",
      "Record inserted:-Shotgun Wedding\n",
      "Record inserted:-M3GAN\n",
      "Record inserted:-Cocaine Bear\n",
      "Record inserted:-The Forbidden Legend: Sex & Chopsticks 2\n",
      "Record inserted:-Transfusion\n",
      "Record inserted:-Berlin Drifters\n",
      "Record inserted:-There Are No Saints\n",
      "Record inserted:-Black Adam\n",
      "Record inserted:-Padre no hay mÃ¡s que uno 3\n",
      "Record inserted:-The Nights Belong to Monsters\n",
      "Record inserted:-JUNG_E\n",
      "Record inserted:-The Whale\n",
      "Record inserted:-Fast X\n",
      "Record inserted:-Bar Fight\n",
      "Record inserted:-The Trip 6\n",
      "Record inserted:-Devotion\n",
      "Record inserted:-Alien Sniperess\n",
      "Record inserted:-Dark Blood\n",
      "Record inserted:-We Have a Ghost\n",
      "Record inserted:-Roald Dahl's Matilda the Musical\n",
      "Record inserted:-Unicorn Wars\n",
      "Record inserted:-Troll\n",
      "Record inserted:-Prey for the Devil\n",
      "Record inserted:-Choose or Die\n",
      "Record inserted:-Venus\n",
      "Record inserted:-Blood\n",
      "Record inserted:-Super Mario Brothers: Great Mission to Rescue Princess Peach\n",
      "Record inserted:-Candy Land\n",
      "Record inserted:-Lecciones para canallas\n",
      "Record inserted:-The Enforcer\n",
      "Record inserted:-Avatar: Scene Deconstruction\n",
      "Record inserted:-Viking Wolf\n",
      "Record inserted:-The Pale Blue Eye\n",
      "Record inserted:-Dolphin Boy\n",
      "Record inserted:-The Offering\n",
      "Record inserted:-Demon Slayer -Kimetsu no Yaiba- The Movie: Mugen Train\n",
      "Record inserted:-Evil Eye\n",
      "Record inserted:-Big Trip 2: Special Delivery\n",
      "Record inserted:-Glass Onion: A Knives Out Mystery\n",
      "Record inserted:-Bandit\n",
      "Record inserted:-Sniper: The White Raven\n",
      "Record inserted:-Spider-Man: No Way Home\n",
      "Record inserted:-Violent Night\n",
      "Record inserted:-Ritual\n",
      "Record inserted:-The Woman King\n",
      "Record inserted:-Babylon\n",
      "Record inserted:-Thor: Love and Thunder\n",
      "Record inserted:-Somebody I Used to Know\n",
      "Record inserted:-Scream\n",
      "Record inserted:-Top Gun: Maverick\n",
      "Record inserted:-Prizefighter: The Life of Jem Belcher\n",
      "Record inserted:-Medieval\n",
      "Record inserted:-My Name Is Vendetta\n",
      "Record inserted:-The Chronicles of Narnia: The Lion, the Witch and the Wardrobe\n",
      "Record inserted:-Everything Everywhere All at Once\n",
      "Record inserted:-Guillermo del Toro's Pinocchio\n",
      "Record inserted:-Wolf Hound\n",
      "Record inserted:-Me contro Te: Il film - Persi nel tempo\n",
      "Record inserted:-The Batman\n",
      "Record inserted:-Demon Slayer: Kimetsu no Yaiba Mt. Natagumo Arc\n",
      "Record inserted:-Terrifier 2\n",
      "Record inserted:-A Frozen Rooster\n",
      "Record inserted:-Little Lies\n",
      "Record inserted:-Battle: Freestyle\n",
      "Record inserted:-Rubius X\n",
      "Record inserted:-Creed II\n",
      "Record inserted:-Jurassic World Dominion\n",
      "Record inserted:-In the Forest\n",
      "Record inserted:-Jujutsu Kaisen 0\n",
      "Record inserted:-Creed\n",
      "Record inserted:-Strange World\n",
      "Record inserted:-Knights of the Zodiac\n",
      "Record inserted:-Teen Wolf: The Movie\n",
      "Record inserted:-Beast\n",
      "Record inserted:-Avatar: Creating the World of Pandora\n",
      "Record inserted:-Missing\n",
      "Record inserted:-Avengers: Infinity War\n",
      "Record inserted:-S.O.S. Mamis: La pelÃ­cula\n",
      "Record inserted:-Diary of a Wimpy Kid: Rodrick Rules\n",
      "Record inserted:-Dragon Ball Super: Super Hero\n",
      "Record inserted:-Bullet Train\n",
      "Record inserted:-There's Something Wrong with the Children\n",
      "Record inserted:-Sonic the Hedgehog 2\n",
      "Record inserted:-Unlocked\n",
      "Record inserted:-Avatar\n",
      "Record inserted:-Disenchanted\n",
      "Record inserted:-Demon Slayer: Kimetsu no Yaiba the Hashira Meeting Arc\n",
      "Record inserted:-Savage Salvation\n",
      "Record inserted:-Chasing Love Time Machine\n",
      "Record inserted:-Abandoned\n",
      "Record inserted:-Suzume\n",
      "Record inserted:-Encanto\n",
      "Record inserted:-One Punch Man: Road to Hero\n",
      "Record inserted:-The Lair\n",
      "Record inserted:-Retirement Home\n",
      "Record inserted:-Hacksaw Ridge\n",
      "Record inserted:-Your Place or Mine\n",
      "Record inserted:-Project Gemini\n",
      "Record inserted:-Minions: The Rise of Gru\n",
      "Table is altered....\n"
     ]
    }
   ],
   "source": [
    "#Loading the data to the database into the movie table \n",
    "import mysql.connector as mysql\n",
    "from mysql.connector import Error\n",
    "try:\n",
    "    conn = mysql.connect(host='localhost', database='movies', user='root', password='@Temp2023')\n",
    "    if conn.is_connected():\n",
    "        cursor = conn.cursor()\n",
    "        cursor.execute(\"select database();\")\n",
    "        record = cursor.fetchone()\n",
    "        print(\"You're connected to database: \", record)\n",
    "        cursor.execute('DROP TABLE IF EXISTS movie_data;')\n",
    "        print('Creating table....')\n",
    "        # in the below line please pass the create table statement which you want #to create\n",
    "        cursor.execute(\"CREATE TABLE movie_data(movie_id int primary key,movie_title TEXT, genres TEXT, original_language varchar(255),overview TEXT,production TEXT,release_date varchar(255),runtime varchar(255),voter_rating varchar(255),voters_count varchar(255),credits TEXT,keywords TEXT,Poster_path varchar(255))\")\n",
    "        print(\"Table is created....\")\n",
    "        #loop through the data frame\n",
    "        for i,row in moviedata.iterrows():\n",
    "            #here %S means string values \n",
    "            sql = \"INSERT INTO movies.movie_data VALUES (%s,%s,%s,%s,%s,%s,%s,%s,%s,%s,%s,%s,%s)\"\n",
    "            cursor.execute(sql, tuple(row))\n",
    "            print(\"Record inserted:-\" + row[1])\n",
    "            # the connection is not auto committed by default, so we must commit to save our changes\n",
    "            conn.commit()\n",
    "        cursor.execute(\"ALTER TABLE movies.movie_data add poster_image longblob;\")\n",
    "        print(\"Table is altered....\")\n",
    "        # the connection is not auto committed by default, so we must commit to save our changes\n",
    "        conn.commit()\n",
    "except Error as e:\n",
    "            print(\"Error while connecting to MySQL\", e)"
   ]
  },
  {
   "cell_type": "markdown",
   "metadata": {
    "id": "d0Cu2e-rRBDM"
   },
   "source": [
    "### Downloading and inserting the poster images to the movie table in the movie database created\n",
    "\n",
    "The below code can be tweak by setting the limits to the movie id column such that we can insert the desired number of movie poster images required. "
   ]
  },
  {
   "cell_type": "code",
   "execution_count": 4,
   "metadata": {
    "id": "aoXIxmJARMZi"
   },
   "outputs": [
    {
     "name": "stdout",
     "output_type": "stream",
     "text": [
      "You're connected to database:  ('movies',)\n",
      "122\n",
      "1:- Avatar: The Way of Water:-https://image.tmdb.org/t/p/w500/t6HIqrRAclMCA60NsSmeqe9RmNV.jpg\n",
      "1:- Avatar: The Way of Water :- image inserted\n",
      "2:- The Pope's Exorcist:-https://image.tmdb.org/t/p/w500/9JBEPLTPSm0d1mbEcLxULjJq9Eh.jpg\n",
      "2:- The Pope's Exorcist :- image inserted\n",
      "3:- Shazam! Fury of the Gods:-https://image.tmdb.org/t/p/w500/2VK4d3mqqTc7LVZLnLPeRiPaJ71.jpg\n",
      "3:- Shazam! Fury of the Gods :- image inserted\n",
      "4:- The Super Mario Bros. Movie:-https://image.tmdb.org/t/p/w500/qNBAXBIQlnOThrVvA6mA2B5ggV6.jpg\n",
      "4:- The Super Mario Bros. Movie :- image inserted\n",
      "5:- Ant-Man and the Wasp: Quantumania:-https://image.tmdb.org/t/p/w500/ngl2FKBlU4fhbdsrtdom9LVLBXw.jpg\n",
      "5:- Ant-Man and the Wasp: Quantumania :- image inserted\n",
      "6:- Creed III:-https://image.tmdb.org/t/p/w500/cvsXj3I9Q2iyyIo95AecSd1tad7.jpg\n",
      "6:- Creed III :- image inserted\n",
      "7:- Knock at the Cabin:-https://image.tmdb.org/t/p/w500/dm06L9pxDOL9jNSK4Cb6y139rrG.jpg\n",
      "7:- Knock at the Cabin :- image inserted\n",
      "8:- Guardians of the Galaxy Volume 3:-https://image.tmdb.org/t/p/w500/r2J02Z2OpNTctfOSN1Ydgii51I3.jpg\n",
      "8:- Guardians of the Galaxy Volume 3 :- image inserted\n",
      "9:- Plane:-https://image.tmdb.org/t/p/w500/qi9r5xBgcc9KTxlOLjssEbDgO0J.jpg\n",
      "9:- Plane :- image inserted\n",
      "10:- Black Panther: Wakanda Forever:-https://image.tmdb.org/t/p/w500/sv1xJUazXeYqALzczSZ3O6nkH75.jpg\n",
      "10:- Black Panther: Wakanda Forever :- image inserted\n",
      "11:- Scream VI:-https://image.tmdb.org/t/p/w500/wDWwtvkRRlgTiUr6TyLSMX8FCuZ.jpg\n",
      "11:- Scream VI :- image inserted\n",
      "12:- The Eighth Clause:-https://image.tmdb.org/t/p/w500/8tc8eMFAX2SDC1TRu987qFQy8Cl.jpg\n",
      "12:- The Eighth Clause :- image inserted\n",
      "13:- Puss in Boots: The Last Wish:-https://image.tmdb.org/t/p/w500/kuf6dutpsT0vSVehic3EZIqkOBt.jpg\n",
      "13:- Puss in Boots: The Last Wish :- image inserted\n",
      "14:- Evil Dead Rise:-https://image.tmdb.org/t/p/w500/mIBCtPvKZQlxubxKMeViO2UrP3q.jpg\n",
      "14:- Evil Dead Rise :- image inserted\n",
      "15:- John Wick: Chapter 4:-https://image.tmdb.org/t/p/w500/vZloFAK7NmvMGKE7VkF5UHaz0I.jpg\n",
      "15:- John Wick: Chapter 4 :- image inserted\n",
      "16:- Lord of the Streets:-https://image.tmdb.org/t/p/w500/n9YWVQRc0zw0nwrFcOkOpffZxjc.jpg\n",
      "16:- Lord of the Streets :- image inserted\n",
      "17:- A Man Called Otto:-https://image.tmdb.org/t/p/w500/130H1gap9lFfiTF9iDrqNIkFvC9.jpg\n",
      "17:- A Man Called Otto :- image inserted\n",
      "18:- Huesera: The Bone Woman:-https://image.tmdb.org/t/p/w500/7NhG3NClQ1xrc3kEwTiwFht5Y3L.jpg\n",
      "18:- Huesera: The Bone Woman :- image inserted\n",
      "19:- Dungeons & Dragons: Honor Among Thieves:-https://image.tmdb.org/t/p/w500/v7UF7ypAqjsFZFdjksjQ7IUpXdn.jpg\n",
      "19:- Dungeons & Dragons: Honor Among Thieves :- image inserted\n",
      "20:- Narvik:-https://image.tmdb.org/t/p/w500/gU4mmINWUF294Wzi8mqRvi6peMe.jpg\n",
      "20:- Narvik :- image inserted\n",
      "21:- Ghosted:-https://image.tmdb.org/t/p/w500/liLN69YgoovHVgmlHJ876PKi5Yi.jpg\n",
      "21:- Ghosted :- image inserted\n",
      "22:- Diabolik - Ginko all'attacco!:-https://image.tmdb.org/t/p/w500/8QVbWBv94BAT9u1q9uJccwOxMzt.jpg\n",
      "22:- Diabolik - Ginko all'attacco! :- image inserted\n",
      "23:- 65:-https://image.tmdb.org/t/p/w500/rzRb63TldOKdKydCvWJM8B6EkPM.jpg\n",
      "23:- 65 :- image inserted\n",
      "24:- Shotgun Wedding:-https://image.tmdb.org/t/p/w500/t79ozwWnwekO0ADIzsFP1E5SkvR.jpg\n",
      "24:- Shotgun Wedding :- image inserted\n",
      "25:- M3GAN:-https://image.tmdb.org/t/p/w500/d9nBoowhjiiYc4FBNtQkPY7c11H.jpg\n",
      "25:- M3GAN :- image inserted\n",
      "26:- Cocaine Bear:-https://image.tmdb.org/t/p/w500/gOnmaxHo0412UVr1QM5Nekv1xPi.jpg\n",
      "26:- Cocaine Bear :- image inserted\n",
      "27:- The Forbidden Legend: Sex & Chopsticks 2:-https://image.tmdb.org/t/p/w500/A1yymig7S0FTWv9cTtOwdI1cH5V.jpg\n",
      "27:- The Forbidden Legend: Sex & Chopsticks 2 :- image inserted\n",
      "28:- Transfusion:-https://image.tmdb.org/t/p/w500/bxh5xCCW9Ynfg6EZJWUkc1zqTnr.jpg\n",
      "28:- Transfusion :- image inserted\n",
      "29:- Berlin Drifters:-https://image.tmdb.org/t/p/w500/aH0yHU915NibzznpB2Zks2c6Z9O.jpg\n",
      "29:- Berlin Drifters :- image inserted\n",
      "30:- There Are No Saints:-https://image.tmdb.org/t/p/w500/fcOTYArjKuAgufwHoTvx8w9UKCv.jpg\n",
      "30:- There Are No Saints :- image inserted\n",
      "31:- Black Adam:-https://image.tmdb.org/t/p/w500/pFlaoHTZeyNkG83vxsAJiGzfSsa.jpg\n",
      "31:- Black Adam :- image inserted\n",
      "32:- Padre no hay mÃ¡s que uno 3:-https://image.tmdb.org/t/p/w500/rmFURMXlphmrGr8gItXkuHqg43G.jpg\n",
      "32:- Padre no hay mÃ¡s que uno 3 :- image inserted\n",
      "33:- The Nights Belong to Monsters:-https://image.tmdb.org/t/p/w500/cYNfI1WHxMm0JhCXEX9qUUOv8C3.jpg\n",
      "33:- The Nights Belong to Monsters :- image inserted\n",
      "34:- JUNG_E:-https://image.tmdb.org/t/p/w500/z2nfRxZCGFgAnVhb9pZO87TyTX5.jpg\n",
      "34:- JUNG_E :- image inserted\n",
      "35:- The Whale:-https://image.tmdb.org/t/p/w500/jQ0gylJMxWSL490sy0RrPj1Lj7e.jpg\n",
      "35:- The Whale :- image inserted\n",
      "36:- Fast X:-https://image.tmdb.org/t/p/w500/jwMMQR69Xz9AYtX4u2uYJgfAAev.jpg\n",
      "36:- Fast X :- image inserted\n",
      "37:- Bar Fight:-https://image.tmdb.org/t/p/w500/wz3LJM9tVUgatlS1WhedZRju1ON.jpg\n",
      "37:- Bar Fight :- image inserted\n",
      "38:- The Trip 6:-https://image.tmdb.org/t/p/w500/5vSFW0rxMDZg8j5cr0JICBDSrGM.jpg\n",
      "38:- The Trip 6 :- image inserted\n",
      "39:- Devotion:-https://image.tmdb.org/t/p/w500/lwybGlEEJtXZM3ynY19PNwNlPn9.jpg\n",
      "39:- Devotion :- image inserted\n",
      "40:- Alien Sniperess:-https://image.tmdb.org/t/p/w500/bI1ZDRkerXrcaFa5kWjEMw80aqE.jpg\n",
      "40:- Alien Sniperess :- image inserted\n",
      "41:- Dark Blood:-https://image.tmdb.org/t/p/w500/v78bAY02eCUv7lkpEpOVlRkqZDJ.jpg\n",
      "41:- Dark Blood :- image inserted\n",
      "42:- We Have a Ghost:-https://image.tmdb.org/t/p/w500/xo0fgAUoEeVQ7KsKeMWypyglvnf.jpg\n",
      "42:- We Have a Ghost :- image inserted\n",
      "43:- Roald Dahl's Matilda the Musical:-https://image.tmdb.org/t/p/w500/ga8R3OiOMMgSvZ4cOj8x7prUNYZ.jpg\n",
      "43:- Roald Dahl's Matilda the Musical :- image inserted\n",
      "44:- Unicorn Wars:-https://image.tmdb.org/t/p/w500/8KBj11zBaRdhoeq1q9jcAwKmDSk.jpg\n",
      "44:- Unicorn Wars :- image inserted\n",
      "45:- Troll:-https://image.tmdb.org/t/p/w500/9z4jRr43JdtU66P0iy8h18OyLql.jpg\n",
      "45:- Troll :- image inserted\n",
      "46:- Prey for the Devil:-https://image.tmdb.org/t/p/w500/iCvgemXf2Kpr2LvpDmt5J9NhjKM.jpg\n",
      "46:- Prey for the Devil :- image inserted\n",
      "47:- Choose or Die:-https://image.tmdb.org/t/p/w500/jEYE5BPFd5FuPa1judcjpW6xqKp.jpg\n",
      "47:- Choose or Die :- image inserted\n",
      "48:- Venus:-https://image.tmdb.org/t/p/w500/yGpJbft7JQpQHHHasRr4wWdVcuJ.jpg\n",
      "48:- Venus :- image inserted\n",
      "49:- Blood:-https://image.tmdb.org/t/p/w500/gCUFtTvjK4gbmjVxhx8bhyOhAeW.jpg\n",
      "49:- Blood :- image inserted\n",
      "50:- Super Mario Brothers: Great Mission to Rescue Princess Peach:-https://image.tmdb.org/t/p/w500/d8466YAgDFZmsrWmgizPcUQMsIx.jpg\n",
      "50:- Super Mario Brothers: Great Mission to Rescue Princess Peach :- image inserted\n",
      "51:- Candy Land:-https://image.tmdb.org/t/p/w500/r7ZipEd9oHHVVXTcvbx3Sd3Tukv.jpg\n",
      "51:- Candy Land :- image inserted\n",
      "52:- Lecciones para canallas:-https://image.tmdb.org/t/p/w500/AP9kVisL0Xo4GNBQVNa8qv1yLo.jpg\n",
      "52:- Lecciones para canallas :- image inserted\n",
      "53:- The Enforcer:-https://image.tmdb.org/t/p/w500/pXC8JJbfnRWtbD8i2yKFqqWEO4X.jpg\n",
      "53:- The Enforcer :- image inserted\n",
      "54:- Avatar: Scene Deconstruction:-https://image.tmdb.org/t/p/w500/uCreCQFReeF0RiIXkQypRYHwikx.jpg\n",
      "54:- Avatar: Scene Deconstruction :- image inserted\n",
      "55:- Viking Wolf:-https://image.tmdb.org/t/p/w500/abBDzmy35A3Nkupn6wK2DKyFamd.jpg\n",
      "55:- Viking Wolf :- image inserted\n",
      "56:- The Pale Blue Eye:-https://image.tmdb.org/t/p/w500/9xkGlFRqrN8btTLU0KQvOfn2PHr.jpg\n",
      "56:- The Pale Blue Eye :- image inserted\n",
      "57:- Dolphin Boy:-https://image.tmdb.org/t/p/w500/gISoDEiaUH9BNEunmLC7FgUVaia.jpg\n",
      "57:- Dolphin Boy :- image inserted\n",
      "58:- The Offering:-https://image.tmdb.org/t/p/w500/tbaTFgGIaTL1Uhd0SMob6Dhi5cK.jpg\n",
      "58:- The Offering :- image inserted\n",
      "59:- Demon Slayer -Kimetsu no Yaiba- The Movie: Mugen Train:-https://image.tmdb.org/t/p/w500/h8Rb9gBr48ODIwYUttZNYeMWeUU.jpg\n",
      "59:- Demon Slayer -Kimetsu no Yaiba- The Movie: Mugen Train :- image inserted\n",
      "60:- Evil Eye:-https://image.tmdb.org/t/p/w500/vcym9A0idLCFI1iIMRFiXKRvnbs.jpg\n",
      "60:- Evil Eye :- image inserted\n",
      "61:- Big Trip 2: Special Delivery:-https://image.tmdb.org/t/p/w500/dabXVfrAFfhDte8XVemom3mTJog.jpg\n",
      "61:- Big Trip 2: Special Delivery :- image inserted\n",
      "62:- Glass Onion: A Knives Out Mystery:-https://image.tmdb.org/t/p/w500/vDGr1YdrlfbU9wxTOdpf3zChmv9.jpg\n",
      "62:- Glass Onion: A Knives Out Mystery :- image inserted\n",
      "63:- Bandit:-https://image.tmdb.org/t/p/w500/yph9PAbmjYPvyvbeZvdYIhCZHEu.jpg\n",
      "63:- Bandit :- image inserted\n",
      "64:- Sniper: The White Raven:-https://image.tmdb.org/t/p/w500/lZOODJzwuQo0etJJyBBZJOSdZcW.jpg\n",
      "64:- Sniper: The White Raven :- image inserted\n",
      "65:- Spider-Man: No Way Home:-https://image.tmdb.org/t/p/w500/uJYYizSuA9Y3DCs0qS4qWvHfZg4.jpg\n"
     ]
    },
    {
     "name": "stdout",
     "output_type": "stream",
     "text": [
      "65:- Spider-Man: No Way Home :- image inserted\n",
      "66:- Violent Night:-https://image.tmdb.org/t/p/w500/1XSYOP0JjjyMz1irihvWywro82r.jpg\n",
      "66:- Violent Night :- image inserted\n",
      "67:- Ritual:-https://image.tmdb.org/t/p/w500/9i4v0kITWH4xVdTN0JgNjwKf3CY.jpg\n",
      "67:- Ritual :- image inserted\n",
      "68:- The Woman King:-https://image.tmdb.org/t/p/w500/438QXt1E3WJWb3PqNniK0tAE5c1.jpg\n",
      "68:- The Woman King :- image inserted\n",
      "69:- Babylon:-https://image.tmdb.org/t/p/w500/wjOHjWCUE0YzDiEzKv8AfqHj3ir.jpg\n",
      "69:- Babylon :- image inserted\n",
      "70:- Thor: Love and Thunder:-https://image.tmdb.org/t/p/w500/pIkRyD18kl4FhoCNQuWxWu5cBLM.jpg\n",
      "70:- Thor: Love and Thunder :- image inserted\n",
      "71:- Somebody I Used to Know:-https://image.tmdb.org/t/p/w500/ovHxxphDgjyEpYriDoGoIHfrdZL.jpg\n",
      "71:- Somebody I Used to Know :- image inserted\n",
      "72:- Scream:-https://image.tmdb.org/t/p/w500/fFE6E9jRKaiy7LHxk4jH1jIWzyT.jpg\n",
      "72:- Scream :- image inserted\n",
      "73:- Top Gun: Maverick:-https://image.tmdb.org/t/p/w500/62HCnUTziyWcpDaBO2i1DX17ljH.jpg\n",
      "73:- Top Gun: Maverick :- image inserted\n",
      "74:- Prizefighter: The Life of Jem Belcher:-https://image.tmdb.org/t/p/w500/x3PIk93PTbxT88ohfeb26L1VpZw.jpg\n",
      "74:- Prizefighter: The Life of Jem Belcher :- image inserted\n",
      "75:- Medieval:-https://image.tmdb.org/t/p/w500/eeUNWsdoiOijOZAMaWFDA5Pb1n8.jpg\n",
      "75:- Medieval :- image inserted\n",
      "76:- My Name Is Vendetta:-https://image.tmdb.org/t/p/w500/7l3war94J4tRyWUiLAGokr3ViF2.jpg\n",
      "76:- My Name Is Vendetta :- image inserted\n",
      "77:- The Chronicles of Narnia: The Lion, the Witch and the Wardrobe:-https://image.tmdb.org/t/p/w500/iREd0rNCjYdf5Ar0vfaW32yrkm.jpg\n",
      "77:- The Chronicles of Narnia: The Lion, the Witch and the Wardrobe :- image inserted\n",
      "78:- Everything Everywhere All at Once:-https://image.tmdb.org/t/p/w500/w3LxiVYdWWRvEVdn5RYq6jIqkb1.jpg\n",
      "78:- Everything Everywhere All at Once :- image inserted\n",
      "79:- Guillermo del Toro's Pinocchio:-https://image.tmdb.org/t/p/w500/vx1u0uwxdlhV2MUzj4VlcMB0N6m.jpg\n",
      "79:- Guillermo del Toro's Pinocchio :- image inserted\n",
      "80:- Wolf Hound:-https://image.tmdb.org/t/p/w500/gHC0eFvXXNokP3sSNCTG2uks87R.jpg\n",
      "80:- Wolf Hound :- image inserted\n",
      "81:- Me contro Te: Il film - Persi nel tempo:-https://image.tmdb.org/t/p/w500/18URyTcpuJOrbPDrld9v4YGh8gk.jpg\n",
      "81:- Me contro Te: Il film - Persi nel tempo :- image inserted\n",
      "82:- The Batman:-https://image.tmdb.org/t/p/w500/74xTEgt7R36Fpooo50r9T25onhq.jpg\n",
      "82:- The Batman :- image inserted\n",
      "83:- Demon Slayer: Kimetsu no Yaiba Mt. Natagumo Arc:-https://image.tmdb.org/t/p/w500/wq1UG5lPCKpOJgmgpKJszKvoMUe.jpg\n",
      "83:- Demon Slayer: Kimetsu no Yaiba Mt. Natagumo Arc :- image inserted\n",
      "84:- Terrifier 2:-https://image.tmdb.org/t/p/w500/8gLhu8UFPZfH2Hv11JhTZkb9CVl.jpg\n",
      "84:- Terrifier 2 :- image inserted\n",
      "85:- A Frozen Rooster:-https://image.tmdb.org/t/p/w500/gBBCBMXKzWRADtliUYfV69aVIcz.jpg\n",
      "85:- A Frozen Rooster :- image inserted\n",
      "86:- Little Lies:-https://image.tmdb.org/t/p/w500/s3NoPF6LAKDl3KUGkZsYPX9ionc.jpg\n",
      "86:- Little Lies :- image inserted\n",
      "87:- Battle: Freestyle:-https://image.tmdb.org/t/p/w500/6D6QumiHEhnpZG12Ibjy2BxA6n4.jpg\n",
      "87:- Battle: Freestyle :- image inserted\n",
      "88:- Rubius X:-https://image.tmdb.org/t/p/w500/k6KAAVebtdVb0FRU2PWqYLnhgRA.jpg\n",
      "88:- Rubius X :- image inserted\n",
      "89:- Creed II:-https://image.tmdb.org/t/p/w500/v3QyboWRoA4O9RbcsqH8tJMe8EB.jpg\n",
      "89:- Creed II :- image inserted\n",
      "90:- Jurassic World Dominion:-https://image.tmdb.org/t/p/w500/kAVRgw7GgK1CfYEJq8ME6EvRIgU.jpg\n",
      "90:- Jurassic World Dominion :- image inserted\n",
      "91:- In the Forest:-https://image.tmdb.org/t/p/w500/pWKTaGN9WMcKHKAir9POsKm4vEo.jpg\n",
      "91:- In the Forest :- image inserted\n",
      "92:- Jujutsu Kaisen 0:-https://image.tmdb.org/t/p/w500/23oJaeBh0FDk2mQ2P240PU9Xxfh.jpg\n",
      "92:- Jujutsu Kaisen 0 :- image inserted\n",
      "93:- Creed:-https://image.tmdb.org/t/p/w500/1BfTsk5VWuw8FCocAhCyqnRbEzq.jpg\n",
      "93:- Creed :- image inserted\n",
      "94:- Strange World:-https://image.tmdb.org/t/p/w500/fHMqfsYyl3lskPK2RiFRwhzwuep.jpg\n",
      "94:- Strange World :- image inserted\n",
      "95:- Knights of the Zodiac:-https://image.tmdb.org/t/p/w500/ixLxaRJrJZoN3pg6tc2RAsheYmV.jpg\n",
      "95:- Knights of the Zodiac :- image inserted\n",
      "96:- Teen Wolf: The Movie:-https://image.tmdb.org/t/p/w500/wAkpPm3wcHRqZl8XjUI3Y2chYq2.jpg\n",
      "96:- Teen Wolf: The Movie :- image inserted\n",
      "97:- Beast:-https://image.tmdb.org/t/p/w500/xIGr7UHsKf0URWmyyd5qFMAq4d8.jpg\n",
      "97:- Beast :- image inserted\n",
      "98:- Avatar: Creating the World of Pandora:-https://image.tmdb.org/t/p/w500/d9oqcfeCyc3zmMal6eJbfj3gatc.jpg\n",
      "98:- Avatar: Creating the World of Pandora :- image inserted\n",
      "99:- Missing:-https://image.tmdb.org/t/p/w500/jYXJW19PMEUrpyavEHrnnlItQn1.jpg\n",
      "99:- Missing :- image inserted\n",
      "100:- Avengers: Infinity War:-https://image.tmdb.org/t/p/w500/7WsyChQLEftFiDOVTGkv3hFpyyt.jpg\n",
      "100:- Avengers: Infinity War :- image inserted\n",
      "101:- S.O.S. Mamis: La pelÃ­cula:-https://image.tmdb.org/t/p/w500/dubFxWUiXW4QzOygVsChYYIuzfx.jpg\n",
      "101:- S.O.S. Mamis: La pelÃ­cula :- image inserted\n",
      "102:- Diary of a Wimpy Kid: Rodrick Rules:-https://image.tmdb.org/t/p/w500/iW6ixzkrvdrcxk0umiLZMtlSl9L.jpg\n",
      "102:- Diary of a Wimpy Kid: Rodrick Rules :- image inserted\n",
      "103:- Dragon Ball Super: Super Hero:-https://image.tmdb.org/t/p/w500/rugyJdeoJm7cSJL1q4jBpTNbxyU.jpg\n",
      "103:- Dragon Ball Super: Super Hero :- image inserted\n",
      "104:- Bullet Train:-https://image.tmdb.org/t/p/w500/tVxDe01Zy3kZqaZRNiXFGDICdZk.jpg\n",
      "104:- Bullet Train :- image inserted\n",
      "105:- There's Something Wrong with the Children:-https://image.tmdb.org/t/p/w500/e49Sr3Lxfk2psYhv1SzQjs7MeGo.jpg\n",
      "105:- There's Something Wrong with the Children :- image inserted\n",
      "106:- Sonic the Hedgehog 2:-https://image.tmdb.org/t/p/w500/6DrHO1jr3qVrViUO6s6kFiAGM7.jpg\n",
      "106:- Sonic the Hedgehog 2 :- image inserted\n",
      "107:- Unlocked:-https://image.tmdb.org/t/p/w500/oGHr8yUOXtVK0mGoZURZqqbwXXj.jpg\n",
      "107:- Unlocked :- image inserted\n",
      "108:- Avatar:-https://image.tmdb.org/t/p/w500/jRXYjXNq0Cs2TcJjLkki24MLp7u.jpg\n",
      "108:- Avatar :- image inserted\n",
      "109:- Disenchanted:-https://image.tmdb.org/t/p/w500/uyNLq2Dc3s4IOdcYTU8ZtM2lTjb.jpg\n",
      "109:- Disenchanted :- image inserted\n",
      "110:- Demon Slayer: Kimetsu no Yaiba the Hashira Meeting Arc:-https://image.tmdb.org/t/p/w500/j1FpReEQXp8JsgNQZcfGvzeXNoI.jpg\n",
      "110:- Demon Slayer: Kimetsu no Yaiba the Hashira Meeting Arc :- image inserted\n",
      "111:- Savage Salvation:-https://image.tmdb.org/t/p/w500/fJRt3mmZEvf8gQzoNLzjPtWpc9o.jpg\n",
      "111:- Savage Salvation :- image inserted\n",
      "112:- Chasing Love Time Machine:-https://image.tmdb.org/t/p/w500/eogWnCOhRVl9qxEjH8VLycfJGOb.jpg\n",
      "112:- Chasing Love Time Machine :- image inserted\n",
      "113:- Abandoned:-https://image.tmdb.org/t/p/w500/cO9ywQ2AMHM9EoBJsJGH1Gl9U5L.jpg\n",
      "113:- Abandoned :- image inserted\n",
      "114:- Suzume:-https://image.tmdb.org/t/p/w500/vIeu8WysZrTSFb2uhPViKjX9EcC.jpg\n",
      "114:- Suzume :- image inserted\n",
      "115:- Encanto:-https://image.tmdb.org/t/p/w500/4j0PNHkMr5ax3IA8tjtxcmPU3QT.jpg\n",
      "115:- Encanto :- image inserted\n",
      "116:- One Punch Man: Road to Hero:-https://image.tmdb.org/t/p/w500/bMNkufYM0kaDRJ0OVSHF91Ftdyr.jpg\n",
      "116:- One Punch Man: Road to Hero :- image inserted\n",
      "117:- The Lair:-https://image.tmdb.org/t/p/w500/ifRFLx83Xk1DcwAS3OScgI6HmWO.jpg\n",
      "117:- The Lair :- image inserted\n",
      "118:- Retirement Home:-https://image.tmdb.org/t/p/w500/lLrCA0MaLFZS518fkaeMUavJOGG.jpg\n",
      "118:- Retirement Home :- image inserted\n",
      "119:- Hacksaw Ridge:-https://image.tmdb.org/t/p/w500/jhWbYeUNOA5zAb6ufK6pXQFXqTX.jpg\n",
      "119:- Hacksaw Ridge :- image inserted\n",
      "120:- Your Place or Mine:-https://image.tmdb.org/t/p/w500/ApkSeqfIPRCxOtfjXYYE6Ji7jVU.jpg\n",
      "120:- Your Place or Mine :- image inserted\n",
      "121:- Project Gemini:-https://image.tmdb.org/t/p/w500/eX6tDFp4RhhjZaa1HUDUzFGPWYk.jpg\n",
      "121:- Project Gemini :- image inserted\n",
      "122:- Minions: The Rise of Gru:-https://image.tmdb.org/t/p/w500/wKiOkZTN9lUUUNZLmtnwubZYONg.jpg\n",
      "122:- Minions: The Rise of Gru :- image inserted\n"
     ]
    }
   ],
   "source": [
    "import mysql.connector as mysql\n",
    "from mysql.connector import Error\n",
    "import requests\n",
    "import shutil\n",
    "from smart_open import open\n",
    "\n",
    "\n",
    "from azure.storage.blob import BlobServiceClient\n",
    "\n",
    "connect_str = 'DefaultEndpointsProtocol=https;AccountName=visrecstorage;AccountKey=q3Wvmg9bF4oPqZYdXV6PJ2+XPDfD3z4FckngdyHGMyCGE5zHMgqKPVNVk3AxGdjERc28EHGBVEE2+AStDSPpVw==;EndpointSuffix=core.windows.net'\n",
    "transport_params = {\n",
    "    'client': BlobServiceClient.from_connection_string(connect_str),\n",
    "}\n",
    "\n",
    "\n",
    "def convert_data(file_name):\n",
    "    with open(file_name, 'rb', transport_params=transport_params) as file:\n",
    "        binary_data = file.read()\n",
    "    return binary_data\n",
    "\n",
    "try:\n",
    "    conn = mysql.connect(host='localhost', database='movies', user='root', password='@Temp2023')\n",
    "    if conn.is_connected():\n",
    "        cursor = conn.cursor()\n",
    "        cursor.execute(\"select database();\")\n",
    "        record = cursor.fetchone()\n",
    "        print(\"You're connected to database: \", record)\n",
    "        cursor.execute(\"SELECT * FROM movies.movie_data where movie_id > 0 &&  movie_id < 100000\")\n",
    "        myresult = cursor.fetchall()\n",
    "        print(len(myresult))\n",
    "        for x in myresult:\n",
    "            filename = \"azure://posters/\"+str(x[0])+\".jpg\"\n",
    "            # Open the url image, set stream to True, this will return the stream content.\n",
    "            print(str(x[0])+\":- \"+x[1] + \":-\"+ x[12])\n",
    "            r = requests.get(x[12], stream = True)\n",
    "            # Check if the image was retrieved successfully\n",
    "            if r.status_code == 200:\n",
    "                # Set decode_content value to True, otherwise the downloaded image file's size will be zero.\n",
    "                r.raw.decode_content = True\n",
    "                # Open a local file with wb ( write binary ) permission.\n",
    "                with open(filename,'wb', transport_params=transport_params) as f:\n",
    "                    shutil.copyfileobj(r.raw, f)\n",
    "                imagedata=convert_data(filename)\n",
    "                sql = \"Update movies.movie_data set poster_image = %s where movie_id = %s\"\n",
    "                cursor.execute(sql, (imagedata, x[0]))\n",
    "                print(str(x[0])+\":- \"+x[1] + \" :- image inserted\")\n",
    "                conn.commit()\n",
    "except Error as e:\n",
    "        print(\"Error while connecting to MySQL\", e)"
   ]
  },
  {
   "cell_type": "markdown",
   "metadata": {
    "id": "pPJ7PgDDRdUQ"
   },
   "source": [
    "## 3.Feature Extraction\n",
    "Here we are using the `ResNet50` model and `ImageNet` weights for the feature extraction through transfer learning."
   ]
  },
  {
   "cell_type": "markdown",
   "metadata": {
    "id": "xfml5iwPZZZ6"
   },
   "source": [
    "### `ResNet50` \n",
    "ResNet-50 is a convolutional neural network (CNN) model, that has a deep architecture consisting of 50 layers, including convolutional layers, pooling layers, fully connected layers, and shortcut connections known as skip connections.\n",
    "\n",
    "The input to ResNet-50 is typically a 224x224 RGB image, and the output is a vector of probabilities representing the predicted probabilities of different classes. The model is trained using a large dataset, such as ImageNet, where it learns to classify images into one of the 1,000 predefined classes. ResNet-50 has also been used as a starting point for transfer learning, where the pre-trained model is fine-tuned on a specific task using a smaller dataset"
   ]
  },
  {
   "cell_type": "markdown",
   "metadata": {
    "id": "561M2r6eZjU5"
   },
   "source": [
    "###`ImageNet`\n",
    "The ImageNet weights refer to the pre-trained weights of a neural network model, specifically trained on the ImageNet dataset. The ImageNet dataset is a large-scale dataset containing millions of labeled images belonging to thousands of different categories."
   ]
  },
  {
   "cell_type": "markdown",
   "metadata": {
    "id": "afAILbxZT1Er"
   },
   "source": [
    "\n",
    "### Genres list\n",
    "\n",
    "There are approximation of 19 genres associated in the movie data base \n",
    "The following are the list of the genres \n",
    "\n",
    "1.Action, \n",
    "2.Adventure,\n",
    "3.Animation,\n",
    "4.Comedy,\n",
    "5.Crime,\n",
    "6.Documentary,\n",
    "7.Drama,\n",
    "8.Family,\n",
    "9.Fantasy,\n",
    "10.History,\n",
    "11.Horror,\n",
    "12.Music,\n",
    "13.Mystery,\n",
    "14.Romance,\n",
    "15.Science Fiction,\n",
    "16.Thriller,\n",
    "17.TV Movie,\n",
    "18.War,\n",
    "19.Western,"
   ]
  },
  {
   "cell_type": "markdown",
   "metadata": {
    "id": "cLGNoHygZpdW"
   },
   "source": [
    "### Genre wise feature extraction from the poster images\n"
   ]
  },
  {
   "cell_type": "code",
   "execution_count": 35,
   "metadata": {
    "id": "Ox8qp80sTVwE"
   },
   "outputs": [
    {
     "name": "stdout",
     "output_type": "stream",
     "text": [
      "You're connected to database:  ('movies',)\n"
     ]
    },
    {
     "name": "stderr",
     "output_type": "stream",
     "text": [
      "\n",
      "  0%|                                                                                           | 0/47 [00:00<?, ?it/s]\u001b[A"
     ]
    },
    {
     "name": "stdout",
     "output_type": "stream",
     "text": [
      "1/1 [==============================] - 3s 3s/step\n"
     ]
    },
    {
     "name": "stderr",
     "output_type": "stream",
     "text": [
      "\n",
      "  2%|█▊                                                                                 | 1/47 [00:03<02:45,  3.60s/it]\u001b[A"
     ]
    },
    {
     "name": "stdout",
     "output_type": "stream",
     "text": [
      "1/1 [==============================] - 0s 220ms/step\n"
     ]
    },
    {
     "name": "stderr",
     "output_type": "stream",
     "text": [
      "\n",
      "  4%|███▌                                                                               | 2/47 [00:03<01:15,  1.67s/it]\u001b[A"
     ]
    },
    {
     "name": "stdout",
     "output_type": "stream",
     "text": [
      "1/1 [==============================] - 0s 216ms/step\n"
     ]
    },
    {
     "name": "stderr",
     "output_type": "stream",
     "text": [
      "\n",
      "  6%|█████▎                                                                             | 3/47 [00:04<00:46,  1.07s/it]\u001b[A"
     ]
    },
    {
     "name": "stdout",
     "output_type": "stream",
     "text": [
      "1/1 [==============================] - 0s 217ms/step\n"
     ]
    },
    {
     "name": "stderr",
     "output_type": "stream",
     "text": [
      "\n",
      "  9%|███████                                                                            | 4/47 [00:04<00:33,  1.29it/s]\u001b[A"
     ]
    },
    {
     "name": "stdout",
     "output_type": "stream",
     "text": [
      "1/1 [==============================] - 0s 224ms/step\n"
     ]
    },
    {
     "name": "stderr",
     "output_type": "stream",
     "text": [
      "\n",
      " 11%|████████▊                                                                          | 5/47 [00:04<00:26,  1.59it/s]\u001b[A"
     ]
    },
    {
     "name": "stdout",
     "output_type": "stream",
     "text": [
      "1/1 [==============================] - 0s 218ms/step\n"
     ]
    },
    {
     "name": "stderr",
     "output_type": "stream",
     "text": [
      "\n",
      " 13%|██████████▌                                                                        | 6/47 [00:05<00:21,  1.89it/s]\u001b[A"
     ]
    },
    {
     "name": "stdout",
     "output_type": "stream",
     "text": [
      "1/1 [==============================] - 0s 191ms/step\n"
     ]
    },
    {
     "name": "stderr",
     "output_type": "stream",
     "text": [
      "\n",
      " 15%|████████████▎                                                                      | 7/47 [00:05<00:18,  2.18it/s]\u001b[A"
     ]
    },
    {
     "name": "stdout",
     "output_type": "stream",
     "text": [
      "1/1 [==============================] - 0s 223ms/step\n"
     ]
    },
    {
     "name": "stderr",
     "output_type": "stream",
     "text": [
      "\n",
      " 17%|██████████████▏                                                                    | 8/47 [00:05<00:16,  2.34it/s]\u001b[A"
     ]
    },
    {
     "name": "stdout",
     "output_type": "stream",
     "text": [
      "1/1 [==============================] - 0s 219ms/step\n"
     ]
    },
    {
     "name": "stderr",
     "output_type": "stream",
     "text": [
      "\n",
      " 19%|███████████████▉                                                                   | 9/47 [00:06<00:15,  2.43it/s]\u001b[A"
     ]
    },
    {
     "name": "stdout",
     "output_type": "stream",
     "text": [
      "1/1 [==============================] - 0s 225ms/step\n"
     ]
    },
    {
     "name": "stderr",
     "output_type": "stream",
     "text": [
      "\n",
      " 21%|█████████████████▍                                                                | 10/47 [00:06<00:14,  2.56it/s]\u001b[A"
     ]
    },
    {
     "name": "stdout",
     "output_type": "stream",
     "text": [
      "1/1 [==============================] - 0s 215ms/step\n"
     ]
    },
    {
     "name": "stderr",
     "output_type": "stream",
     "text": [
      "\n",
      " 23%|███████████████████▏                                                              | 11/47 [00:07<00:13,  2.70it/s]\u001b[A"
     ]
    },
    {
     "name": "stdout",
     "output_type": "stream",
     "text": [
      "1/1 [==============================] - 0s 221ms/step\n"
     ]
    },
    {
     "name": "stderr",
     "output_type": "stream",
     "text": [
      "\n",
      " 26%|████████████████████▉                                                             | 12/47 [00:07<00:12,  2.74it/s]\u001b[A"
     ]
    },
    {
     "name": "stdout",
     "output_type": "stream",
     "text": [
      "1/1 [==============================] - 0s 222ms/step\n"
     ]
    },
    {
     "name": "stderr",
     "output_type": "stream",
     "text": [
      "\n",
      " 28%|██████████████████████▋                                                           | 13/47 [00:07<00:12,  2.76it/s]\u001b[A"
     ]
    },
    {
     "name": "stdout",
     "output_type": "stream",
     "text": [
      "1/1 [==============================] - 0s 227ms/step\n"
     ]
    },
    {
     "name": "stderr",
     "output_type": "stream",
     "text": [
      "\n",
      " 30%|████████████████████████▍                                                         | 14/47 [00:08<00:11,  2.79it/s]\u001b[A"
     ]
    },
    {
     "name": "stdout",
     "output_type": "stream",
     "text": [
      "1/1 [==============================] - 0s 243ms/step\n"
     ]
    },
    {
     "name": "stderr",
     "output_type": "stream",
     "text": [
      "\n",
      " 32%|██████████████████████████▏                                                       | 15/47 [00:08<00:11,  2.77it/s]\u001b[A"
     ]
    },
    {
     "name": "stdout",
     "output_type": "stream",
     "text": [
      "1/1 [==============================] - 0s 232ms/step\n"
     ]
    },
    {
     "name": "stderr",
     "output_type": "stream",
     "text": [
      "\n",
      " 34%|███████████████████████████▉                                                      | 16/47 [00:08<00:11,  2.71it/s]\u001b[A"
     ]
    },
    {
     "name": "stdout",
     "output_type": "stream",
     "text": [
      "1/1 [==============================] - 0s 226ms/step\n"
     ]
    },
    {
     "name": "stderr",
     "output_type": "stream",
     "text": [
      "\n",
      " 36%|█████████████████████████████▋                                                    | 17/47 [00:09<00:11,  2.71it/s]\u001b[A"
     ]
    },
    {
     "name": "stdout",
     "output_type": "stream",
     "text": [
      "1/1 [==============================] - 0s 222ms/step\n"
     ]
    },
    {
     "name": "stderr",
     "output_type": "stream",
     "text": [
      "\n",
      " 38%|███████████████████████████████▍                                                  | 18/47 [00:09<00:10,  2.80it/s]\u001b[A"
     ]
    },
    {
     "name": "stdout",
     "output_type": "stream",
     "text": [
      "1/1 [==============================] - 0s 212ms/step\n"
     ]
    },
    {
     "name": "stderr",
     "output_type": "stream",
     "text": [
      "\n",
      " 40%|█████████████████████████████████▏                                                | 19/47 [00:09<00:09,  2.86it/s]\u001b[A"
     ]
    },
    {
     "name": "stdout",
     "output_type": "stream",
     "text": [
      "1/1 [==============================] - 0s 237ms/step\n"
     ]
    },
    {
     "name": "stderr",
     "output_type": "stream",
     "text": [
      "\n",
      " 43%|██████████████████████████████████▉                                               | 20/47 [00:10<00:09,  2.86it/s]\u001b[A"
     ]
    },
    {
     "name": "stdout",
     "output_type": "stream",
     "text": [
      "1/1 [==============================] - 0s 238ms/step\n"
     ]
    },
    {
     "name": "stderr",
     "output_type": "stream",
     "text": [
      "\n",
      " 45%|████████████████████████████████████▋                                             | 21/47 [00:10<00:09,  2.76it/s]\u001b[A"
     ]
    },
    {
     "name": "stdout",
     "output_type": "stream",
     "text": [
      "1/1 [==============================] - 0s 231ms/step\n"
     ]
    },
    {
     "name": "stderr",
     "output_type": "stream",
     "text": [
      "\n",
      " 47%|██████████████████████████████████████▍                                           | 22/47 [00:10<00:08,  2.78it/s]\u001b[A"
     ]
    },
    {
     "name": "stdout",
     "output_type": "stream",
     "text": [
      "1/1 [==============================] - 0s 223ms/step\n"
     ]
    },
    {
     "name": "stderr",
     "output_type": "stream",
     "text": [
      "\n",
      " 49%|████████████████████████████████████████▏                                         | 23/47 [00:11<00:08,  2.77it/s]\u001b[A"
     ]
    },
    {
     "name": "stdout",
     "output_type": "stream",
     "text": [
      "1/1 [==============================] - 0s 216ms/step\n"
     ]
    },
    {
     "name": "stderr",
     "output_type": "stream",
     "text": [
      "\n",
      " 51%|█████████████████████████████████████████▊                                        | 24/47 [00:11<00:08,  2.85it/s]\u001b[A"
     ]
    },
    {
     "name": "stdout",
     "output_type": "stream",
     "text": [
      "1/1 [==============================] - 0s 218ms/step\n"
     ]
    },
    {
     "name": "stderr",
     "output_type": "stream",
     "text": [
      "\n",
      " 53%|███████████████████████████████████████████▌                                      | 25/47 [00:12<00:07,  2.86it/s]\u001b[A"
     ]
    },
    {
     "name": "stdout",
     "output_type": "stream",
     "text": [
      "1/1 [==============================] - 0s 212ms/step\n"
     ]
    },
    {
     "name": "stderr",
     "output_type": "stream",
     "text": [
      "\n",
      " 55%|█████████████████████████████████████████████▎                                    | 26/47 [00:12<00:07,  2.90it/s]\u001b[A"
     ]
    },
    {
     "name": "stdout",
     "output_type": "stream",
     "text": [
      "1/1 [==============================] - 0s 244ms/step\n"
     ]
    },
    {
     "name": "stderr",
     "output_type": "stream",
     "text": [
      "\n",
      " 57%|███████████████████████████████████████████████                                   | 27/47 [00:12<00:07,  2.82it/s]\u001b[A"
     ]
    },
    {
     "name": "stdout",
     "output_type": "stream",
     "text": [
      "1/1 [==============================] - 0s 226ms/step\n"
     ]
    },
    {
     "name": "stderr",
     "output_type": "stream",
     "text": [
      "\n",
      " 60%|████████████████████████████████████████████████▊                                 | 28/47 [00:13<00:06,  2.84it/s]\u001b[A"
     ]
    },
    {
     "name": "stdout",
     "output_type": "stream",
     "text": [
      "1/1 [==============================] - 0s 228ms/step\n"
     ]
    },
    {
     "name": "stderr",
     "output_type": "stream",
     "text": [
      "\n",
      " 62%|██████████████████████████████████████████████████▌                               | 29/47 [00:13<00:06,  2.83it/s]\u001b[A"
     ]
    },
    {
     "name": "stdout",
     "output_type": "stream",
     "text": [
      "1/1 [==============================] - 0s 250ms/step\n"
     ]
    },
    {
     "name": "stderr",
     "output_type": "stream",
     "text": [
      "\n",
      " 64%|████████████████████████████████████████████████████▎                             | 30/47 [00:13<00:06,  2.71it/s]\u001b[A"
     ]
    },
    {
     "name": "stdout",
     "output_type": "stream",
     "text": [
      "1/1 [==============================] - 0s 233ms/step\n"
     ]
    },
    {
     "name": "stderr",
     "output_type": "stream",
     "text": [
      "\n",
      " 66%|██████████████████████████████████████████████████████                            | 31/47 [00:14<00:05,  2.71it/s]\u001b[A"
     ]
    },
    {
     "name": "stdout",
     "output_type": "stream",
     "text": [
      "1/1 [==============================] - 0s 224ms/step\n"
     ]
    },
    {
     "name": "stderr",
     "output_type": "stream",
     "text": [
      "\n",
      " 68%|███████████████████████████████████████████████████████▊                          | 32/47 [00:14<00:05,  2.78it/s]\u001b[A"
     ]
    },
    {
     "name": "stdout",
     "output_type": "stream",
     "text": [
      "1/1 [==============================] - 0s 239ms/step\n"
     ]
    },
    {
     "name": "stderr",
     "output_type": "stream",
     "text": [
      "\n",
      " 70%|█████████████████████████████████████████████████████████▌                        | 33/47 [00:14<00:05,  2.70it/s]\u001b[A"
     ]
    },
    {
     "name": "stdout",
     "output_type": "stream",
     "text": [
      "1/1 [==============================] - 0s 217ms/step\n"
     ]
    },
    {
     "name": "stderr",
     "output_type": "stream",
     "text": [
      "\n",
      " 72%|███████████████████████████████████████████████████████████▎                      | 34/47 [00:15<00:04,  2.73it/s]\u001b[A"
     ]
    },
    {
     "name": "stdout",
     "output_type": "stream",
     "text": [
      "1/1 [==============================] - 0s 226ms/step\n"
     ]
    },
    {
     "name": "stderr",
     "output_type": "stream",
     "text": [
      "\n",
      " 74%|█████████████████████████████████████████████████████████████                     | 35/47 [00:15<00:04,  2.74it/s]\u001b[A"
     ]
    },
    {
     "name": "stdout",
     "output_type": "stream",
     "text": [
      "1/1 [==============================] - 0s 237ms/step\n"
     ]
    },
    {
     "name": "stderr",
     "output_type": "stream",
     "text": [
      "\n",
      " 77%|██████████████████████████████████████████████████████████████▊                   | 36/47 [00:15<00:03,  2.79it/s]\u001b[A"
     ]
    },
    {
     "name": "stdout",
     "output_type": "stream",
     "text": [
      "1/1 [==============================] - 0s 224ms/step\n"
     ]
    },
    {
     "name": "stderr",
     "output_type": "stream",
     "text": [
      "\n",
      " 79%|████████████████████████████████████████████████████████████████▌                 | 37/47 [00:16<00:03,  2.73it/s]\u001b[A"
     ]
    },
    {
     "name": "stdout",
     "output_type": "stream",
     "text": [
      "1/1 [==============================] - 0s 225ms/step\n"
     ]
    },
    {
     "name": "stderr",
     "output_type": "stream",
     "text": [
      "\n",
      " 81%|██████████████████████████████████████████████████████████████████▎               | 38/47 [00:16<00:03,  2.73it/s]\u001b[A"
     ]
    },
    {
     "name": "stdout",
     "output_type": "stream",
     "text": [
      "1/1 [==============================] - 0s 233ms/step\n"
     ]
    },
    {
     "name": "stderr",
     "output_type": "stream",
     "text": [
      "\n",
      " 83%|████████████████████████████████████████████████████████████████████              | 39/47 [00:17<00:02,  2.78it/s]\u001b[A"
     ]
    },
    {
     "name": "stdout",
     "output_type": "stream",
     "text": [
      "1/1 [==============================] - 0s 224ms/step\n"
     ]
    },
    {
     "name": "stderr",
     "output_type": "stream",
     "text": [
      "\n",
      " 85%|█████████████████████████████████████████████████████████████████████▊            | 40/47 [00:17<00:02,  2.83it/s]\u001b[A"
     ]
    },
    {
     "name": "stdout",
     "output_type": "stream",
     "text": [
      "1/1 [==============================] - 0s 225ms/step\n"
     ]
    },
    {
     "name": "stderr",
     "output_type": "stream",
     "text": [
      "\n",
      " 87%|███████████████████████████████████████████████████████████████████████▌          | 41/47 [00:17<00:02,  2.82it/s]\u001b[A"
     ]
    },
    {
     "name": "stdout",
     "output_type": "stream",
     "text": [
      "1/1 [==============================] - 0s 222ms/step\n"
     ]
    },
    {
     "name": "stderr",
     "output_type": "stream",
     "text": [
      "\n",
      " 89%|█████████████████████████████████████████████████████████████████████████▎        | 42/47 [00:18<00:01,  2.86it/s]\u001b[A"
     ]
    },
    {
     "name": "stdout",
     "output_type": "stream",
     "text": [
      "1/1 [==============================] - 0s 220ms/step\n"
     ]
    },
    {
     "name": "stderr",
     "output_type": "stream",
     "text": [
      "\n",
      " 91%|███████████████████████████████████████████████████████████████████████████       | 43/47 [00:18<00:01,  2.91it/s]\u001b[A"
     ]
    },
    {
     "name": "stdout",
     "output_type": "stream",
     "text": [
      "1/1 [==============================] - 0s 235ms/step\n"
     ]
    },
    {
     "name": "stderr",
     "output_type": "stream",
     "text": [
      "\n",
      " 94%|████████████████████████████████████████████████████████████████████████████▊     | 44/47 [00:18<00:01,  2.80it/s]\u001b[A"
     ]
    },
    {
     "name": "stdout",
     "output_type": "stream",
     "text": [
      "1/1 [==============================] - 0s 217ms/step\n"
     ]
    },
    {
     "name": "stderr",
     "output_type": "stream",
     "text": [
      "\n",
      " 96%|██████████████████████████████████████████████████████████████████████████████▌   | 45/47 [00:19<00:00,  2.80it/s]\u001b[A"
     ]
    },
    {
     "name": "stdout",
     "output_type": "stream",
     "text": [
      "1/1 [==============================] - 0s 213ms/step\n"
     ]
    },
    {
     "name": "stderr",
     "output_type": "stream",
     "text": [
      "\n",
      " 98%|████████████████████████████████████████████████████████████████████████████████▎ | 46/47 [00:19<00:00,  2.80it/s]\u001b[A"
     ]
    },
    {
     "name": "stdout",
     "output_type": "stream",
     "text": [
      "1/1 [==============================] - 0s 226ms/step\n"
     ]
    },
    {
     "name": "stderr",
     "output_type": "stream",
     "text": [
      "\n",
      "100%|██████████████████████████████████████████████████████████████████████████████████| 47/47 [00:19<00:00,  2.36it/s]\u001b[A"
     ]
    },
    {
     "name": "stdout",
     "output_type": "stream",
     "text": [
      "(47, 2048)\n"
     ]
    },
    {
     "name": "stderr",
     "output_type": "stream",
     "text": [
      "\n"
     ]
    },
    {
     "name": "stdout",
     "output_type": "stream",
     "text": [
      "47\n",
      "file has been loaded\n"
     ]
    },
    {
     "name": "stderr",
     "output_type": "stream",
     "text": [
      "\n",
      "  0%|                                                                                           | 0/26 [00:00<?, ?it/s]\u001b[A"
     ]
    },
    {
     "name": "stdout",
     "output_type": "stream",
     "text": [
      "1/1 [==============================] - 0s 191ms/step\n"
     ]
    },
    {
     "name": "stderr",
     "output_type": "stream",
     "text": [
      "\n",
      "  4%|███▏                                                                               | 1/26 [00:00<00:07,  3.37it/s]\u001b[A"
     ]
    },
    {
     "name": "stdout",
     "output_type": "stream",
     "text": [
      "1/1 [==============================] - 0s 215ms/step\n"
     ]
    },
    {
     "name": "stderr",
     "output_type": "stream",
     "text": [
      "\n",
      "  8%|██████▍                                                                            | 2/26 [00:00<00:07,  3.21it/s]\u001b[A"
     ]
    },
    {
     "name": "stdout",
     "output_type": "stream",
     "text": [
      "1/1 [==============================] - 0s 191ms/step\n"
     ]
    },
    {
     "name": "stderr",
     "output_type": "stream",
     "text": [
      "\n",
      " 12%|█████████▌                                                                         | 3/26 [00:00<00:06,  3.32it/s]\u001b[A"
     ]
    },
    {
     "name": "stdout",
     "output_type": "stream",
     "text": [
      "1/1 [==============================] - 0s 237ms/step\n"
     ]
    },
    {
     "name": "stderr",
     "output_type": "stream",
     "text": [
      "\n",
      " 15%|████████████▊                                                                      | 4/26 [00:01<00:07,  3.13it/s]\u001b[A"
     ]
    },
    {
     "name": "stdout",
     "output_type": "stream",
     "text": [
      "1/1 [==============================] - 0s 228ms/step\n"
     ]
    },
    {
     "name": "stderr",
     "output_type": "stream",
     "text": [
      "\n",
      " 19%|███████████████▉                                                                   | 5/26 [00:01<00:07,  2.92it/s]\u001b[A"
     ]
    },
    {
     "name": "stdout",
     "output_type": "stream",
     "text": [
      "1/1 [==============================] - 0s 206ms/step\n"
     ]
    },
    {
     "name": "stderr",
     "output_type": "stream",
     "text": [
      "\n",
      " 23%|███████████████████▏                                                               | 6/26 [00:01<00:06,  2.92it/s]\u001b[A"
     ]
    },
    {
     "name": "stdout",
     "output_type": "stream",
     "text": [
      "1/1 [==============================] - 0s 195ms/step\n"
     ]
    },
    {
     "name": "stderr",
     "output_type": "stream",
     "text": [
      "\n",
      " 27%|██████████████████████▎                                                            | 7/26 [00:02<00:06,  2.90it/s]\u001b[A"
     ]
    },
    {
     "name": "stdout",
     "output_type": "stream",
     "text": [
      "1/1 [==============================] - 0s 214ms/step\n"
     ]
    },
    {
     "name": "stderr",
     "output_type": "stream",
     "text": [
      "\n",
      " 31%|█████████████████████████▌                                                         | 8/26 [00:02<00:06,  2.88it/s]\u001b[A"
     ]
    },
    {
     "name": "stdout",
     "output_type": "stream",
     "text": [
      "1/1 [==============================] - 0s 212ms/step\n"
     ]
    },
    {
     "name": "stderr",
     "output_type": "stream",
     "text": [
      "\n",
      " 35%|████████████████████████████▋                                                      | 9/26 [00:02<00:05,  2.99it/s]\u001b[A"
     ]
    },
    {
     "name": "stdout",
     "output_type": "stream",
     "text": [
      "1/1 [==============================] - 0s 194ms/step\n"
     ]
    },
    {
     "name": "stderr",
     "output_type": "stream",
     "text": [
      "\n",
      " 38%|███████████████████████████████▌                                                  | 10/26 [00:03<00:05,  3.06it/s]\u001b[A"
     ]
    },
    {
     "name": "stdout",
     "output_type": "stream",
     "text": [
      "1/1 [==============================] - 0s 222ms/step\n"
     ]
    },
    {
     "name": "stderr",
     "output_type": "stream",
     "text": [
      "\n",
      " 42%|██████████████████████████████████▋                                               | 11/26 [00:03<00:04,  3.03it/s]\u001b[A"
     ]
    },
    {
     "name": "stdout",
     "output_type": "stream",
     "text": [
      "1/1 [==============================] - 0s 245ms/step\n"
     ]
    },
    {
     "name": "stderr",
     "output_type": "stream",
     "text": [
      "\n",
      " 46%|█████████████████████████████████████▊                                            | 12/26 [00:04<00:04,  2.82it/s]\u001b[A"
     ]
    },
    {
     "name": "stdout",
     "output_type": "stream",
     "text": [
      "1/1 [==============================] - 0s 221ms/step\n"
     ]
    },
    {
     "name": "stderr",
     "output_type": "stream",
     "text": [
      "\n",
      " 50%|█████████████████████████████████████████                                         | 13/26 [00:04<00:04,  2.79it/s]\u001b[A"
     ]
    },
    {
     "name": "stdout",
     "output_type": "stream",
     "text": [
      "1/1 [==============================] - 0s 221ms/step\n"
     ]
    },
    {
     "name": "stderr",
     "output_type": "stream",
     "text": [
      "\n",
      " 54%|████████████████████████████████████████████▏                                     | 14/26 [00:04<00:04,  2.80it/s]\u001b[A"
     ]
    },
    {
     "name": "stdout",
     "output_type": "stream",
     "text": [
      "1/1 [==============================] - 0s 228ms/step\n"
     ]
    },
    {
     "name": "stderr",
     "output_type": "stream",
     "text": [
      "\n",
      " 58%|███████████████████████████████████████████████▎                                  | 15/26 [00:05<00:03,  2.80it/s]\u001b[A"
     ]
    },
    {
     "name": "stdout",
     "output_type": "stream",
     "text": [
      "1/1 [==============================] - 0s 218ms/step\n"
     ]
    },
    {
     "name": "stderr",
     "output_type": "stream",
     "text": [
      "\n",
      " 62%|██████████████████████████████████████████████████▍                               | 16/26 [00:05<00:03,  2.82it/s]\u001b[A"
     ]
    },
    {
     "name": "stdout",
     "output_type": "stream",
     "text": [
      "1/1 [==============================] - 0s 224ms/step\n"
     ]
    },
    {
     "name": "stderr",
     "output_type": "stream",
     "text": [
      "\n",
      " 65%|█████████████████████████████████████████████████████▌                            | 17/26 [00:05<00:03,  2.81it/s]\u001b[A"
     ]
    },
    {
     "name": "stdout",
     "output_type": "stream",
     "text": [
      "1/1 [==============================] - 0s 212ms/step\n"
     ]
    },
    {
     "name": "stderr",
     "output_type": "stream",
     "text": [
      "\n",
      " 69%|████████████████████████████████████████████████████████▊                         | 18/26 [00:06<00:02,  2.80it/s]\u001b[A"
     ]
    },
    {
     "name": "stdout",
     "output_type": "stream",
     "text": [
      "1/1 [==============================] - 0s 221ms/step\n"
     ]
    },
    {
     "name": "stderr",
     "output_type": "stream",
     "text": [
      "\n",
      " 73%|███████████████████████████████████████████████████████████▉                      | 19/26 [00:06<00:02,  2.75it/s]\u001b[A"
     ]
    },
    {
     "name": "stdout",
     "output_type": "stream",
     "text": [
      "1/1 [==============================] - 0s 241ms/step\n"
     ]
    },
    {
     "name": "stderr",
     "output_type": "stream",
     "text": [
      "\n",
      " 77%|███████████████████████████████████████████████████████████████                   | 20/26 [00:06<00:02,  2.71it/s]\u001b[A"
     ]
    },
    {
     "name": "stdout",
     "output_type": "stream",
     "text": [
      "1/1 [==============================] - 0s 229ms/step\n"
     ]
    },
    {
     "name": "stderr",
     "output_type": "stream",
     "text": [
      "\n",
      " 81%|██████████████████████████████████████████████████████████████████▏               | 21/26 [00:07<00:01,  2.75it/s]\u001b[A"
     ]
    },
    {
     "name": "stdout",
     "output_type": "stream",
     "text": [
      "1/1 [==============================] - 0s 216ms/step\n"
     ]
    },
    {
     "name": "stderr",
     "output_type": "stream",
     "text": [
      "\n",
      " 85%|█████████████████████████████████████████████████████████████████████▍            | 22/26 [00:07<00:01,  2.80it/s]\u001b[A"
     ]
    },
    {
     "name": "stdout",
     "output_type": "stream",
     "text": [
      "1/1 [==============================] - 0s 225ms/step\n"
     ]
    },
    {
     "name": "stderr",
     "output_type": "stream",
     "text": [
      "\n",
      " 88%|████████████████████████████████████████████████████████████████████████▌         | 23/26 [00:08<00:01,  2.80it/s]\u001b[A"
     ]
    },
    {
     "name": "stdout",
     "output_type": "stream",
     "text": [
      "1/1 [==============================] - 0s 209ms/step\n"
     ]
    },
    {
     "name": "stderr",
     "output_type": "stream",
     "text": [
      "\n",
      " 92%|███████████████████████████████████████████████████████████████████████████▋      | 24/26 [00:08<00:00,  2.89it/s]\u001b[A"
     ]
    },
    {
     "name": "stdout",
     "output_type": "stream",
     "text": [
      "1/1 [==============================] - 0s 207ms/step\n"
     ]
    },
    {
     "name": "stderr",
     "output_type": "stream",
     "text": [
      "\n",
      " 96%|██████████████████████████████████████████████████████████████████████████████▊   | 25/26 [00:08<00:00,  2.87it/s]\u001b[A"
     ]
    },
    {
     "name": "stdout",
     "output_type": "stream",
     "text": [
      "1/1 [==============================] - 0s 222ms/step\n"
     ]
    },
    {
     "name": "stderr",
     "output_type": "stream",
     "text": [
      "\n",
      "100%|██████████████████████████████████████████████████████████████████████████████████| 26/26 [00:09<00:00,  2.87it/s]\u001b[A"
     ]
    },
    {
     "name": "stdout",
     "output_type": "stream",
     "text": [
      "(26, 2048)\n"
     ]
    },
    {
     "name": "stderr",
     "output_type": "stream",
     "text": [
      "\n"
     ]
    },
    {
     "name": "stdout",
     "output_type": "stream",
     "text": [
      "26\n",
      "file has been loaded\n"
     ]
    },
    {
     "name": "stderr",
     "output_type": "stream",
     "text": [
      "\n",
      "  0%|                                                                                           | 0/19 [00:00<?, ?it/s]\u001b[A"
     ]
    },
    {
     "name": "stdout",
     "output_type": "stream",
     "text": [
      "1/1 [==============================] - 0s 265ms/step\n"
     ]
    },
    {
     "name": "stderr",
     "output_type": "stream",
     "text": [
      "\n",
      "  5%|████▎                                                                              | 1/19 [00:00<00:07,  2.36it/s]\u001b[A"
     ]
    },
    {
     "name": "stdout",
     "output_type": "stream",
     "text": [
      "1/1 [==============================] - 0s 208ms/step\n"
     ]
    },
    {
     "name": "stderr",
     "output_type": "stream",
     "text": [
      "\n",
      " 11%|████████▋                                                                          | 2/19 [00:00<00:06,  2.79it/s]\u001b[A"
     ]
    },
    {
     "name": "stdout",
     "output_type": "stream",
     "text": [
      "1/1 [==============================] - 0s 227ms/step\n"
     ]
    },
    {
     "name": "stderr",
     "output_type": "stream",
     "text": [
      "\n",
      " 16%|█████████████                                                                      | 3/19 [00:01<00:05,  2.83it/s]\u001b[A"
     ]
    },
    {
     "name": "stdout",
     "output_type": "stream",
     "text": [
      "1/1 [==============================] - 0s 223ms/step\n"
     ]
    },
    {
     "name": "stderr",
     "output_type": "stream",
     "text": [
      "\n",
      " 21%|█████████████████▍                                                                 | 4/19 [00:01<00:05,  2.85it/s]\u001b[A"
     ]
    },
    {
     "name": "stdout",
     "output_type": "stream",
     "text": [
      "1/1 [==============================] - 0s 214ms/step\n"
     ]
    },
    {
     "name": "stderr",
     "output_type": "stream",
     "text": [
      "\n",
      " 26%|█████████████████████▊                                                             | 5/19 [00:01<00:04,  2.87it/s]\u001b[A"
     ]
    },
    {
     "name": "stdout",
     "output_type": "stream",
     "text": [
      "1/1 [==============================] - 0s 244ms/step\n"
     ]
    },
    {
     "name": "stderr",
     "output_type": "stream",
     "text": [
      "\n",
      " 32%|██████████████████████████▏                                                        | 6/19 [00:02<00:04,  2.74it/s]\u001b[A"
     ]
    },
    {
     "name": "stdout",
     "output_type": "stream",
     "text": [
      "1/1 [==============================] - 0s 240ms/step\n"
     ]
    },
    {
     "name": "stderr",
     "output_type": "stream",
     "text": [
      "\n",
      " 37%|██████████████████████████████▌                                                    | 7/19 [00:02<00:04,  2.74it/s]\u001b[A"
     ]
    },
    {
     "name": "stdout",
     "output_type": "stream",
     "text": [
      "1/1 [==============================] - 0s 243ms/step\n"
     ]
    },
    {
     "name": "stderr",
     "output_type": "stream",
     "text": [
      "\n",
      " 42%|██████████████████████████████████▉                                                | 8/19 [00:02<00:04,  2.73it/s]\u001b[A"
     ]
    },
    {
     "name": "stdout",
     "output_type": "stream",
     "text": [
      "1/1 [==============================] - 0s 201ms/step\n"
     ]
    },
    {
     "name": "stderr",
     "output_type": "stream",
     "text": [
      "\n",
      " 47%|███████████████████████████████████████▎                                           | 9/19 [00:03<00:03,  2.75it/s]\u001b[A"
     ]
    },
    {
     "name": "stdout",
     "output_type": "stream",
     "text": [
      "1/1 [==============================] - 0s 220ms/step\n"
     ]
    },
    {
     "name": "stderr",
     "output_type": "stream",
     "text": [
      "\n",
      " 53%|███████████████████████████████████████████▏                                      | 10/19 [00:03<00:03,  2.85it/s]\u001b[A"
     ]
    },
    {
     "name": "stdout",
     "output_type": "stream",
     "text": [
      "1/1 [==============================] - 0s 235ms/step\n"
     ]
    },
    {
     "name": "stderr",
     "output_type": "stream",
     "text": [
      "\n",
      " 58%|███████████████████████████████████████████████▍                                  | 11/19 [00:03<00:02,  2.84it/s]\u001b[A"
     ]
    },
    {
     "name": "stdout",
     "output_type": "stream",
     "text": [
      "1/1 [==============================] - 0s 203ms/step\n"
     ]
    },
    {
     "name": "stderr",
     "output_type": "stream",
     "text": [
      "\n",
      " 63%|███████████████████████████████████████████████████▊                              | 12/19 [00:04<00:02,  2.90it/s]\u001b[A"
     ]
    },
    {
     "name": "stdout",
     "output_type": "stream",
     "text": [
      "1/1 [==============================] - 0s 242ms/step\n"
     ]
    },
    {
     "name": "stderr",
     "output_type": "stream",
     "text": [
      "\n",
      " 68%|████████████████████████████████████████████████████████                          | 13/19 [00:04<00:02,  2.80it/s]\u001b[A"
     ]
    },
    {
     "name": "stdout",
     "output_type": "stream",
     "text": [
      "1/1 [==============================] - 0s 233ms/step\n"
     ]
    },
    {
     "name": "stderr",
     "output_type": "stream",
     "text": [
      "\n",
      " 74%|████████████████████████████████████████████████████████████▍                     | 14/19 [00:05<00:01,  2.75it/s]\u001b[A"
     ]
    },
    {
     "name": "stdout",
     "output_type": "stream",
     "text": [
      "1/1 [==============================] - 0s 231ms/step\n"
     ]
    },
    {
     "name": "stderr",
     "output_type": "stream",
     "text": [
      "\n",
      " 79%|████████████████████████████████████████████████████████████████▋                 | 15/19 [00:05<00:01,  2.78it/s]\u001b[A"
     ]
    },
    {
     "name": "stdout",
     "output_type": "stream",
     "text": [
      "1/1 [==============================] - 0s 220ms/step\n"
     ]
    },
    {
     "name": "stderr",
     "output_type": "stream",
     "text": [
      "\n",
      " 84%|█████████████████████████████████████████████████████████████████████             | 16/19 [00:05<00:01,  2.82it/s]\u001b[A"
     ]
    },
    {
     "name": "stdout",
     "output_type": "stream",
     "text": [
      "1/1 [==============================] - 0s 238ms/step\n"
     ]
    },
    {
     "name": "stderr",
     "output_type": "stream",
     "text": [
      "\n",
      " 89%|█████████████████████████████████████████████████████████████████████████▎        | 17/19 [00:06<00:00,  2.78it/s]\u001b[A"
     ]
    },
    {
     "name": "stdout",
     "output_type": "stream",
     "text": [
      "1/1 [==============================] - 0s 218ms/step\n"
     ]
    },
    {
     "name": "stderr",
     "output_type": "stream",
     "text": [
      "\n",
      " 95%|█████████████████████████████████████████████████████████████████████████████▋    | 18/19 [00:06<00:00,  2.79it/s]\u001b[A"
     ]
    },
    {
     "name": "stdout",
     "output_type": "stream",
     "text": [
      "1/1 [==============================] - 0s 234ms/step\n"
     ]
    },
    {
     "name": "stderr",
     "output_type": "stream",
     "text": [
      "\n",
      "100%|██████████████████████████████████████████████████████████████████████████████████| 19/19 [00:06<00:00,  2.79it/s]\u001b[A"
     ]
    },
    {
     "name": "stdout",
     "output_type": "stream",
     "text": [
      "(19, 2048)\n"
     ]
    },
    {
     "name": "stderr",
     "output_type": "stream",
     "text": [
      "\n"
     ]
    },
    {
     "name": "stdout",
     "output_type": "stream",
     "text": [
      "19\n",
      "file has been loaded\n"
     ]
    },
    {
     "name": "stderr",
     "output_type": "stream",
     "text": [
      "\n",
      "  0%|                                                                                           | 0/36 [00:00<?, ?it/s]\u001b[A"
     ]
    },
    {
     "name": "stdout",
     "output_type": "stream",
     "text": [
      "1/1 [==============================] - 0s 211ms/step\n"
     ]
    },
    {
     "name": "stderr",
     "output_type": "stream",
     "text": [
      "\n",
      "  3%|██▎                                                                                | 1/36 [00:00<00:12,  2.77it/s]\u001b[A"
     ]
    },
    {
     "name": "stdout",
     "output_type": "stream",
     "text": [
      "1/1 [==============================] - 0s 194ms/step\n"
     ]
    },
    {
     "name": "stderr",
     "output_type": "stream",
     "text": [
      "\n",
      "  6%|████▌                                                                              | 2/36 [00:00<00:11,  3.08it/s]\u001b[A"
     ]
    },
    {
     "name": "stdout",
     "output_type": "stream",
     "text": [
      "1/1 [==============================] - 0s 205ms/step\n"
     ]
    },
    {
     "name": "stderr",
     "output_type": "stream",
     "text": [
      "\n",
      "  8%|██████▉                                                                            | 3/36 [00:01<00:10,  3.00it/s]\u001b[A"
     ]
    },
    {
     "name": "stdout",
     "output_type": "stream",
     "text": [
      "1/1 [==============================] - 0s 202ms/step\n"
     ]
    },
    {
     "name": "stderr",
     "output_type": "stream",
     "text": [
      "\n",
      " 11%|█████████▏                                                                         | 4/36 [00:01<00:10,  3.05it/s]\u001b[A"
     ]
    },
    {
     "name": "stdout",
     "output_type": "stream",
     "text": [
      "1/1 [==============================] - 0s 196ms/step\n"
     ]
    },
    {
     "name": "stderr",
     "output_type": "stream",
     "text": [
      "\n",
      " 14%|███████████▌                                                                       | 5/36 [00:01<00:09,  3.11it/s]\u001b[A"
     ]
    },
    {
     "name": "stdout",
     "output_type": "stream",
     "text": [
      "1/1 [==============================] - 0s 214ms/step\n"
     ]
    },
    {
     "name": "stderr",
     "output_type": "stream",
     "text": [
      "\n",
      " 17%|█████████████▊                                                                     | 6/36 [00:01<00:09,  3.05it/s]\u001b[A"
     ]
    },
    {
     "name": "stdout",
     "output_type": "stream",
     "text": [
      "1/1 [==============================] - 0s 215ms/step\n"
     ]
    },
    {
     "name": "stderr",
     "output_type": "stream",
     "text": [
      "\n",
      " 19%|████████████████▏                                                                  | 7/36 [00:02<00:09,  3.08it/s]\u001b[A"
     ]
    },
    {
     "name": "stdout",
     "output_type": "stream",
     "text": [
      "1/1 [==============================] - 0s 232ms/step\n"
     ]
    },
    {
     "name": "stderr",
     "output_type": "stream",
     "text": [
      "\n",
      " 22%|██████████████████▍                                                                | 8/36 [00:02<00:09,  2.93it/s]\u001b[A"
     ]
    },
    {
     "name": "stdout",
     "output_type": "stream",
     "text": [
      "1/1 [==============================] - 0s 218ms/step\n"
     ]
    },
    {
     "name": "stderr",
     "output_type": "stream",
     "text": [
      "\n",
      " 25%|████████████████████▊                                                              | 9/36 [00:03<00:09,  2.85it/s]\u001b[A"
     ]
    },
    {
     "name": "stdout",
     "output_type": "stream",
     "text": [
      "1/1 [==============================] - 0s 182ms/step\n"
     ]
    },
    {
     "name": "stderr",
     "output_type": "stream",
     "text": [
      "\n",
      " 28%|██████████████████████▊                                                           | 10/36 [00:03<00:08,  3.02it/s]\u001b[A"
     ]
    },
    {
     "name": "stdout",
     "output_type": "stream",
     "text": [
      "1/1 [==============================] - 0s 225ms/step\n"
     ]
    },
    {
     "name": "stderr",
     "output_type": "stream",
     "text": [
      "\n",
      " 31%|█████████████████████████                                                         | 11/36 [00:03<00:08,  3.05it/s]\u001b[A"
     ]
    },
    {
     "name": "stdout",
     "output_type": "stream",
     "text": [
      "1/1 [==============================] - 0s 233ms/step\n"
     ]
    },
    {
     "name": "stderr",
     "output_type": "stream",
     "text": [
      "\n",
      " 33%|███████████████████████████▎                                                      | 12/36 [00:04<00:08,  2.97it/s]\u001b[A"
     ]
    },
    {
     "name": "stdout",
     "output_type": "stream",
     "text": [
      "1/1 [==============================] - 0s 236ms/step\n"
     ]
    },
    {
     "name": "stderr",
     "output_type": "stream",
     "text": [
      "\n",
      " 36%|█████████████████████████████▌                                                    | 13/36 [00:04<00:07,  2.91it/s]\u001b[A"
     ]
    },
    {
     "name": "stdout",
     "output_type": "stream",
     "text": [
      "1/1 [==============================] - 0s 221ms/step\n"
     ]
    },
    {
     "name": "stderr",
     "output_type": "stream",
     "text": [
      "\n",
      " 39%|███████████████████████████████▉                                                  | 14/36 [00:04<00:07,  2.88it/s]\u001b[A"
     ]
    },
    {
     "name": "stdout",
     "output_type": "stream",
     "text": [
      "1/1 [==============================] - 0s 211ms/step\n"
     ]
    },
    {
     "name": "stderr",
     "output_type": "stream",
     "text": [
      "\n",
      " 42%|██████████████████████████████████▏                                               | 15/36 [00:05<00:07,  2.84it/s]\u001b[A"
     ]
    },
    {
     "name": "stdout",
     "output_type": "stream",
     "text": [
      "1/1 [==============================] - 0s 220ms/step\n"
     ]
    },
    {
     "name": "stderr",
     "output_type": "stream",
     "text": [
      "\n",
      " 44%|████████████████████████████████████▍                                             | 16/36 [00:05<00:07,  2.85it/s]\u001b[A"
     ]
    },
    {
     "name": "stdout",
     "output_type": "stream",
     "text": [
      "1/1 [==============================] - 0s 191ms/step\n"
     ]
    },
    {
     "name": "stderr",
     "output_type": "stream",
     "text": [
      "\n",
      " 47%|██████████████████████████████████████▋                                           | 17/36 [00:05<00:06,  2.97it/s]\u001b[A"
     ]
    },
    {
     "name": "stdout",
     "output_type": "stream",
     "text": [
      "1/1 [==============================] - 0s 221ms/step\n"
     ]
    },
    {
     "name": "stderr",
     "output_type": "stream",
     "text": [
      "\n",
      " 50%|█████████████████████████████████████████                                         | 18/36 [00:06<00:06,  2.91it/s]\u001b[A"
     ]
    },
    {
     "name": "stdout",
     "output_type": "stream",
     "text": [
      "1/1 [==============================] - 0s 215ms/step\n"
     ]
    },
    {
     "name": "stderr",
     "output_type": "stream",
     "text": [
      "\n",
      " 53%|███████████████████████████████████████████▎                                      | 19/36 [00:06<00:05,  2.91it/s]\u001b[A"
     ]
    },
    {
     "name": "stdout",
     "output_type": "stream",
     "text": [
      "1/1 [==============================] - 0s 211ms/step\n"
     ]
    },
    {
     "name": "stderr",
     "output_type": "stream",
     "text": [
      "\n",
      " 56%|█████████████████████████████████████████████▌                                    | 20/36 [00:06<00:05,  2.92it/s]\u001b[A"
     ]
    },
    {
     "name": "stdout",
     "output_type": "stream",
     "text": [
      "1/1 [==============================] - 0s 210ms/step\n"
     ]
    },
    {
     "name": "stderr",
     "output_type": "stream",
     "text": [
      "\n",
      " 58%|███████████████████████████████████████████████▊                                  | 21/36 [00:07<00:05,  2.94it/s]\u001b[A"
     ]
    },
    {
     "name": "stdout",
     "output_type": "stream",
     "text": [
      "1/1 [==============================] - 0s 235ms/step\n"
     ]
    },
    {
     "name": "stderr",
     "output_type": "stream",
     "text": [
      "\n",
      " 61%|██████████████████████████████████████████████████                                | 22/36 [00:07<00:04,  2.81it/s]\u001b[A"
     ]
    },
    {
     "name": "stdout",
     "output_type": "stream",
     "text": [
      "1/1 [==============================] - 0s 222ms/step\n"
     ]
    },
    {
     "name": "stderr",
     "output_type": "stream",
     "text": [
      "\n",
      " 64%|████████████████████████████████████████████████████▍                             | 23/36 [00:07<00:04,  2.76it/s]\u001b[A"
     ]
    },
    {
     "name": "stdout",
     "output_type": "stream",
     "text": [
      "1/1 [==============================] - 0s 225ms/step\n"
     ]
    },
    {
     "name": "stderr",
     "output_type": "stream",
     "text": [
      "\n",
      " 67%|██████████████████████████████████████████████████████▋                           | 24/36 [00:08<00:04,  2.78it/s]\u001b[A"
     ]
    },
    {
     "name": "stdout",
     "output_type": "stream",
     "text": [
      "1/1 [==============================] - 0s 228ms/step\n"
     ]
    },
    {
     "name": "stderr",
     "output_type": "stream",
     "text": [
      "\n",
      " 69%|████████████████████████████████████████████████████████▉                         | 25/36 [00:09<00:05,  2.06it/s]\u001b[A"
     ]
    },
    {
     "name": "stdout",
     "output_type": "stream",
     "text": [
      "1/1 [==============================] - 0s 225ms/step\n"
     ]
    },
    {
     "name": "stderr",
     "output_type": "stream",
     "text": [
      "\n",
      " 72%|███████████████████████████████████████████████████████████▏                      | 26/36 [00:09<00:04,  2.23it/s]\u001b[A"
     ]
    },
    {
     "name": "stdout",
     "output_type": "stream",
     "text": [
      "1/1 [==============================] - 0s 302ms/step\n"
     ]
    },
    {
     "name": "stderr",
     "output_type": "stream",
     "text": [
      "\n",
      " 75%|█████████████████████████████████████████████████████████████▌                    | 27/36 [00:09<00:04,  2.24it/s]\u001b[A"
     ]
    },
    {
     "name": "stdout",
     "output_type": "stream",
     "text": [
      "1/1 [==============================] - 0s 216ms/step\n"
     ]
    },
    {
     "name": "stderr",
     "output_type": "stream",
     "text": [
      "\n",
      " 78%|███████████████████████████████████████████████████████████████▊                  | 28/36 [00:10<00:03,  2.36it/s]\u001b[A"
     ]
    },
    {
     "name": "stdout",
     "output_type": "stream",
     "text": [
      "1/1 [==============================] - 0s 225ms/step\n"
     ]
    },
    {
     "name": "stderr",
     "output_type": "stream",
     "text": [
      "\n",
      " 81%|██████████████████████████████████████████████████████████████████                | 29/36 [00:10<00:02,  2.49it/s]\u001b[A"
     ]
    },
    {
     "name": "stdout",
     "output_type": "stream",
     "text": [
      "1/1 [==============================] - 0s 226ms/step\n"
     ]
    },
    {
     "name": "stderr",
     "output_type": "stream",
     "text": [
      "\n",
      " 83%|████████████████████████████████████████████████████████████████████▎             | 30/36 [00:10<00:02,  2.58it/s]\u001b[A"
     ]
    },
    {
     "name": "stdout",
     "output_type": "stream",
     "text": [
      "1/1 [==============================] - 0s 187ms/step\n"
     ]
    },
    {
     "name": "stderr",
     "output_type": "stream",
     "text": [
      "\n",
      " 86%|██████████████████████████████████████████████████████████████████████▌           | 31/36 [00:11<00:01,  2.77it/s]\u001b[A"
     ]
    },
    {
     "name": "stdout",
     "output_type": "stream",
     "text": [
      "1/1 [==============================] - 0s 228ms/step\n"
     ]
    },
    {
     "name": "stderr",
     "output_type": "stream",
     "text": [
      "\n",
      " 89%|████████████████████████████████████████████████████████████████████████▉         | 32/36 [00:11<00:01,  2.82it/s]\u001b[A"
     ]
    },
    {
     "name": "stdout",
     "output_type": "stream",
     "text": [
      "1/1 [==============================] - 0s 227ms/step\n"
     ]
    },
    {
     "name": "stderr",
     "output_type": "stream",
     "text": [
      "\n",
      " 92%|███████████████████████████████████████████████████████████████████████████▏      | 33/36 [00:11<00:01,  2.74it/s]\u001b[A"
     ]
    },
    {
     "name": "stdout",
     "output_type": "stream",
     "text": [
      "1/1 [==============================] - 0s 213ms/step\n"
     ]
    },
    {
     "name": "stderr",
     "output_type": "stream",
     "text": [
      "\n",
      " 94%|█████████████████████████████████████████████████████████████████████████████▍    | 34/36 [00:12<00:00,  2.79it/s]\u001b[A"
     ]
    },
    {
     "name": "stdout",
     "output_type": "stream",
     "text": [
      "1/1 [==============================] - 0s 230ms/step\n"
     ]
    },
    {
     "name": "stderr",
     "output_type": "stream",
     "text": [
      "\n",
      " 97%|███████████████████████████████████████████████████████████████████████████████▋  | 35/36 [00:12<00:00,  2.74it/s]\u001b[A"
     ]
    },
    {
     "name": "stdout",
     "output_type": "stream",
     "text": [
      "1/1 [==============================] - 0s 233ms/step\n"
     ]
    },
    {
     "name": "stderr",
     "output_type": "stream",
     "text": [
      "\n",
      "100%|██████████████████████████████████████████████████████████████████████████████████| 36/36 [00:13<00:00,  2.76it/s]\u001b[A"
     ]
    },
    {
     "name": "stdout",
     "output_type": "stream",
     "text": [
      "(36, 2048)\n"
     ]
    },
    {
     "name": "stderr",
     "output_type": "stream",
     "text": [
      "\n"
     ]
    },
    {
     "name": "stdout",
     "output_type": "stream",
     "text": [
      "36\n",
      "file has been loaded\n"
     ]
    },
    {
     "name": "stderr",
     "output_type": "stream",
     "text": [
      "\n",
      "  0%|                                                                                           | 0/13 [00:00<?, ?it/s]\u001b[A"
     ]
    },
    {
     "name": "stdout",
     "output_type": "stream",
     "text": [
      "1/1 [==============================] - 0s 204ms/step\n"
     ]
    },
    {
     "name": "stderr",
     "output_type": "stream",
     "text": [
      "\n",
      "  8%|██████▍                                                                            | 1/13 [00:00<00:04,  2.81it/s]\u001b[A"
     ]
    },
    {
     "name": "stdout",
     "output_type": "stream",
     "text": [
      "1/1 [==============================] - 0s 217ms/step\n"
     ]
    },
    {
     "name": "stderr",
     "output_type": "stream",
     "text": [
      "\n",
      " 15%|████████████▊                                                                      | 2/13 [00:00<00:03,  2.79it/s]\u001b[A"
     ]
    },
    {
     "name": "stdout",
     "output_type": "stream",
     "text": [
      "1/1 [==============================] - 0s 227ms/step\n"
     ]
    },
    {
     "name": "stderr",
     "output_type": "stream",
     "text": [
      "\n",
      " 23%|███████████████████▏                                                               | 3/13 [00:01<00:03,  2.82it/s]\u001b[A"
     ]
    },
    {
     "name": "stdout",
     "output_type": "stream",
     "text": [
      "1/1 [==============================] - 0s 220ms/step\n"
     ]
    },
    {
     "name": "stderr",
     "output_type": "stream",
     "text": [
      "\n",
      " 31%|█████████████████████████▌                                                         | 4/13 [00:01<00:03,  2.85it/s]\u001b[A"
     ]
    },
    {
     "name": "stdout",
     "output_type": "stream",
     "text": [
      "1/1 [==============================] - 0s 220ms/step\n"
     ]
    },
    {
     "name": "stderr",
     "output_type": "stream",
     "text": [
      "\n",
      " 38%|███████████████████████████████▉                                                   | 5/13 [00:01<00:02,  2.86it/s]\u001b[A"
     ]
    },
    {
     "name": "stdout",
     "output_type": "stream",
     "text": [
      "1/1 [==============================] - 0s 224ms/step\n"
     ]
    },
    {
     "name": "stderr",
     "output_type": "stream",
     "text": [
      "\n",
      " 46%|██████████████████████████████████████▎                                            | 6/13 [00:02<00:02,  2.85it/s]\u001b[A"
     ]
    },
    {
     "name": "stdout",
     "output_type": "stream",
     "text": [
      "1/1 [==============================] - 0s 226ms/step\n"
     ]
    },
    {
     "name": "stderr",
     "output_type": "stream",
     "text": [
      "\n",
      " 54%|████████████████████████████████████████████▋                                      | 7/13 [00:02<00:02,  2.86it/s]\u001b[A"
     ]
    },
    {
     "name": "stdout",
     "output_type": "stream",
     "text": [
      "1/1 [==============================] - 0s 236ms/step\n"
     ]
    },
    {
     "name": "stderr",
     "output_type": "stream",
     "text": [
      "\n",
      " 62%|███████████████████████████████████████████████████                                | 8/13 [00:02<00:01,  2.74it/s]\u001b[A"
     ]
    },
    {
     "name": "stdout",
     "output_type": "stream",
     "text": [
      "1/1 [==============================] - 0s 212ms/step\n"
     ]
    },
    {
     "name": "stderr",
     "output_type": "stream",
     "text": [
      "\n",
      " 69%|█████████████████████████████████████████████████████████▍                         | 9/13 [00:03<00:01,  2.69it/s]\u001b[A"
     ]
    },
    {
     "name": "stdout",
     "output_type": "stream",
     "text": [
      "1/1 [==============================] - 0s 212ms/step\n"
     ]
    },
    {
     "name": "stderr",
     "output_type": "stream",
     "text": [
      "\n",
      " 77%|███████████████████████████████████████████████████████████████                   | 10/13 [00:03<00:01,  2.71it/s]\u001b[A"
     ]
    },
    {
     "name": "stdout",
     "output_type": "stream",
     "text": [
      "1/1 [==============================] - 0s 209ms/step\n"
     ]
    },
    {
     "name": "stderr",
     "output_type": "stream",
     "text": [
      "\n",
      " 85%|█████████████████████████████████████████████████████████████████████▍            | 11/13 [00:03<00:00,  2.80it/s]\u001b[A"
     ]
    },
    {
     "name": "stdout",
     "output_type": "stream",
     "text": [
      "1/1 [==============================] - 0s 211ms/step\n"
     ]
    },
    {
     "name": "stderr",
     "output_type": "stream",
     "text": [
      "\n",
      " 92%|███████████████████████████████████████████████████████████████████████████▋      | 12/13 [00:04<00:00,  2.80it/s]\u001b[A"
     ]
    },
    {
     "name": "stdout",
     "output_type": "stream",
     "text": [
      "1/1 [==============================] - 0s 222ms/step\n"
     ]
    },
    {
     "name": "stderr",
     "output_type": "stream",
     "text": [
      "\n",
      "100%|██████████████████████████████████████████████████████████████████████████████████| 13/13 [00:04<00:00,  2.79it/s]\u001b[A"
     ]
    },
    {
     "name": "stdout",
     "output_type": "stream",
     "text": [
      "(13, 2048)\n"
     ]
    },
    {
     "name": "stderr",
     "output_type": "stream",
     "text": [
      "\n"
     ]
    },
    {
     "name": "stdout",
     "output_type": "stream",
     "text": [
      "13\n",
      "file has been loaded\n"
     ]
    },
    {
     "name": "stderr",
     "output_type": "stream",
     "text": [
      "\n",
      "  0%|                                                                                            | 0/3 [00:00<?, ?it/s]\u001b[A"
     ]
    },
    {
     "name": "stdout",
     "output_type": "stream",
     "text": [
      "1/1 [==============================] - 0s 200ms/step\n"
     ]
    },
    {
     "name": "stderr",
     "output_type": "stream",
     "text": [
      "\n",
      " 33%|████████████████████████████                                                        | 1/3 [00:00<00:00,  3.03it/s]\u001b[A"
     ]
    },
    {
     "name": "stdout",
     "output_type": "stream",
     "text": [
      "1/1 [==============================] - 0s 231ms/step\n"
     ]
    },
    {
     "name": "stderr",
     "output_type": "stream",
     "text": [
      "\n",
      " 67%|████████████████████████████████████████████████████████                            | 2/3 [00:00<00:00,  2.83it/s]\u001b[A"
     ]
    },
    {
     "name": "stdout",
     "output_type": "stream",
     "text": [
      "1/1 [==============================] - 0s 214ms/step\n"
     ]
    },
    {
     "name": "stderr",
     "output_type": "stream",
     "text": [
      "\n",
      "100%|████████████████████████████████████████████████████████████████████████████████████| 3/3 [00:01<00:00,  2.86it/s]\u001b[A"
     ]
    },
    {
     "name": "stdout",
     "output_type": "stream",
     "text": [
      "(3, 2048)\n"
     ]
    },
    {
     "name": "stderr",
     "output_type": "stream",
     "text": [
      "\n"
     ]
    },
    {
     "name": "stdout",
     "output_type": "stream",
     "text": [
      "3\n",
      "file has been loaded\n"
     ]
    },
    {
     "name": "stderr",
     "output_type": "stream",
     "text": [
      "\n",
      "  0%|                                                                                           | 0/30 [00:00<?, ?it/s]\u001b[A"
     ]
    },
    {
     "name": "stdout",
     "output_type": "stream",
     "text": [
      "1/1 [==============================] - 0s 235ms/step\n"
     ]
    },
    {
     "name": "stderr",
     "output_type": "stream",
     "text": [
      "\n",
      "  3%|██▊                                                                                | 1/30 [00:00<00:11,  2.50it/s]\u001b[A"
     ]
    },
    {
     "name": "stdout",
     "output_type": "stream",
     "text": [
      "1/1 [==============================] - 0s 231ms/step\n"
     ]
    },
    {
     "name": "stderr",
     "output_type": "stream",
     "text": [
      "\n",
      "  7%|█████▌                                                                             | 2/30 [00:00<00:11,  2.51it/s]\u001b[A"
     ]
    },
    {
     "name": "stdout",
     "output_type": "stream",
     "text": [
      "1/1 [==============================] - 0s 209ms/step\n"
     ]
    },
    {
     "name": "stderr",
     "output_type": "stream",
     "text": [
      "\n",
      " 10%|████████▎                                                                          | 3/30 [00:01<00:10,  2.61it/s]\u001b[A"
     ]
    },
    {
     "name": "stdout",
     "output_type": "stream",
     "text": [
      "1/1 [==============================] - 0s 214ms/step\n"
     ]
    },
    {
     "name": "stderr",
     "output_type": "stream",
     "text": [
      "\n",
      " 13%|███████████                                                                        | 4/30 [00:01<00:09,  2.65it/s]\u001b[A"
     ]
    },
    {
     "name": "stdout",
     "output_type": "stream",
     "text": [
      "1/1 [==============================] - 0s 255ms/step\n"
     ]
    },
    {
     "name": "stderr",
     "output_type": "stream",
     "text": [
      "\n",
      " 17%|█████████████▊                                                                     | 5/30 [00:01<00:09,  2.57it/s]\u001b[A"
     ]
    },
    {
     "name": "stdout",
     "output_type": "stream",
     "text": [
      "1/1 [==============================] - 0s 228ms/step\n"
     ]
    },
    {
     "name": "stderr",
     "output_type": "stream",
     "text": [
      "\n",
      " 20%|████████████████▌                                                                  | 6/30 [00:02<00:09,  2.56it/s]\u001b[A"
     ]
    },
    {
     "name": "stdout",
     "output_type": "stream",
     "text": [
      "1/1 [==============================] - 0s 253ms/step\n"
     ]
    },
    {
     "name": "stderr",
     "output_type": "stream",
     "text": [
      "\n",
      " 23%|███████████████████▎                                                               | 7/30 [00:02<00:09,  2.52it/s]\u001b[A"
     ]
    },
    {
     "name": "stdout",
     "output_type": "stream",
     "text": [
      "1/1 [==============================] - 0s 234ms/step\n"
     ]
    },
    {
     "name": "stderr",
     "output_type": "stream",
     "text": [
      "\n",
      " 27%|██████████████████████▏                                                            | 8/30 [00:03<00:08,  2.52it/s]\u001b[A"
     ]
    },
    {
     "name": "stdout",
     "output_type": "stream",
     "text": [
      "1/1 [==============================] - 0s 233ms/step\n"
     ]
    },
    {
     "name": "stderr",
     "output_type": "stream",
     "text": [
      "\n",
      " 30%|████████████████████████▉                                                          | 9/30 [00:03<00:08,  2.52it/s]\u001b[A"
     ]
    },
    {
     "name": "stdout",
     "output_type": "stream",
     "text": [
      "1/1 [==============================] - 0s 228ms/step\n"
     ]
    },
    {
     "name": "stderr",
     "output_type": "stream",
     "text": [
      "\n",
      " 33%|███████████████████████████▎                                                      | 10/30 [00:03<00:07,  2.54it/s]\u001b[A"
     ]
    },
    {
     "name": "stdout",
     "output_type": "stream",
     "text": [
      "1/1 [==============================] - 0s 245ms/step\n"
     ]
    },
    {
     "name": "stderr",
     "output_type": "stream",
     "text": [
      "\n",
      " 37%|██████████████████████████████                                                    | 11/30 [00:04<00:07,  2.53it/s]\u001b[A"
     ]
    },
    {
     "name": "stdout",
     "output_type": "stream",
     "text": [
      "1/1 [==============================] - 0s 231ms/step\n"
     ]
    },
    {
     "name": "stderr",
     "output_type": "stream",
     "text": [
      "\n",
      " 40%|████████████████████████████████▊                                                 | 12/30 [00:04<00:07,  2.53it/s]\u001b[A"
     ]
    },
    {
     "name": "stdout",
     "output_type": "stream",
     "text": [
      "1/1 [==============================] - 0s 248ms/step\n"
     ]
    },
    {
     "name": "stderr",
     "output_type": "stream",
     "text": [
      "\n",
      " 43%|███████████████████████████████████▌                                              | 13/30 [00:05<00:06,  2.51it/s]\u001b[A"
     ]
    },
    {
     "name": "stdout",
     "output_type": "stream",
     "text": [
      "1/1 [==============================] - 0s 240ms/step\n"
     ]
    },
    {
     "name": "stderr",
     "output_type": "stream",
     "text": [
      "\n",
      " 47%|██████████████████████████████████████▎                                           | 14/30 [00:05<00:06,  2.61it/s]\u001b[A"
     ]
    },
    {
     "name": "stdout",
     "output_type": "stream",
     "text": [
      "1/1 [==============================] - 0s 229ms/step\n"
     ]
    },
    {
     "name": "stderr",
     "output_type": "stream",
     "text": [
      "\n",
      " 50%|█████████████████████████████████████████                                         | 15/30 [00:05<00:05,  2.59it/s]\u001b[A"
     ]
    },
    {
     "name": "stdout",
     "output_type": "stream",
     "text": [
      "1/1 [==============================] - 0s 241ms/step\n"
     ]
    },
    {
     "name": "stderr",
     "output_type": "stream",
     "text": [
      "\n",
      " 53%|███████████████████████████████████████████▋                                      | 16/30 [00:06<00:05,  2.56it/s]\u001b[A"
     ]
    },
    {
     "name": "stdout",
     "output_type": "stream",
     "text": [
      "1/1 [==============================] - 0s 231ms/step\n"
     ]
    },
    {
     "name": "stderr",
     "output_type": "stream",
     "text": [
      "\n",
      " 57%|██████████████████████████████████████████████▍                                   | 17/30 [00:06<00:05,  2.55it/s]\u001b[A"
     ]
    },
    {
     "name": "stdout",
     "output_type": "stream",
     "text": [
      "1/1 [==============================] - 0s 245ms/step\n"
     ]
    },
    {
     "name": "stderr",
     "output_type": "stream",
     "text": [
      "\n",
      " 60%|█████████████████████████████████████████████████▏                                | 18/30 [00:07<00:04,  2.54it/s]\u001b[A"
     ]
    },
    {
     "name": "stdout",
     "output_type": "stream",
     "text": [
      "1/1 [==============================] - 0s 229ms/step\n"
     ]
    },
    {
     "name": "stderr",
     "output_type": "stream",
     "text": [
      "\n",
      " 63%|███████████████████████████████████████████████████▉                              | 19/30 [00:07<00:04,  2.57it/s]\u001b[A"
     ]
    },
    {
     "name": "stdout",
     "output_type": "stream",
     "text": [
      "1/1 [==============================] - 0s 217ms/step\n"
     ]
    },
    {
     "name": "stderr",
     "output_type": "stream",
     "text": [
      "\n",
      " 67%|██████████████████████████████████████████████████████▋                           | 20/30 [00:07<00:03,  2.63it/s]\u001b[A"
     ]
    },
    {
     "name": "stdout",
     "output_type": "stream",
     "text": [
      "1/1 [==============================] - 0s 233ms/step\n"
     ]
    },
    {
     "name": "stderr",
     "output_type": "stream",
     "text": [
      "\n",
      " 70%|█████████████████████████████████████████████████████████▍                        | 21/30 [00:08<00:03,  2.58it/s]\u001b[A"
     ]
    },
    {
     "name": "stdout",
     "output_type": "stream",
     "text": [
      "1/1 [==============================] - 0s 241ms/step\n"
     ]
    },
    {
     "name": "stderr",
     "output_type": "stream",
     "text": [
      "\n",
      " 73%|████████████████████████████████████████████████████████████▏                     | 22/30 [00:08<00:03,  2.58it/s]\u001b[A"
     ]
    },
    {
     "name": "stdout",
     "output_type": "stream",
     "text": [
      "1/1 [==============================] - 0s 232ms/step\n"
     ]
    },
    {
     "name": "stderr",
     "output_type": "stream",
     "text": [
      "\n",
      " 77%|██████████████████████████████████████████████████████████████▊                   | 23/30 [00:08<00:02,  2.58it/s]\u001b[A"
     ]
    },
    {
     "name": "stdout",
     "output_type": "stream",
     "text": [
      "1/1 [==============================] - 0s 222ms/step\n"
     ]
    },
    {
     "name": "stderr",
     "output_type": "stream",
     "text": [
      "\n",
      " 80%|█████████████████████████████████████████████████████████████████▌                | 24/30 [00:09<00:02,  2.57it/s]\u001b[A"
     ]
    },
    {
     "name": "stdout",
     "output_type": "stream",
     "text": [
      "1/1 [==============================] - 0s 221ms/step\n"
     ]
    },
    {
     "name": "stderr",
     "output_type": "stream",
     "text": [
      "\n",
      " 83%|████████████████████████████████████████████████████████████████████▎             | 25/30 [00:09<00:01,  2.57it/s]\u001b[A"
     ]
    },
    {
     "name": "stdout",
     "output_type": "stream",
     "text": [
      "1/1 [==============================] - 0s 216ms/step\n"
     ]
    },
    {
     "name": "stderr",
     "output_type": "stream",
     "text": [
      "\n",
      " 87%|███████████████████████████████████████████████████████████████████████           | 26/30 [00:10<00:01,  2.60it/s]\u001b[A"
     ]
    },
    {
     "name": "stdout",
     "output_type": "stream",
     "text": [
      "1/1 [==============================] - 0s 233ms/step\n"
     ]
    },
    {
     "name": "stderr",
     "output_type": "stream",
     "text": [
      "\n",
      " 90%|█████████████████████████████████████████████████████████████████████████▊        | 27/30 [00:10<00:01,  2.60it/s]\u001b[A"
     ]
    },
    {
     "name": "stdout",
     "output_type": "stream",
     "text": [
      "1/1 [==============================] - 0s 189ms/step\n"
     ]
    },
    {
     "name": "stderr",
     "output_type": "stream",
     "text": [
      "\n",
      " 93%|████████████████████████████████████████████████████████████████████████████▌     | 28/30 [00:10<00:00,  2.69it/s]\u001b[A"
     ]
    },
    {
     "name": "stdout",
     "output_type": "stream",
     "text": [
      "1/1 [==============================] - 0s 239ms/step\n"
     ]
    },
    {
     "name": "stderr",
     "output_type": "stream",
     "text": [
      "\n",
      " 97%|███████████████████████████████████████████████████████████████████████████████▎  | 29/30 [00:11<00:00,  2.60it/s]\u001b[A"
     ]
    },
    {
     "name": "stdout",
     "output_type": "stream",
     "text": [
      "1/1 [==============================] - 0s 220ms/step\n"
     ]
    },
    {
     "name": "stderr",
     "output_type": "stream",
     "text": [
      "\n",
      "100%|██████████████████████████████████████████████████████████████████████████████████| 30/30 [00:11<00:00,  2.57it/s]\u001b[A"
     ]
    },
    {
     "name": "stdout",
     "output_type": "stream",
     "text": [
      "(30, 2048)\n"
     ]
    },
    {
     "name": "stderr",
     "output_type": "stream",
     "text": [
      "\n"
     ]
    },
    {
     "name": "stdout",
     "output_type": "stream",
     "text": [
      "30\n",
      "file has been loaded\n"
     ]
    },
    {
     "name": "stderr",
     "output_type": "stream",
     "text": [
      "\n",
      "  0%|                                                                                           | 0/15 [00:00<?, ?it/s]\u001b[A"
     ]
    },
    {
     "name": "stdout",
     "output_type": "stream",
     "text": [
      "1/1 [==============================] - 0s 216ms/step\n"
     ]
    },
    {
     "name": "stderr",
     "output_type": "stream",
     "text": [
      "\n",
      "  7%|█████▌                                                                             | 1/15 [00:00<00:05,  2.79it/s]\u001b[A"
     ]
    },
    {
     "name": "stdout",
     "output_type": "stream",
     "text": [
      "1/1 [==============================] - 0s 201ms/step\n"
     ]
    },
    {
     "name": "stderr",
     "output_type": "stream",
     "text": [
      "\n",
      " 13%|███████████                                                                        | 2/15 [00:00<00:04,  2.82it/s]\u001b[A"
     ]
    },
    {
     "name": "stdout",
     "output_type": "stream",
     "text": [
      "1/1 [==============================] - 0s 216ms/step\n"
     ]
    },
    {
     "name": "stderr",
     "output_type": "stream",
     "text": [
      "\n",
      " 20%|████████████████▌                                                                  | 3/15 [00:01<00:04,  2.96it/s]\u001b[A"
     ]
    },
    {
     "name": "stdout",
     "output_type": "stream",
     "text": [
      "1/1 [==============================] - 0s 252ms/step\n"
     ]
    },
    {
     "name": "stderr",
     "output_type": "stream",
     "text": [
      "\n",
      " 27%|██████████████████████▏                                                            | 4/15 [00:01<00:04,  2.72it/s]\u001b[A"
     ]
    },
    {
     "name": "stdout",
     "output_type": "stream",
     "text": [
      "1/1 [==============================] - 0s 240ms/step\n"
     ]
    },
    {
     "name": "stderr",
     "output_type": "stream",
     "text": [
      "\n",
      " 33%|███████████████████████████▋                                                       | 5/15 [00:01<00:03,  2.68it/s]\u001b[A"
     ]
    },
    {
     "name": "stdout",
     "output_type": "stream",
     "text": [
      "1/1 [==============================] - 0s 265ms/step\n"
     ]
    },
    {
     "name": "stderr",
     "output_type": "stream",
     "text": [
      "\n",
      " 40%|█████████████████████████████████▏                                                 | 6/15 [00:02<00:03,  2.67it/s]\u001b[A"
     ]
    },
    {
     "name": "stdout",
     "output_type": "stream",
     "text": [
      "1/1 [==============================] - 0s 239ms/step\n"
     ]
    },
    {
     "name": "stderr",
     "output_type": "stream",
     "text": [
      "\n",
      " 47%|██████████████████████████████████████▋                                            | 7/15 [00:02<00:03,  2.65it/s]\u001b[A"
     ]
    },
    {
     "name": "stdout",
     "output_type": "stream",
     "text": [
      "1/1 [==============================] - 0s 208ms/step\n"
     ]
    },
    {
     "name": "stderr",
     "output_type": "stream",
     "text": [
      "\n",
      " 53%|████████████████████████████████████████████▎                                      | 8/15 [00:02<00:02,  2.72it/s]\u001b[A"
     ]
    },
    {
     "name": "stdout",
     "output_type": "stream",
     "text": [
      "1/1 [==============================] - 0s 219ms/step\n"
     ]
    },
    {
     "name": "stderr",
     "output_type": "stream",
     "text": [
      "\n",
      " 60%|█████████████████████████████████████████████████▊                                 | 9/15 [00:03<00:02,  2.76it/s]\u001b[A"
     ]
    },
    {
     "name": "stdout",
     "output_type": "stream",
     "text": [
      "1/1 [==============================] - 0s 228ms/step\n"
     ]
    },
    {
     "name": "stderr",
     "output_type": "stream",
     "text": [
      "\n",
      " 67%|██████████████████████████████████████████████████████▋                           | 10/15 [00:03<00:01,  2.81it/s]\u001b[A"
     ]
    },
    {
     "name": "stdout",
     "output_type": "stream",
     "text": [
      "1/1 [==============================] - 0s 217ms/step\n"
     ]
    },
    {
     "name": "stderr",
     "output_type": "stream",
     "text": [
      "\n",
      " 73%|████████████████████████████████████████████████████████████▏                     | 11/15 [00:03<00:01,  2.86it/s]\u001b[A"
     ]
    },
    {
     "name": "stdout",
     "output_type": "stream",
     "text": [
      "1/1 [==============================] - 0s 239ms/step\n"
     ]
    },
    {
     "name": "stderr",
     "output_type": "stream",
     "text": [
      "\n",
      " 80%|█████████████████████████████████████████████████████████████████▌                | 12/15 [00:04<00:01,  2.73it/s]\u001b[A"
     ]
    },
    {
     "name": "stdout",
     "output_type": "stream",
     "text": [
      "1/1 [==============================] - 0s 222ms/step\n"
     ]
    },
    {
     "name": "stderr",
     "output_type": "stream",
     "text": [
      "\n",
      " 87%|███████████████████████████████████████████████████████████████████████           | 13/15 [00:04<00:00,  2.75it/s]\u001b[A"
     ]
    },
    {
     "name": "stdout",
     "output_type": "stream",
     "text": [
      "1/1 [==============================] - 0s 227ms/step\n"
     ]
    },
    {
     "name": "stderr",
     "output_type": "stream",
     "text": [
      "\n",
      " 93%|████████████████████████████████████████████████████████████████████████████▌     | 14/15 [00:05<00:00,  2.73it/s]\u001b[A"
     ]
    },
    {
     "name": "stdout",
     "output_type": "stream",
     "text": [
      "1/1 [==============================] - 0s 197ms/step\n"
     ]
    },
    {
     "name": "stderr",
     "output_type": "stream",
     "text": [
      "\n",
      "100%|██████████████████████████████████████████████████████████████████████████████████| 15/15 [00:05<00:00,  2.75it/s]\u001b[A"
     ]
    },
    {
     "name": "stdout",
     "output_type": "stream",
     "text": [
      "(15, 2048)\n"
     ]
    },
    {
     "name": "stderr",
     "output_type": "stream",
     "text": [
      "\n"
     ]
    },
    {
     "name": "stdout",
     "output_type": "stream",
     "text": [
      "15\n",
      "file has been loaded\n"
     ]
    },
    {
     "name": "stderr",
     "output_type": "stream",
     "text": [
      "\n",
      "  0%|                                                                                           | 0/26 [00:00<?, ?it/s]\u001b[A"
     ]
    },
    {
     "name": "stdout",
     "output_type": "stream",
     "text": [
      "1/1 [==============================] - 0s 201ms/step\n"
     ]
    },
    {
     "name": "stderr",
     "output_type": "stream",
     "text": [
      "\n",
      "  4%|███▏                                                                               | 1/26 [00:00<00:09,  2.72it/s]\u001b[A"
     ]
    },
    {
     "name": "stdout",
     "output_type": "stream",
     "text": [
      "1/1 [==============================] - 0s 213ms/step\n"
     ]
    },
    {
     "name": "stderr",
     "output_type": "stream",
     "text": [
      "\n",
      "  8%|██████▍                                                                            | 2/26 [00:00<00:08,  2.71it/s]\u001b[A"
     ]
    },
    {
     "name": "stdout",
     "output_type": "stream",
     "text": [
      "1/1 [==============================] - 0s 221ms/step\n"
     ]
    },
    {
     "name": "stderr",
     "output_type": "stream",
     "text": [
      "\n",
      " 12%|█████████▌                                                                         | 3/26 [00:01<00:08,  2.61it/s]\u001b[A"
     ]
    },
    {
     "name": "stdout",
     "output_type": "stream",
     "text": [
      "1/1 [==============================] - 0s 220ms/step\n"
     ]
    },
    {
     "name": "stderr",
     "output_type": "stream",
     "text": [
      "\n",
      " 15%|████████████▊                                                                      | 4/26 [00:01<00:08,  2.54it/s]\u001b[A"
     ]
    },
    {
     "name": "stdout",
     "output_type": "stream",
     "text": [
      "1/1 [==============================] - 0s 238ms/step\n"
     ]
    },
    {
     "name": "stderr",
     "output_type": "stream",
     "text": [
      "\n",
      " 19%|███████████████▉                                                                   | 5/26 [00:01<00:08,  2.56it/s]\u001b[A"
     ]
    },
    {
     "name": "stdout",
     "output_type": "stream",
     "text": [
      "1/1 [==============================] - 0s 214ms/step\n"
     ]
    },
    {
     "name": "stderr",
     "output_type": "stream",
     "text": [
      "\n",
      " 23%|███████████████████▏                                                               | 6/26 [00:02<00:07,  2.58it/s]\u001b[A"
     ]
    },
    {
     "name": "stdout",
     "output_type": "stream",
     "text": [
      "1/1 [==============================] - 0s 231ms/step\n"
     ]
    },
    {
     "name": "stderr",
     "output_type": "stream",
     "text": [
      "\n",
      " 27%|██████████████████████▎                                                            | 7/26 [00:02<00:07,  2.59it/s]\u001b[A"
     ]
    },
    {
     "name": "stdout",
     "output_type": "stream",
     "text": [
      "1/1 [==============================] - 0s 230ms/step\n"
     ]
    },
    {
     "name": "stderr",
     "output_type": "stream",
     "text": [
      "\n",
      " 31%|█████████████████████████▌                                                         | 8/26 [00:03<00:06,  2.58it/s]\u001b[A"
     ]
    },
    {
     "name": "stdout",
     "output_type": "stream",
     "text": [
      "1/1 [==============================] - 0s 240ms/step\n"
     ]
    },
    {
     "name": "stderr",
     "output_type": "stream",
     "text": [
      "\n",
      " 35%|████████████████████████████▋                                                      | 9/26 [00:03<00:06,  2.57it/s]\u001b[A"
     ]
    },
    {
     "name": "stdout",
     "output_type": "stream",
     "text": [
      "1/1 [==============================] - 0s 239ms/step\n"
     ]
    },
    {
     "name": "stderr",
     "output_type": "stream",
     "text": [
      "\n",
      " 38%|███████████████████████████████▌                                                  | 10/26 [00:03<00:06,  2.56it/s]\u001b[A"
     ]
    },
    {
     "name": "stdout",
     "output_type": "stream",
     "text": [
      "1/1 [==============================] - 0s 227ms/step\n"
     ]
    },
    {
     "name": "stderr",
     "output_type": "stream",
     "text": [
      "\n",
      " 42%|██████████████████████████████████▋                                               | 11/26 [00:04<00:05,  2.56it/s]\u001b[A"
     ]
    },
    {
     "name": "stdout",
     "output_type": "stream",
     "text": [
      "1/1 [==============================] - 0s 216ms/step\n"
     ]
    },
    {
     "name": "stderr",
     "output_type": "stream",
     "text": [
      "\n",
      " 46%|█████████████████████████████████████▊                                            | 12/26 [00:04<00:05,  2.58it/s]\u001b[A"
     ]
    },
    {
     "name": "stdout",
     "output_type": "stream",
     "text": [
      "1/1 [==============================] - 0s 220ms/step\n"
     ]
    },
    {
     "name": "stderr",
     "output_type": "stream",
     "text": [
      "\n",
      " 50%|█████████████████████████████████████████                                         | 13/26 [00:05<00:04,  2.62it/s]\u001b[A"
     ]
    },
    {
     "name": "stdout",
     "output_type": "stream",
     "text": [
      "1/1 [==============================] - 0s 199ms/step\n"
     ]
    },
    {
     "name": "stderr",
     "output_type": "stream",
     "text": [
      "\n",
      " 54%|████████████████████████████████████████████▏                                     | 14/26 [00:05<00:04,  2.70it/s]\u001b[A"
     ]
    },
    {
     "name": "stdout",
     "output_type": "stream",
     "text": [
      "1/1 [==============================] - 0s 226ms/step\n"
     ]
    },
    {
     "name": "stderr",
     "output_type": "stream",
     "text": [
      "\n",
      " 58%|███████████████████████████████████████████████▎                                  | 15/26 [00:05<00:04,  2.64it/s]\u001b[A"
     ]
    },
    {
     "name": "stdout",
     "output_type": "stream",
     "text": [
      "1/1 [==============================] - 0s 240ms/step\n"
     ]
    },
    {
     "name": "stderr",
     "output_type": "stream",
     "text": [
      "\n",
      " 62%|██████████████████████████████████████████████████▍                               | 16/26 [00:06<00:03,  2.58it/s]\u001b[A"
     ]
    },
    {
     "name": "stdout",
     "output_type": "stream",
     "text": [
      "1/1 [==============================] - 0s 217ms/step\n"
     ]
    },
    {
     "name": "stderr",
     "output_type": "stream",
     "text": [
      "\n",
      " 65%|█████████████████████████████████████████████████████▌                            | 17/26 [00:06<00:03,  2.62it/s]\u001b[A"
     ]
    },
    {
     "name": "stdout",
     "output_type": "stream",
     "text": [
      "1/1 [==============================] - 0s 218ms/step\n"
     ]
    },
    {
     "name": "stderr",
     "output_type": "stream",
     "text": [
      "\n",
      " 69%|████████████████████████████████████████████████████████▊                         | 18/26 [00:06<00:02,  2.69it/s]\u001b[A"
     ]
    },
    {
     "name": "stdout",
     "output_type": "stream",
     "text": [
      "1/1 [==============================] - 0s 210ms/step\n"
     ]
    },
    {
     "name": "stderr",
     "output_type": "stream",
     "text": [
      "\n",
      " 73%|███████████████████████████████████████████████████████████▉                      | 19/26 [00:07<00:02,  2.70it/s]\u001b[A"
     ]
    },
    {
     "name": "stdout",
     "output_type": "stream",
     "text": [
      "1/1 [==============================] - 0s 235ms/step\n"
     ]
    },
    {
     "name": "stderr",
     "output_type": "stream",
     "text": [
      "\n",
      " 77%|███████████████████████████████████████████████████████████████                   | 20/26 [00:07<00:02,  2.64it/s]\u001b[A"
     ]
    },
    {
     "name": "stdout",
     "output_type": "stream",
     "text": [
      "1/1 [==============================] - 0s 230ms/step\n"
     ]
    },
    {
     "name": "stderr",
     "output_type": "stream",
     "text": [
      "\n",
      " 81%|██████████████████████████████████████████████████████████████████▏               | 21/26 [00:08<00:01,  2.61it/s]\u001b[A"
     ]
    },
    {
     "name": "stdout",
     "output_type": "stream",
     "text": [
      "1/1 [==============================] - 0s 221ms/step\n"
     ]
    },
    {
     "name": "stderr",
     "output_type": "stream",
     "text": [
      "\n",
      " 85%|█████████████████████████████████████████████████████████████████████▍            | 22/26 [00:08<00:01,  2.64it/s]\u001b[A"
     ]
    },
    {
     "name": "stdout",
     "output_type": "stream",
     "text": [
      "1/1 [==============================] - 0s 228ms/step\n"
     ]
    },
    {
     "name": "stderr",
     "output_type": "stream",
     "text": [
      "\n",
      " 88%|████████████████████████████████████████████████████████████████████████▌         | 23/26 [00:08<00:01,  2.67it/s]\u001b[A"
     ]
    },
    {
     "name": "stdout",
     "output_type": "stream",
     "text": [
      "1/1 [==============================] - 0s 220ms/step\n"
     ]
    },
    {
     "name": "stderr",
     "output_type": "stream",
     "text": [
      "\n",
      " 92%|███████████████████████████████████████████████████████████████████████████▋      | 24/26 [00:09<00:00,  2.66it/s]\u001b[A"
     ]
    },
    {
     "name": "stdout",
     "output_type": "stream",
     "text": [
      "1/1 [==============================] - 0s 222ms/step\n"
     ]
    },
    {
     "name": "stderr",
     "output_type": "stream",
     "text": [
      "\n",
      " 96%|██████████████████████████████████████████████████████████████████████████████▊   | 25/26 [00:09<00:00,  2.63it/s]\u001b[A"
     ]
    },
    {
     "name": "stdout",
     "output_type": "stream",
     "text": [
      "1/1 [==============================] - 0s 235ms/step\n"
     ]
    },
    {
     "name": "stderr",
     "output_type": "stream",
     "text": [
      "\n",
      "100%|██████████████████████████████████████████████████████████████████████████████████| 26/26 [00:09<00:00,  2.61it/s]\u001b[A"
     ]
    },
    {
     "name": "stdout",
     "output_type": "stream",
     "text": [
      "(26, 2048)\n"
     ]
    },
    {
     "name": "stderr",
     "output_type": "stream",
     "text": [
      "\n"
     ]
    },
    {
     "name": "stdout",
     "output_type": "stream",
     "text": [
      "26\n",
      "file has been loaded\n"
     ]
    },
    {
     "name": "stderr",
     "output_type": "stream",
     "text": [
      "\n",
      "  0%|                                                                                            | 0/5 [00:00<?, ?it/s]\u001b[A"
     ]
    },
    {
     "name": "stdout",
     "output_type": "stream",
     "text": [
      "1/1 [==============================] - 0s 200ms/step\n"
     ]
    },
    {
     "name": "stderr",
     "output_type": "stream",
     "text": [
      "\n",
      " 20%|████████████████▊                                                                   | 1/5 [00:00<00:01,  3.08it/s]\u001b[A"
     ]
    },
    {
     "name": "stdout",
     "output_type": "stream",
     "text": [
      "1/1 [==============================] - 0s 221ms/step\n"
     ]
    },
    {
     "name": "stderr",
     "output_type": "stream",
     "text": [
      "\n",
      " 40%|█████████████████████████████████▌                                                  | 2/5 [00:00<00:00,  3.00it/s]\u001b[A"
     ]
    },
    {
     "name": "stdout",
     "output_type": "stream",
     "text": [
      "1/1 [==============================] - 0s 240ms/step\n"
     ]
    },
    {
     "name": "stderr",
     "output_type": "stream",
     "text": [
      "\n",
      " 60%|██████████████████████████████████████████████████▍                                 | 3/5 [00:01<00:00,  2.82it/s]\u001b[A"
     ]
    },
    {
     "name": "stdout",
     "output_type": "stream",
     "text": [
      "1/1 [==============================] - 0s 219ms/step\n"
     ]
    },
    {
     "name": "stderr",
     "output_type": "stream",
     "text": [
      "\n",
      " 80%|███████████████████████████████████████████████████████████████████▏                | 4/5 [00:01<00:00,  2.82it/s]\u001b[A"
     ]
    },
    {
     "name": "stdout",
     "output_type": "stream",
     "text": [
      "1/1 [==============================] - 0s 223ms/step\n"
     ]
    },
    {
     "name": "stderr",
     "output_type": "stream",
     "text": [
      "\n",
      "100%|████████████████████████████████████████████████████████████████████████████████████| 5/5 [00:01<00:00,  2.81it/s]\u001b[A"
     ]
    },
    {
     "name": "stdout",
     "output_type": "stream",
     "text": [
      "(5, 2048)\n"
     ]
    },
    {
     "name": "stderr",
     "output_type": "stream",
     "text": [
      "\n"
     ]
    },
    {
     "name": "stdout",
     "output_type": "stream",
     "text": [
      "5\n",
      "file has been loaded\n"
     ]
    },
    {
     "name": "stderr",
     "output_type": "stream",
     "text": [
      "\n",
      "  0%|                                                                                           | 0/23 [00:00<?, ?it/s]\u001b[A"
     ]
    },
    {
     "name": "stdout",
     "output_type": "stream",
     "text": [
      "1/1 [==============================] - 0s 237ms/step\n"
     ]
    },
    {
     "name": "stderr",
     "output_type": "stream",
     "text": [
      "\n",
      "  4%|███▌                                                                               | 1/23 [00:00<00:08,  2.46it/s]\u001b[A"
     ]
    },
    {
     "name": "stdout",
     "output_type": "stream",
     "text": [
      "1/1 [==============================] - 0s 212ms/step\n"
     ]
    },
    {
     "name": "stderr",
     "output_type": "stream",
     "text": [
      "\n",
      "  9%|███████▏                                                                           | 2/23 [00:00<00:07,  2.64it/s]\u001b[A"
     ]
    },
    {
     "name": "stdout",
     "output_type": "stream",
     "text": [
      "1/1 [==============================] - 0s 223ms/step\n"
     ]
    },
    {
     "name": "stderr",
     "output_type": "stream",
     "text": [
      "\n",
      " 13%|██████████▊                                                                        | 3/23 [00:01<00:07,  2.76it/s]\u001b[A"
     ]
    },
    {
     "name": "stdout",
     "output_type": "stream",
     "text": [
      "1/1 [==============================] - 0s 191ms/step\n"
     ]
    },
    {
     "name": "stderr",
     "output_type": "stream",
     "text": [
      "\n",
      " 17%|██████████████▍                                                                    | 4/23 [00:01<00:06,  2.90it/s]\u001b[A"
     ]
    },
    {
     "name": "stdout",
     "output_type": "stream",
     "text": [
      "1/1 [==============================] - 0s 237ms/step\n"
     ]
    },
    {
     "name": "stderr",
     "output_type": "stream",
     "text": [
      "\n",
      " 22%|██████████████████                                                                 | 5/23 [00:01<00:06,  2.85it/s]\u001b[A"
     ]
    },
    {
     "name": "stdout",
     "output_type": "stream",
     "text": [
      "1/1 [==============================] - 0s 219ms/step\n"
     ]
    },
    {
     "name": "stderr",
     "output_type": "stream",
     "text": [
      "\n",
      " 26%|█████████████████████▋                                                             | 6/23 [00:02<00:06,  2.82it/s]\u001b[A"
     ]
    },
    {
     "name": "stdout",
     "output_type": "stream",
     "text": [
      "1/1 [==============================] - 0s 226ms/step\n"
     ]
    },
    {
     "name": "stderr",
     "output_type": "stream",
     "text": [
      "\n",
      " 30%|█████████████████████████▎                                                         | 7/23 [00:02<00:05,  2.80it/s]\u001b[A"
     ]
    },
    {
     "name": "stdout",
     "output_type": "stream",
     "text": [
      "1/1 [==============================] - 0s 250ms/step\n"
     ]
    },
    {
     "name": "stderr",
     "output_type": "stream",
     "text": [
      "\n",
      " 35%|████████████████████████████▊                                                      | 8/23 [00:02<00:05,  2.68it/s]\u001b[A"
     ]
    },
    {
     "name": "stdout",
     "output_type": "stream",
     "text": [
      "1/1 [==============================] - 0s 233ms/step\n"
     ]
    },
    {
     "name": "stderr",
     "output_type": "stream",
     "text": [
      "\n",
      " 39%|████████████████████████████████▍                                                  | 9/23 [00:03<00:05,  2.65it/s]\u001b[A"
     ]
    },
    {
     "name": "stdout",
     "output_type": "stream",
     "text": [
      "1/1 [==============================] - 0s 218ms/step\n"
     ]
    },
    {
     "name": "stderr",
     "output_type": "stream",
     "text": [
      "\n",
      " 43%|███████████████████████████████████▋                                              | 10/23 [00:03<00:04,  2.74it/s]\u001b[A"
     ]
    },
    {
     "name": "stdout",
     "output_type": "stream",
     "text": [
      "1/1 [==============================] - 0s 216ms/step\n"
     ]
    },
    {
     "name": "stderr",
     "output_type": "stream",
     "text": [
      "\n",
      " 48%|███████████████████████████████████████▏                                          | 11/23 [00:03<00:04,  2.80it/s]\u001b[A"
     ]
    },
    {
     "name": "stdout",
     "output_type": "stream",
     "text": [
      "1/1 [==============================] - 0s 238ms/step\n"
     ]
    },
    {
     "name": "stderr",
     "output_type": "stream",
     "text": [
      "\n",
      " 52%|██████████████████████████████████████████▊                                       | 12/23 [00:04<00:03,  2.80it/s]\u001b[A"
     ]
    },
    {
     "name": "stdout",
     "output_type": "stream",
     "text": [
      "1/1 [==============================] - 0s 246ms/step\n"
     ]
    },
    {
     "name": "stderr",
     "output_type": "stream",
     "text": [
      "\n",
      " 57%|██████████████████████████████████████████████▎                                   | 13/23 [00:04<00:03,  2.69it/s]\u001b[A"
     ]
    },
    {
     "name": "stdout",
     "output_type": "stream",
     "text": [
      "1/1 [==============================] - 0s 231ms/step\n"
     ]
    },
    {
     "name": "stderr",
     "output_type": "stream",
     "text": [
      "\n",
      " 61%|█████████████████████████████████████████████████▉                                | 14/23 [00:05<00:03,  2.65it/s]\u001b[A"
     ]
    },
    {
     "name": "stdout",
     "output_type": "stream",
     "text": [
      "1/1 [==============================] - 0s 225ms/step\n"
     ]
    },
    {
     "name": "stderr",
     "output_type": "stream",
     "text": [
      "\n",
      " 65%|█████████████████████████████████████████████████████▍                            | 15/23 [00:05<00:03,  2.66it/s]\u001b[A"
     ]
    },
    {
     "name": "stdout",
     "output_type": "stream",
     "text": [
      "1/1 [==============================] - 0s 229ms/step\n"
     ]
    },
    {
     "name": "stderr",
     "output_type": "stream",
     "text": [
      "\n",
      " 70%|█████████████████████████████████████████████████████████                         | 16/23 [00:05<00:02,  2.70it/s]\u001b[A"
     ]
    },
    {
     "name": "stdout",
     "output_type": "stream",
     "text": [
      "1/1 [==============================] - 0s 236ms/step\n"
     ]
    },
    {
     "name": "stderr",
     "output_type": "stream",
     "text": [
      "\n",
      " 74%|████████████████████████████████████████████████████████████▌                     | 17/23 [00:06<00:02,  2.71it/s]\u001b[A"
     ]
    },
    {
     "name": "stdout",
     "output_type": "stream",
     "text": [
      "1/1 [==============================] - 0s 221ms/step\n"
     ]
    },
    {
     "name": "stderr",
     "output_type": "stream",
     "text": [
      "\n",
      " 78%|████████████████████████████████████████████████████████████████▏                 | 18/23 [00:06<00:01,  2.78it/s]\u001b[A"
     ]
    },
    {
     "name": "stdout",
     "output_type": "stream",
     "text": [
      "1/1 [==============================] - 0s 202ms/step\n"
     ]
    },
    {
     "name": "stderr",
     "output_type": "stream",
     "text": [
      "\n",
      " 83%|███████████████████████████████████████████████████████████████████▋              | 19/23 [00:06<00:01,  2.88it/s]\u001b[A"
     ]
    },
    {
     "name": "stdout",
     "output_type": "stream",
     "text": [
      "1/1 [==============================] - 0s 211ms/step\n"
     ]
    },
    {
     "name": "stderr",
     "output_type": "stream",
     "text": [
      "\n",
      " 87%|███████████████████████████████████████████████████████████████████████▎          | 20/23 [00:07<00:01,  2.95it/s]\u001b[A"
     ]
    },
    {
     "name": "stdout",
     "output_type": "stream",
     "text": [
      "1/1 [==============================] - 0s 216ms/step\n"
     ]
    },
    {
     "name": "stderr",
     "output_type": "stream",
     "text": [
      "\n",
      " 91%|██████████████████████████████████████████████████████████████████████████▊       | 21/23 [00:07<00:00,  2.91it/s]\u001b[A"
     ]
    },
    {
     "name": "stdout",
     "output_type": "stream",
     "text": [
      "1/1 [==============================] - 0s 234ms/step\n"
     ]
    },
    {
     "name": "stderr",
     "output_type": "stream",
     "text": [
      "\n",
      " 96%|██████████████████████████████████████████████████████████████████████████████▍   | 22/23 [00:07<00:00,  2.78it/s]\u001b[A"
     ]
    },
    {
     "name": "stdout",
     "output_type": "stream",
     "text": [
      "1/1 [==============================] - 0s 216ms/step\n"
     ]
    },
    {
     "name": "stderr",
     "output_type": "stream",
     "text": [
      "\n",
      "100%|██████████████████████████████████████████████████████████████████████████████████| 23/23 [00:08<00:00,  2.77it/s]\u001b[A"
     ]
    },
    {
     "name": "stdout",
     "output_type": "stream",
     "text": [
      "(23, 2048)\n"
     ]
    },
    {
     "name": "stderr",
     "output_type": "stream",
     "text": [
      "\n"
     ]
    },
    {
     "name": "stdout",
     "output_type": "stream",
     "text": [
      "23\n",
      "file has been loaded\n"
     ]
    },
    {
     "name": "stderr",
     "output_type": "stream",
     "text": [
      "\n",
      "  0%|                                                                                            | 0/1 [00:00<?, ?it/s]\u001b[A"
     ]
    },
    {
     "name": "stdout",
     "output_type": "stream",
     "text": [
      "1/1 [==============================] - 0s 200ms/step\n"
     ]
    },
    {
     "name": "stderr",
     "output_type": "stream",
     "text": [
      "\n",
      "100%|████████████████████████████████████████████████████████████████████████████████████| 1/1 [00:00<00:00,  3.15it/s]\u001b[A"
     ]
    },
    {
     "name": "stdout",
     "output_type": "stream",
     "text": [
      "(1, 2048)\n"
     ]
    },
    {
     "name": "stderr",
     "output_type": "stream",
     "text": [
      "\n"
     ]
    },
    {
     "name": "stdout",
     "output_type": "stream",
     "text": [
      "1\n",
      "file has been loaded\n"
     ]
    },
    {
     "name": "stderr",
     "output_type": "stream",
     "text": [
      "\n",
      "  0%|                                                                                           | 0/15 [00:00<?, ?it/s]\u001b[A"
     ]
    },
    {
     "name": "stdout",
     "output_type": "stream",
     "text": [
      "1/1 [==============================] - 0s 206ms/step\n"
     ]
    },
    {
     "name": "stderr",
     "output_type": "stream",
     "text": [
      "\n",
      "  7%|█████▌                                                                             | 1/15 [00:00<00:05,  2.52it/s]\u001b[A"
     ]
    },
    {
     "name": "stdout",
     "output_type": "stream",
     "text": [
      "1/1 [==============================] - 0s 226ms/step\n"
     ]
    },
    {
     "name": "stderr",
     "output_type": "stream",
     "text": [
      "\n",
      " 13%|███████████                                                                        | 2/15 [00:00<00:04,  2.71it/s]\u001b[A"
     ]
    },
    {
     "name": "stdout",
     "output_type": "stream",
     "text": [
      "1/1 [==============================] - 0s 232ms/step\n"
     ]
    },
    {
     "name": "stderr",
     "output_type": "stream",
     "text": [
      "\n",
      " 20%|████████████████▌                                                                  | 3/15 [00:01<00:04,  2.71it/s]\u001b[A"
     ]
    },
    {
     "name": "stdout",
     "output_type": "stream",
     "text": [
      "1/1 [==============================] - 0s 194ms/step\n"
     ]
    },
    {
     "name": "stderr",
     "output_type": "stream",
     "text": [
      "\n",
      " 27%|██████████████████████▏                                                            | 4/15 [00:01<00:03,  2.88it/s]\u001b[A"
     ]
    },
    {
     "name": "stdout",
     "output_type": "stream",
     "text": [
      "1/1 [==============================] - 0s 216ms/step\n"
     ]
    },
    {
     "name": "stderr",
     "output_type": "stream",
     "text": [
      "\n",
      " 33%|███████████████████████████▋                                                       | 5/15 [00:01<00:03,  2.91it/s]\u001b[A"
     ]
    },
    {
     "name": "stdout",
     "output_type": "stream",
     "text": [
      "1/1 [==============================] - 0s 240ms/step\n"
     ]
    },
    {
     "name": "stderr",
     "output_type": "stream",
     "text": [
      "\n",
      " 40%|█████████████████████████████████▏                                                 | 6/15 [00:02<00:03,  2.77it/s]\u001b[A"
     ]
    },
    {
     "name": "stdout",
     "output_type": "stream",
     "text": [
      "1/1 [==============================] - 0s 236ms/step\n"
     ]
    },
    {
     "name": "stderr",
     "output_type": "stream",
     "text": [
      "\n",
      " 47%|██████████████████████████████████████▋                                            | 7/15 [00:02<00:02,  2.69it/s]\u001b[A"
     ]
    },
    {
     "name": "stdout",
     "output_type": "stream",
     "text": [
      "1/1 [==============================] - 0s 209ms/step\n"
     ]
    },
    {
     "name": "stderr",
     "output_type": "stream",
     "text": [
      "\n",
      " 53%|████████████████████████████████████████████▎                                      | 8/15 [00:02<00:02,  2.80it/s]\u001b[A"
     ]
    },
    {
     "name": "stdout",
     "output_type": "stream",
     "text": [
      "1/1 [==============================] - 0s 215ms/step\n"
     ]
    },
    {
     "name": "stderr",
     "output_type": "stream",
     "text": [
      "\n",
      " 60%|█████████████████████████████████████████████████▊                                 | 9/15 [00:03<00:02,  2.84it/s]\u001b[A"
     ]
    },
    {
     "name": "stdout",
     "output_type": "stream",
     "text": [
      "1/1 [==============================] - 0s 205ms/step\n"
     ]
    },
    {
     "name": "stderr",
     "output_type": "stream",
     "text": [
      "\n",
      " 67%|██████████████████████████████████████████████████████▋                           | 10/15 [00:03<00:01,  2.91it/s]\u001b[A"
     ]
    },
    {
     "name": "stdout",
     "output_type": "stream",
     "text": [
      "1/1 [==============================] - 0s 218ms/step\n"
     ]
    },
    {
     "name": "stderr",
     "output_type": "stream",
     "text": [
      "\n",
      " 73%|████████████████████████████████████████████████████████████▏                     | 11/15 [00:03<00:01,  2.91it/s]\u001b[A"
     ]
    },
    {
     "name": "stdout",
     "output_type": "stream",
     "text": [
      "1/1 [==============================] - 0s 209ms/step\n"
     ]
    },
    {
     "name": "stderr",
     "output_type": "stream",
     "text": [
      "\n",
      " 80%|█████████████████████████████████████████████████████████████████▌                | 12/15 [00:04<00:01,  2.87it/s]\u001b[A"
     ]
    },
    {
     "name": "stdout",
     "output_type": "stream",
     "text": [
      "1/1 [==============================] - 0s 232ms/step\n"
     ]
    },
    {
     "name": "stderr",
     "output_type": "stream",
     "text": [
      "\n",
      " 87%|███████████████████████████████████████████████████████████████████████           | 13/15 [00:04<00:00,  2.75it/s]\u001b[A"
     ]
    },
    {
     "name": "stdout",
     "output_type": "stream",
     "text": [
      "1/1 [==============================] - 0s 219ms/step\n"
     ]
    },
    {
     "name": "stderr",
     "output_type": "stream",
     "text": [
      "\n",
      " 93%|████████████████████████████████████████████████████████████████████████████▌     | 14/15 [00:05<00:00,  2.76it/s]\u001b[A"
     ]
    },
    {
     "name": "stdout",
     "output_type": "stream",
     "text": [
      "1/1 [==============================] - 0s 187ms/step\n"
     ]
    },
    {
     "name": "stderr",
     "output_type": "stream",
     "text": [
      "\n",
      "100%|██████████████████████████████████████████████████████████████████████████████████| 15/15 [00:05<00:00,  2.82it/s]\u001b[A"
     ]
    },
    {
     "name": "stdout",
     "output_type": "stream",
     "text": [
      "(15, 2048)\n"
     ]
    },
    {
     "name": "stderr",
     "output_type": "stream",
     "text": [
      "\n"
     ]
    },
    {
     "name": "stdout",
     "output_type": "stream",
     "text": [
      "15\n",
      "file has been loaded\n"
     ]
    },
    {
     "name": "stderr",
     "output_type": "stream",
     "text": [
      "\n",
      "  0%|                                                                                            | 0/8 [00:00<?, ?it/s]\u001b[A"
     ]
    },
    {
     "name": "stdout",
     "output_type": "stream",
     "text": [
      "1/1 [==============================] - 0s 195ms/step\n"
     ]
    },
    {
     "name": "stderr",
     "output_type": "stream",
     "text": [
      "\n",
      " 12%|██████████▌                                                                         | 1/8 [00:00<00:02,  3.22it/s]\u001b[A"
     ]
    },
    {
     "name": "stdout",
     "output_type": "stream",
     "text": [
      "1/1 [==============================] - 0s 219ms/step\n"
     ]
    },
    {
     "name": "stderr",
     "output_type": "stream",
     "text": [
      "\n",
      " 25%|█████████████████████                                                               | 2/8 [00:00<00:01,  3.05it/s]\u001b[A"
     ]
    },
    {
     "name": "stdout",
     "output_type": "stream",
     "text": [
      "1/1 [==============================] - 0s 219ms/step\n"
     ]
    },
    {
     "name": "stderr",
     "output_type": "stream",
     "text": [
      "\n",
      " 38%|███████████████████████████████▌                                                    | 3/8 [00:01<00:01,  2.97it/s]\u001b[A"
     ]
    },
    {
     "name": "stdout",
     "output_type": "stream",
     "text": [
      "1/1 [==============================] - 0s 218ms/step\n"
     ]
    },
    {
     "name": "stderr",
     "output_type": "stream",
     "text": [
      "\n",
      " 50%|██████████████████████████████████████████                                          | 4/8 [00:01<00:01,  2.96it/s]\u001b[A"
     ]
    },
    {
     "name": "stdout",
     "output_type": "stream",
     "text": [
      "1/1 [==============================] - 0s 236ms/step\n"
     ]
    },
    {
     "name": "stderr",
     "output_type": "stream",
     "text": [
      "\n",
      " 62%|████████████████████████████████████████████████████▌                               | 5/8 [00:01<00:01,  2.84it/s]\u001b[A"
     ]
    },
    {
     "name": "stdout",
     "output_type": "stream",
     "text": [
      "1/1 [==============================] - 0s 236ms/step\n"
     ]
    },
    {
     "name": "stderr",
     "output_type": "stream",
     "text": [
      "\n",
      " 75%|███████████████████████████████████████████████████████████████                     | 6/8 [00:02<00:00,  2.72it/s]\u001b[A"
     ]
    },
    {
     "name": "stdout",
     "output_type": "stream",
     "text": [
      "1/1 [==============================] - 0s 244ms/step\n"
     ]
    },
    {
     "name": "stderr",
     "output_type": "stream",
     "text": [
      "\n",
      " 88%|█████████████████████████████████████████████████████████████████████████▌          | 7/8 [00:02<00:00,  2.65it/s]\u001b[A"
     ]
    },
    {
     "name": "stdout",
     "output_type": "stream",
     "text": [
      "1/1 [==============================] - 0s 226ms/step\n"
     ]
    },
    {
     "name": "stderr",
     "output_type": "stream",
     "text": [
      "\n",
      "100%|████████████████████████████████████████████████████████████████████████████████████| 8/8 [00:02<00:00,  2.78it/s]\u001b[A"
     ]
    },
    {
     "name": "stdout",
     "output_type": "stream",
     "text": [
      "(8, 2048)\n"
     ]
    },
    {
     "name": "stderr",
     "output_type": "stream",
     "text": [
      "\n"
     ]
    },
    {
     "name": "stdout",
     "output_type": "stream",
     "text": [
      "8\n",
      "file has been loaded\n"
     ]
    },
    {
     "name": "stderr",
     "output_type": "stream",
     "text": [
      "\n",
      "  0%|                                                                                           | 0/18 [00:00<?, ?it/s]\u001b[A"
     ]
    },
    {
     "name": "stdout",
     "output_type": "stream",
     "text": [
      "1/1 [==============================] - 0s 196ms/step\n"
     ]
    },
    {
     "name": "stderr",
     "output_type": "stream",
     "text": [
      "\n",
      "  6%|████▌                                                                              | 1/18 [00:00<00:06,  2.76it/s]\u001b[A"
     ]
    },
    {
     "name": "stdout",
     "output_type": "stream",
     "text": [
      "1/1 [==============================] - 0s 198ms/step\n"
     ]
    },
    {
     "name": "stderr",
     "output_type": "stream",
     "text": [
      "\n",
      " 11%|█████████▏                                                                         | 2/18 [00:00<00:05,  2.92it/s]\u001b[A"
     ]
    },
    {
     "name": "stdout",
     "output_type": "stream",
     "text": [
      "1/1 [==============================] - 0s 210ms/step\n"
     ]
    },
    {
     "name": "stderr",
     "output_type": "stream",
     "text": [
      "\n",
      " 17%|█████████████▊                                                                     | 3/18 [00:01<00:05,  2.95it/s]\u001b[A"
     ]
    },
    {
     "name": "stdout",
     "output_type": "stream",
     "text": [
      "1/1 [==============================] - 0s 189ms/step\n"
     ]
    },
    {
     "name": "stderr",
     "output_type": "stream",
     "text": [
      "\n",
      " 22%|██████████████████▍                                                                | 4/18 [00:01<00:04,  3.04it/s]\u001b[A"
     ]
    },
    {
     "name": "stdout",
     "output_type": "stream",
     "text": [
      "1/1 [==============================] - 0s 190ms/step\n"
     ]
    },
    {
     "name": "stderr",
     "output_type": "stream",
     "text": [
      "\n",
      " 28%|███████████████████████                                                            | 5/18 [00:01<00:04,  3.15it/s]\u001b[A"
     ]
    },
    {
     "name": "stdout",
     "output_type": "stream",
     "text": [
      "1/1 [==============================] - 0s 228ms/step\n"
     ]
    },
    {
     "name": "stderr",
     "output_type": "stream",
     "text": [
      "\n",
      " 33%|███████████████████████████▋                                                       | 6/18 [00:02<00:04,  2.98it/s]\u001b[A"
     ]
    },
    {
     "name": "stdout",
     "output_type": "stream",
     "text": [
      "1/1 [==============================] - 0s 245ms/step\n"
     ]
    },
    {
     "name": "stderr",
     "output_type": "stream",
     "text": [
      "\n",
      " 39%|████████████████████████████████▎                                                  | 7/18 [00:02<00:03,  2.86it/s]\u001b[A"
     ]
    },
    {
     "name": "stdout",
     "output_type": "stream",
     "text": [
      "1/1 [==============================] - 0s 205ms/step\n"
     ]
    },
    {
     "name": "stderr",
     "output_type": "stream",
     "text": [
      "\n",
      " 44%|████████████████████████████████████▉                                              | 8/18 [00:02<00:03,  2.90it/s]\u001b[A"
     ]
    },
    {
     "name": "stdout",
     "output_type": "stream",
     "text": [
      "1/1 [==============================] - 0s 217ms/step\n"
     ]
    },
    {
     "name": "stderr",
     "output_type": "stream",
     "text": [
      "\n",
      " 50%|█████████████████████████████████████████▌                                         | 9/18 [00:03<00:03,  2.91it/s]\u001b[A"
     ]
    },
    {
     "name": "stdout",
     "output_type": "stream",
     "text": [
      "1/1 [==============================] - 0s 228ms/step\n"
     ]
    },
    {
     "name": "stderr",
     "output_type": "stream",
     "text": [
      "\n",
      " 56%|█████████████████████████████████████████████▌                                    | 10/18 [00:03<00:02,  2.90it/s]\u001b[A"
     ]
    },
    {
     "name": "stdout",
     "output_type": "stream",
     "text": [
      "1/1 [==============================] - 0s 172ms/step\n"
     ]
    },
    {
     "name": "stderr",
     "output_type": "stream",
     "text": [
      "\n",
      " 61%|██████████████████████████████████████████████████                                | 11/18 [00:03<00:02,  3.02it/s]\u001b[A"
     ]
    },
    {
     "name": "stdout",
     "output_type": "stream",
     "text": [
      "1/1 [==============================] - 0s 222ms/step\n"
     ]
    },
    {
     "name": "stderr",
     "output_type": "stream",
     "text": [
      "\n",
      " 67%|██████████████████████████████████████████████████████▋                           | 12/18 [00:04<00:02,  2.96it/s]\u001b[A"
     ]
    },
    {
     "name": "stdout",
     "output_type": "stream",
     "text": [
      "1/1 [==============================] - 0s 214ms/step\n"
     ]
    },
    {
     "name": "stderr",
     "output_type": "stream",
     "text": [
      "\n",
      " 72%|███████████████████████████████████████████████████████████▏                      | 13/18 [00:04<00:01,  2.88it/s]\u001b[A"
     ]
    },
    {
     "name": "stdout",
     "output_type": "stream",
     "text": [
      "1/1 [==============================] - 0s 218ms/step\n"
     ]
    },
    {
     "name": "stderr",
     "output_type": "stream",
     "text": [
      "\n",
      " 78%|███████████████████████████████████████████████████████████████▊                  | 14/18 [00:04<00:01,  2.83it/s]\u001b[A"
     ]
    },
    {
     "name": "stdout",
     "output_type": "stream",
     "text": [
      "1/1 [==============================] - 0s 228ms/step\n"
     ]
    },
    {
     "name": "stderr",
     "output_type": "stream",
     "text": [
      "\n",
      " 83%|████████████████████████████████████████████████████████████████████▎             | 15/18 [00:05<00:01,  2.84it/s]\u001b[A"
     ]
    },
    {
     "name": "stdout",
     "output_type": "stream",
     "text": [
      "1/1 [==============================] - 0s 204ms/step\n"
     ]
    },
    {
     "name": "stderr",
     "output_type": "stream",
     "text": [
      "\n",
      " 89%|████████████████████████████████████████████████████████████████████████▉         | 16/18 [00:05<00:00,  2.90it/s]\u001b[A"
     ]
    },
    {
     "name": "stdout",
     "output_type": "stream",
     "text": [
      "1/1 [==============================] - 0s 214ms/step\n"
     ]
    },
    {
     "name": "stderr",
     "output_type": "stream",
     "text": [
      "\n",
      " 94%|█████████████████████████████████████████████████████████████████████████████▍    | 17/18 [00:05<00:00,  2.95it/s]\u001b[A"
     ]
    },
    {
     "name": "stdout",
     "output_type": "stream",
     "text": [
      "1/1 [==============================] - 0s 224ms/step\n"
     ]
    },
    {
     "name": "stderr",
     "output_type": "stream",
     "text": [
      "\n",
      "100%|██████████████████████████████████████████████████████████████████████████████████| 18/18 [00:06<00:00,  2.92it/s]\u001b[A"
     ]
    },
    {
     "name": "stdout",
     "output_type": "stream",
     "text": [
      "(18, 2048)\n"
     ]
    },
    {
     "name": "stderr",
     "output_type": "stream",
     "text": [
      "\n"
     ]
    },
    {
     "name": "stdout",
     "output_type": "stream",
     "text": [
      "18\n",
      "file has been loaded\n"
     ]
    },
    {
     "name": "stderr",
     "output_type": "stream",
     "text": [
      "\n",
      "  0%|                                                                                           | 0/35 [00:00<?, ?it/s]\u001b[A"
     ]
    },
    {
     "name": "stdout",
     "output_type": "stream",
     "text": [
      "1/1 [==============================] - 0s 206ms/step\n"
     ]
    },
    {
     "name": "stderr",
     "output_type": "stream",
     "text": [
      "\n",
      "  3%|██▎                                                                                | 1/35 [00:00<00:11,  2.99it/s]\u001b[A"
     ]
    },
    {
     "name": "stdout",
     "output_type": "stream",
     "text": [
      "1/1 [==============================] - 0s 221ms/step\n"
     ]
    },
    {
     "name": "stderr",
     "output_type": "stream",
     "text": [
      "\n",
      "  6%|████▋                                                                              | 2/35 [00:00<00:11,  2.88it/s]\u001b[A"
     ]
    },
    {
     "name": "stdout",
     "output_type": "stream",
     "text": [
      "1/1 [==============================] - 0s 236ms/step\n"
     ]
    },
    {
     "name": "stderr",
     "output_type": "stream",
     "text": [
      "\n",
      "  9%|███████                                                                            | 3/35 [00:01<00:11,  2.73it/s]\u001b[A"
     ]
    },
    {
     "name": "stdout",
     "output_type": "stream",
     "text": [
      "1/1 [==============================] - 0s 176ms/step\n"
     ]
    },
    {
     "name": "stderr",
     "output_type": "stream",
     "text": [
      "\n",
      " 11%|█████████▍                                                                         | 4/35 [00:01<00:10,  2.88it/s]\u001b[A"
     ]
    },
    {
     "name": "stdout",
     "output_type": "stream",
     "text": [
      "1/1 [==============================] - 0s 214ms/step\n"
     ]
    },
    {
     "name": "stderr",
     "output_type": "stream",
     "text": [
      "\n",
      " 14%|███████████▊                                                                       | 5/35 [00:01<00:10,  2.96it/s]\u001b[A"
     ]
    },
    {
     "name": "stdout",
     "output_type": "stream",
     "text": [
      "1/1 [==============================] - 0s 219ms/step\n"
     ]
    },
    {
     "name": "stderr",
     "output_type": "stream",
     "text": [
      "\n",
      " 17%|██████████████▏                                                                    | 6/35 [00:02<00:09,  2.97it/s]\u001b[A"
     ]
    },
    {
     "name": "stdout",
     "output_type": "stream",
     "text": [
      "1/1 [==============================] - 0s 208ms/step\n"
     ]
    },
    {
     "name": "stderr",
     "output_type": "stream",
     "text": [
      "\n",
      " 20%|████████████████▌                                                                  | 7/35 [00:02<00:09,  2.98it/s]\u001b[A"
     ]
    },
    {
     "name": "stdout",
     "output_type": "stream",
     "text": [
      "1/1 [==============================] - 0s 204ms/step\n"
     ]
    },
    {
     "name": "stderr",
     "output_type": "stream",
     "text": [
      "\n",
      " 23%|██████████████████▉                                                                | 8/35 [00:02<00:09,  2.99it/s]\u001b[A"
     ]
    },
    {
     "name": "stdout",
     "output_type": "stream",
     "text": [
      "1/1 [==============================] - 0s 222ms/step\n"
     ]
    },
    {
     "name": "stderr",
     "output_type": "stream",
     "text": [
      "\n",
      " 26%|█████████████████████▎                                                             | 9/35 [00:03<00:09,  2.89it/s]\u001b[A"
     ]
    },
    {
     "name": "stdout",
     "output_type": "stream",
     "text": [
      "1/1 [==============================] - 0s 236ms/step\n"
     ]
    },
    {
     "name": "stderr",
     "output_type": "stream",
     "text": [
      "\n",
      " 29%|███████████████████████▍                                                          | 10/35 [00:03<00:09,  2.77it/s]\u001b[A"
     ]
    },
    {
     "name": "stdout",
     "output_type": "stream",
     "text": [
      "1/1 [==============================] - 0s 227ms/step\n"
     ]
    },
    {
     "name": "stderr",
     "output_type": "stream",
     "text": [
      "\n",
      " 31%|█████████████████████████▊                                                        | 11/35 [00:03<00:08,  2.76it/s]\u001b[A"
     ]
    },
    {
     "name": "stdout",
     "output_type": "stream",
     "text": [
      "1/1 [==============================] - 0s 218ms/step\n"
     ]
    },
    {
     "name": "stderr",
     "output_type": "stream",
     "text": [
      "\n",
      " 34%|████████████████████████████                                                      | 12/35 [00:04<00:08,  2.80it/s]\u001b[A"
     ]
    },
    {
     "name": "stdout",
     "output_type": "stream",
     "text": [
      "1/1 [==============================] - 0s 198ms/step\n"
     ]
    },
    {
     "name": "stderr",
     "output_type": "stream",
     "text": [
      "\n",
      " 37%|██████████████████████████████▍                                                   | 13/35 [00:04<00:07,  2.89it/s]\u001b[A"
     ]
    },
    {
     "name": "stdout",
     "output_type": "stream",
     "text": [
      "1/1 [==============================] - 0s 215ms/step\n"
     ]
    },
    {
     "name": "stderr",
     "output_type": "stream",
     "text": [
      "\n",
      " 40%|████████████████████████████████▊                                                 | 14/35 [00:04<00:07,  2.92it/s]\u001b[A"
     ]
    },
    {
     "name": "stdout",
     "output_type": "stream",
     "text": [
      "1/1 [==============================] - 0s 201ms/step\n"
     ]
    },
    {
     "name": "stderr",
     "output_type": "stream",
     "text": [
      "\n",
      " 43%|███████████████████████████████████▏                                              | 15/35 [00:05<00:06,  2.97it/s]\u001b[A"
     ]
    },
    {
     "name": "stdout",
     "output_type": "stream",
     "text": [
      "1/1 [==============================] - 0s 208ms/step\n"
     ]
    },
    {
     "name": "stderr",
     "output_type": "stream",
     "text": [
      "\n",
      " 46%|█████████████████████████████████████▍                                            | 16/35 [00:05<00:06,  2.98it/s]\u001b[A"
     ]
    },
    {
     "name": "stdout",
     "output_type": "stream",
     "text": [
      "1/1 [==============================] - 0s 222ms/step\n"
     ]
    },
    {
     "name": "stderr",
     "output_type": "stream",
     "text": [
      "\n",
      " 49%|███████████████████████████████████████▊                                          | 17/35 [00:05<00:06,  2.97it/s]\u001b[A"
     ]
    },
    {
     "name": "stdout",
     "output_type": "stream",
     "text": [
      "1/1 [==============================] - 0s 225ms/step\n"
     ]
    },
    {
     "name": "stderr",
     "output_type": "stream",
     "text": [
      "\n",
      " 51%|██████████████████████████████████████████▏                                       | 18/35 [00:06<00:06,  2.79it/s]\u001b[A"
     ]
    },
    {
     "name": "stdout",
     "output_type": "stream",
     "text": [
      "1/1 [==============================] - 0s 212ms/step\n"
     ]
    },
    {
     "name": "stderr",
     "output_type": "stream",
     "text": [
      "\n",
      " 54%|████████████████████████████████████████████▌                                     | 19/35 [00:06<00:05,  2.86it/s]\u001b[A"
     ]
    },
    {
     "name": "stdout",
     "output_type": "stream",
     "text": [
      "1/1 [==============================] - 0s 218ms/step\n"
     ]
    },
    {
     "name": "stderr",
     "output_type": "stream",
     "text": [
      "\n",
      " 57%|██████████████████████████████████████████████▊                                   | 20/35 [00:06<00:05,  2.86it/s]\u001b[A"
     ]
    },
    {
     "name": "stdout",
     "output_type": "stream",
     "text": [
      "1/1 [==============================] - 0s 200ms/step\n"
     ]
    },
    {
     "name": "stderr",
     "output_type": "stream",
     "text": [
      "\n",
      " 60%|█████████████████████████████████████████████████▏                                | 21/35 [00:07<00:04,  2.91it/s]\u001b[A"
     ]
    },
    {
     "name": "stdout",
     "output_type": "stream",
     "text": [
      "1/1 [==============================] - 0s 219ms/step\n"
     ]
    },
    {
     "name": "stderr",
     "output_type": "stream",
     "text": [
      "\n",
      " 63%|███████████████████████████████████████████████████▌                              | 22/35 [00:07<00:04,  2.80it/s]\u001b[A"
     ]
    },
    {
     "name": "stdout",
     "output_type": "stream",
     "text": [
      "1/1 [==============================] - 0s 225ms/step\n"
     ]
    },
    {
     "name": "stderr",
     "output_type": "stream",
     "text": [
      "\n",
      " 66%|█████████████████████████████████████████████████████▉                            | 23/35 [00:07<00:04,  2.85it/s]\u001b[A"
     ]
    },
    {
     "name": "stdout",
     "output_type": "stream",
     "text": [
      "1/1 [==============================] - 0s 214ms/step\n"
     ]
    },
    {
     "name": "stderr",
     "output_type": "stream",
     "text": [
      "\n",
      " 69%|████████████████████████████████████████████████████████▏                         | 24/35 [00:08<00:03,  2.83it/s]\u001b[A"
     ]
    },
    {
     "name": "stdout",
     "output_type": "stream",
     "text": [
      "1/1 [==============================] - 0s 232ms/step\n"
     ]
    },
    {
     "name": "stderr",
     "output_type": "stream",
     "text": [
      "\n",
      " 71%|██████████████████████████████████████████████████████████▌                       | 25/35 [00:08<00:03,  2.76it/s]\u001b[A"
     ]
    },
    {
     "name": "stdout",
     "output_type": "stream",
     "text": [
      "1/1 [==============================] - 0s 212ms/step\n"
     ]
    },
    {
     "name": "stderr",
     "output_type": "stream",
     "text": [
      "\n",
      " 74%|████████████████████████████████████████████████████████████▉                     | 26/35 [00:09<00:03,  2.75it/s]\u001b[A"
     ]
    },
    {
     "name": "stdout",
     "output_type": "stream",
     "text": [
      "1/1 [==============================] - 0s 224ms/step\n"
     ]
    },
    {
     "name": "stderr",
     "output_type": "stream",
     "text": [
      "\n",
      " 77%|███████████████████████████████████████████████████████████████▎                  | 27/35 [00:09<00:02,  2.74it/s]\u001b[A"
     ]
    },
    {
     "name": "stdout",
     "output_type": "stream",
     "text": [
      "1/1 [==============================] - 0s 210ms/step\n"
     ]
    },
    {
     "name": "stderr",
     "output_type": "stream",
     "text": [
      "\n",
      " 80%|█████████████████████████████████████████████████████████████████▌                | 28/35 [00:09<00:02,  2.77it/s]\u001b[A"
     ]
    },
    {
     "name": "stdout",
     "output_type": "stream",
     "text": [
      "1/1 [==============================] - 0s 216ms/step\n"
     ]
    },
    {
     "name": "stderr",
     "output_type": "stream",
     "text": [
      "\n",
      " 83%|███████████████████████████████████████████████████████████████████▉              | 29/35 [00:10<00:02,  2.84it/s]\u001b[A"
     ]
    },
    {
     "name": "stdout",
     "output_type": "stream",
     "text": [
      "1/1 [==============================] - 0s 215ms/step\n"
     ]
    },
    {
     "name": "stderr",
     "output_type": "stream",
     "text": [
      "\n",
      " 86%|██████████████████████████████████████████████████████████████████████▎           | 30/35 [00:10<00:01,  2.84it/s]\u001b[A"
     ]
    },
    {
     "name": "stdout",
     "output_type": "stream",
     "text": [
      "1/1 [==============================] - 0s 222ms/step\n"
     ]
    },
    {
     "name": "stderr",
     "output_type": "stream",
     "text": [
      "\n",
      " 89%|████████████████████████████████████████████████████████████████████████▋         | 31/35 [00:10<00:01,  2.83it/s]\u001b[A"
     ]
    },
    {
     "name": "stdout",
     "output_type": "stream",
     "text": [
      "1/1 [==============================] - 0s 230ms/step\n"
     ]
    },
    {
     "name": "stderr",
     "output_type": "stream",
     "text": [
      "\n",
      " 91%|██████████████████████████████████████████████████████████████████████████▉       | 32/35 [00:11<00:01,  2.65it/s]\u001b[A"
     ]
    },
    {
     "name": "stdout",
     "output_type": "stream",
     "text": [
      "1/1 [==============================] - 0s 201ms/step\n"
     ]
    },
    {
     "name": "stderr",
     "output_type": "stream",
     "text": [
      "\n",
      " 94%|█████████████████████████████████████████████████████████████████████████████▎    | 33/35 [00:11<00:00,  2.79it/s]\u001b[A"
     ]
    },
    {
     "name": "stdout",
     "output_type": "stream",
     "text": [
      "1/1 [==============================] - 0s 233ms/step\n"
     ]
    },
    {
     "name": "stderr",
     "output_type": "stream",
     "text": [
      "\n",
      " 97%|███████████████████████████████████████████████████████████████████████████████▋  | 34/35 [00:11<00:00,  2.75it/s]\u001b[A"
     ]
    },
    {
     "name": "stdout",
     "output_type": "stream",
     "text": [
      "1/1 [==============================] - 0s 215ms/step\n"
     ]
    },
    {
     "name": "stderr",
     "output_type": "stream",
     "text": [
      "\n",
      "100%|██████████████████████████████████████████████████████████████████████████████████| 35/35 [00:12<00:00,  2.83it/s]\u001b[A"
     ]
    },
    {
     "name": "stdout",
     "output_type": "stream",
     "text": [
      "(35, 2048)\n"
     ]
    },
    {
     "name": "stderr",
     "output_type": "stream",
     "text": [
      "\n"
     ]
    },
    {
     "name": "stdout",
     "output_type": "stream",
     "text": [
      "35\n",
      "file has been loaded\n"
     ]
    },
    {
     "name": "stderr",
     "output_type": "stream",
     "text": [
      "\n",
      "  0%|                                                                                            | 0/1 [00:00<?, ?it/s]\u001b[A"
     ]
    },
    {
     "name": "stdout",
     "output_type": "stream",
     "text": [
      "1/1 [==============================] - 0s 194ms/step\n"
     ]
    },
    {
     "name": "stderr",
     "output_type": "stream",
     "text": [
      "\n",
      "100%|████████████████████████████████████████████████████████████████████████████████████| 1/1 [00:00<00:00,  3.01it/s]\u001b[A"
     ]
    },
    {
     "name": "stdout",
     "output_type": "stream",
     "text": [
      "(1, 2048)\n"
     ]
    },
    {
     "name": "stderr",
     "output_type": "stream",
     "text": [
      "\n"
     ]
    },
    {
     "name": "stdout",
     "output_type": "stream",
     "text": [
      "1\n",
      "file has been loaded\n"
     ]
    },
    {
     "name": "stderr",
     "output_type": "stream",
     "text": [
      "\n",
      "  0%|                                                                                            | 0/6 [00:00<?, ?it/s]\u001b[A"
     ]
    },
    {
     "name": "stdout",
     "output_type": "stream",
     "text": [
      "1/1 [==============================] - 0s 207ms/step\n"
     ]
    },
    {
     "name": "stderr",
     "output_type": "stream",
     "text": [
      "\n",
      " 17%|██████████████                                                                      | 1/6 [00:00<00:01,  3.11it/s]\u001b[A"
     ]
    },
    {
     "name": "stdout",
     "output_type": "stream",
     "text": [
      "1/1 [==============================] - 0s 224ms/step\n"
     ]
    },
    {
     "name": "stderr",
     "output_type": "stream",
     "text": [
      "\n",
      " 33%|████████████████████████████                                                        | 2/6 [00:00<00:01,  3.03it/s]\u001b[A"
     ]
    },
    {
     "name": "stdout",
     "output_type": "stream",
     "text": [
      "1/1 [==============================] - 0s 204ms/step\n"
     ]
    },
    {
     "name": "stderr",
     "output_type": "stream",
     "text": [
      "\n",
      " 50%|██████████████████████████████████████████                                          | 3/6 [00:01<00:01,  2.95it/s]\u001b[A"
     ]
    },
    {
     "name": "stdout",
     "output_type": "stream",
     "text": [
      "1/1 [==============================] - 0s 215ms/step\n"
     ]
    },
    {
     "name": "stderr",
     "output_type": "stream",
     "text": [
      "\n",
      " 67%|████████████████████████████████████████████████████████                            | 4/6 [00:01<00:00,  2.90it/s]\u001b[A"
     ]
    },
    {
     "name": "stdout",
     "output_type": "stream",
     "text": [
      "1/1 [==============================] - 0s 235ms/step\n"
     ]
    },
    {
     "name": "stderr",
     "output_type": "stream",
     "text": [
      "\n",
      " 83%|██████████████████████████████████████████████████████████████████████              | 5/6 [00:01<00:00,  2.81it/s]\u001b[A"
     ]
    },
    {
     "name": "stdout",
     "output_type": "stream",
     "text": [
      "1/1 [==============================] - 0s 220ms/step\n"
     ]
    },
    {
     "name": "stderr",
     "output_type": "stream",
     "text": [
      "\n",
      "100%|████████████████████████████████████████████████████████████████████████████████████| 6/6 [00:02<00:00,  2.88it/s]\u001b[A"
     ]
    },
    {
     "name": "stdout",
     "output_type": "stream",
     "text": [
      "(6, 2048)\n"
     ]
    },
    {
     "name": "stderr",
     "output_type": "stream",
     "text": [
      "\n"
     ]
    },
    {
     "name": "stdout",
     "output_type": "stream",
     "text": [
      "6\n",
      "file has been loaded\n"
     ]
    },
    {
     "name": "stderr",
     "output_type": "stream",
     "text": [
      "\n",
      "0it [00:00, ?it/s]\u001b[A\n"
     ]
    },
    {
     "name": "stdout",
     "output_type": "stream",
     "text": [
      "(0,)\n",
      "0\n",
      "file has been loaded\n",
      "program has terminated\n"
     ]
    }
   ],
   "source": [
    "import mysql.connector as mysql\n",
    "from mysql.connector import Error\n",
    "import tensorflow_hub as hub\n",
    "import tensorflow\n",
    "from tensorflow.keras.preprocessing import image\n",
    "from tensorflow.keras.layers import GlobalMaxPooling2D\n",
    "from tensorflow.keras.applications.resnet50 import ResNet50,preprocess_input\n",
    "import numpy as np\n",
    "from numpy.linalg import norm\n",
    "import pickle\n",
    "import os\n",
    "import time\n",
    "from tqdm import tqdm\n",
    "\n",
    "# Create a function to write the image file in local machine \n",
    "def write_file(data, filename):\n",
    "    with open(filename, 'wb') as f:\n",
    "        f.write(data)\n",
    "\n",
    "# Create a function to extract the feature of the image using model\n",
    "def extract_features(img_path,model):\n",
    "    img = image.load_img(img_path,target_size=(224,224))\n",
    "    img_array = image.img_to_array(img)\n",
    "    expanded_img_array = np.expand_dims(img_array, axis=0)\n",
    "    preprocessed_img = preprocess_input(expanded_img_array)\n",
    "    result = model.predict(preprocessed_img).flatten()\n",
    "    normalized_result = result / norm(result)\n",
    "\n",
    "    return normalized_result\n",
    "\n",
    "#Create a ResNet Model\n",
    "model = ResNet50(weights='imagenet',include_top=False,input_shape=(224,224,3))\n",
    "model.trainable = False\n",
    "\n",
    "model = tensorflow.keras.Sequential([\n",
    "    model,\n",
    "    GlobalMaxPooling2D()\n",
    "])\n",
    "\n",
    "genres=[\"Action\", \"Adventure\", \"Animation\", \"Comedy\", \"Crime\", \"Documentary\", \"Drama\", \"Family\", \"Fantasy\", \"History\", \"Horror\", \"Music\", \"Mystery\", \"Romance\", \"Science Fiction\", \"Thriller\", \"TV Movie\", \"War\", \"Western\"]\n",
    "try:\n",
    "    conn = mysql.connect(host='localhost', database='movies', user='root', password='@Temp2023')\n",
    "    if conn.is_connected():\n",
    "        cursor = conn.cursor()\n",
    "        cursor.execute(\"select database();\")\n",
    "        record = cursor.fetchone()\n",
    "        print(\"You're connected to database: \", record)\n",
    "        for genre in genres:\n",
    "            feature_list =[]\n",
    "            filenumber=[]\n",
    "            sql=\"SELECT movie_id, poster_image FROM movies.movie_data where movie_id > 0 &&  movie_id < 50000 && poster_image Is Not Null && genres like (%s)\"\n",
    "            cursor.execute(sql,(\"%\"+genre+\"%\",))\n",
    "            #cursor.execute(\"SELECT movie_id FROM movies.movie_data where movie_id < 10000 && poster_image Is Not Null\")\n",
    "            myresult = cursor.fetchall()\n",
    "            for x in tqdm(myresult):\n",
    "                filenumber.append(x[0])\n",
    "                #Provide the poster image path for the feature extraction:-\n",
    "                poster_image_path=\"posters/\"+str(x[0])+\".jpg\"\n",
    "                write_file(x[1], poster_image_path)\n",
    "                feature_list.append(extract_features(poster_image_path,model))\n",
    "            print(np.array(feature_list).shape)\n",
    "            # provide the path for the feature extraction file \n",
    "            feature_extraction_file='Extraction/'+genre+'_imageFeaturesEmbeddings.pkl'\n",
    "            pickle.dump(feature_list,open(feature_extraction_file,'wb'))\n",
    "            time.sleep(30)\n",
    "            print(len(filenumber))\n",
    "            # provide the path for the feature extraction file \n",
    "            feature_filenumber_file='Extraction/'+genre+'_imageFeaturesFileNumber.pkl'\n",
    "            pickle.dump(filenumber,open(feature_filenumber_file,'wb'))\n",
    "            print(\"file has been loaded\")\n",
    "            time.sleep(30)\n",
    "except Error as e:\n",
    "   print(e)\n",
    "print(\"program has terminated\")"
   ]
  },
  {
   "cell_type": "markdown",
   "metadata": {
    "id": "PHSMQ1LwYm6P"
   },
   "source": [
    "Note:- The above code is a once time execution"
   ]
  },
  {
   "cell_type": "markdown",
   "metadata": {
    "id": "h5HC7gjUas4W"
   },
   "source": [
    "##4.Similarity calculation:\n",
    "The 'brute' algorithm has been used to determine the nearest neighbor images for the reference, using the Euclidean distance metric to measure visual similarity. \n",
    "\n",
    "\n"
   ]
  },
  {
   "cell_type": "markdown",
   "metadata": {
    "id": "0DXtkBnDbxB-"
   },
   "source": [
    "###`Euclidean distance`\n",
    "\n",
    "also known as Euclidean metric, is a measure of the straight-line distance between two points in Euclidean space."
   ]
  },
  {
   "cell_type": "markdown",
   "metadata": {
    "id": "EI_cGo6Ab9qU"
   },
   "source": [
    "###`Brute-Force Algorithm`\n",
    "\n",
    "also known as an exhaustive search algorithm, is a straightforward approach to problem-solving that systematically tries every possible solution"
   ]
  },
  {
   "cell_type": "markdown",
   "metadata": {
    "id": "7VzxUxMwmttQ"
   },
   "source": [
    "## 5.Ranking & recommendation:\n",
    "The best 5 visually similar images from each following genre of the reference film are suggested using the scores from the Euclidean distance metric computation."
   ]
  },
  {
   "cell_type": "markdown",
   "metadata": {
    "id": "WUjYwkzwu78G"
   },
   "source": [
    "# Movie Recommendation Front end application"
   ]
  },
  {
   "cell_type": "markdown",
   "metadata": {
    "id": "Mi2YUpEVvgMl"
   },
   "source": [
    "The front end application has been developed using the Streamlit platform\n",
    "\n",
    "To view the Streamlit app on a browser, run it with the following\n",
    "  command:\n",
    "\n",
    "    streamlit run pythonfile\n",
    "\n",
    "Example:-\n",
    "\n",
    "    streamlit run c:\\users\\vivek.kakumanu\\desktop\\python_learnings\\python_script\\project\\poster_recomendation_system\\movie_recomendation_based_on_genres.py\n"
   ]
  },
  {
   "cell_type": "code",
   "execution_count": null,
   "metadata": {
    "id": "zFS_ptYQcMxh"
   },
   "outputs": [],
   "source": [
    "import streamlit as st\n",
    "from PIL import Image\n",
    "import numpy as np\n",
    "import pickle\n",
    "import tensorflow\n",
    "from tensorflow.keras.preprocessing import image\n",
    "from tensorflow.keras.layers import GlobalMaxPooling2D\n",
    "from tensorflow.keras.applications.resnet50 import ResNet50,preprocess_input\n",
    "from sklearn.neighbors import NearestNeighbors\n",
    "from numpy.linalg import norm\n",
    "import mysql.connector as mysql\n",
    "from mysql.connector import Error\n",
    "import random\n",
    "\n",
    "st.title('Movie Poster Recommender System')\n",
    "\n",
    "\n",
    "#Create a file method \n",
    "def file_name(uploaded_file):\n",
    "    return \"uploads/\"+ str(uploaded_file)+\".jpg\"\n",
    "\n",
    "\n",
    "#Create a save file method \n",
    "def save_uploaded_file(data, uploaded_file):\n",
    "    try:\n",
    "        with open(file_name(uploaded_file),'wb') as f:\n",
    "            f.write(data)\n",
    "        return 1\n",
    "    except:\n",
    "        return 0\n",
    "\n",
    "# Create a function to extract the feature of the image using model\n",
    "def feature_extraction(img_path,model):\n",
    "    img = image.load_img(img_path, target_size=(224, 224))\n",
    "    img_array = image.img_to_array(img)\n",
    "    expanded_img_array = np.expand_dims(img_array, axis=0)\n",
    "    preprocessed_img = preprocess_input(expanded_img_array)\n",
    "    result = model.predict(preprocessed_img).flatten()\n",
    "    normalized_result = result / norm(result)\n",
    "\n",
    "    return normalized_result\n",
    "\n",
    "# Create a function to recommend the images based on the features extract by the model.\n",
    "def recommend(features,genre):\n",
    "  # provide the path for the feature extraction file \n",
    "    feature_extraction_file='Extraction/'+genre+'_imageFeaturesEmbeddings.pkl'        \n",
    "    feature_list = np.array(pickle.load(open(feature_extraction_file,'rb')))\n",
    "    neighbors = NearestNeighbors(n_neighbors=6, algorithm='brute', metric='euclidean')\n",
    "    neighbors.fit(feature_list)\n",
    "\n",
    "    distances, indices = neighbors.kneighbors([features])\n",
    "\n",
    "    return indices\n",
    "\n",
    "model = ResNet50(weights='imagenet',include_top=False,input_shape=(224,224,3))\n",
    "model.trainable = False\n",
    "\n",
    "model = tensorflow.keras.Sequential([\n",
    "    model,\n",
    "    GlobalMaxPooling2D()\n",
    "])\n",
    "\n",
    "\n",
    "def predict_movies(movie_id):\n",
    "    # feature extract\n",
    "        features = feature_extraction(file_name(movie_id),model)\n",
    "        sql = \"SELECT movie_title, genres FROM movies.movie_data where movie_id = \"+str(movie_id)\n",
    "        print(sql)\n",
    "        cursor.execute(sql)\n",
    "        txt=cursor.fetchall()\n",
    "        print(txt[0][1])\n",
    "        genres = txt[0][1].split('-')\n",
    "        st.write(txt[0][0])\n",
    "        st.write(txt[0][1])\n",
    "        for genre in genres:\n",
    "            # recommendention\n",
    "            indices = recommend(features,genre)\n",
    "            where_in = ','.join(['%s'] * len(indices[0]))\n",
    "            # provide the path for the feature extraction file \n",
    "            feature_filenumber_file='Extraction/'+genre+'_imageFeaturesFileNumber.pkl'\n",
    "            filenames1 = pickle.load(open(feature_filenumber_file,'rb'))\n",
    "            sql = \"SELECT movie_id,movie_title,poster_image FROM movies.movie_data where movie_id in (%s)\" % (where_in)\n",
    "            sql = sql+ \"and genres like (%s) and movie_id not in (%s)\"\n",
    "            indices_list=[]\n",
    "            length = len(indices[0])\n",
    "            for i in range(0,length):\n",
    "                indices_list.append(filenames1[indices[0][i]])\n",
    "            tuple_list = tuple(indices_list) + (\"%\"+genre+\"%\", movie_id,)\n",
    "            cursor.execute(sql,tuple_list)\n",
    "            recomended_results = cursor.fetchall()\n",
    "            recomended_result=[]\n",
    "            for i in range (0,len(recomended_results)):\n",
    "                for j in range(length):\n",
    "                    if indices_list[j]==recomended_results[i][0]:\n",
    "                        recomended_result.append(recomended_results[i])\n",
    "                if len(recomended_result)==6:\n",
    "                    break\n",
    "            st.header(genre)\n",
    "            col1,col2,col3,col4,col5 = st.columns(5)\n",
    "            \n",
    "            with col1:\n",
    "                if save_uploaded_file(recomended_result[0][2],recomended_result[0][0]):\n",
    "                # display the file\n",
    "                    display_image = Image.open(file_name(recomended_result[0][0]))\n",
    "                    st.image(display_image)\n",
    "                    st.write(recomended_result[0][1])\n",
    "            with col2:\n",
    "                if save_uploaded_file(recomended_result[1][2],recomended_result[1][0]):\n",
    "                # display the file\n",
    "                    display_image = Image.open(file_name(recomended_result[1][0]))\n",
    "                    st.image(display_image)\n",
    "                    st.write(recomended_result[1][1])\n",
    "            with col3:\n",
    "                if save_uploaded_file(recomended_result[2][2],recomended_result[2][0]):\n",
    "                # display the file\n",
    "                    display_image = Image.open(file_name(recomended_result[2][0]))\n",
    "                    st.image(display_image)\n",
    "                    st.write(recomended_result[2][1])\n",
    "            with col4:\n",
    "                if save_uploaded_file(recomended_result[3][2],recomended_result[3][0]):\n",
    "                # display the file\n",
    "                    display_image = Image.open(file_name(recomended_result[3][0]))\n",
    "                    st.image(display_image)\n",
    "                    st.write(recomended_result[3][1]) \n",
    "            with col5:\n",
    "                if save_uploaded_file(recomended_result[4][2],recomended_result[4][0]):\n",
    "                # display the file\n",
    "                    display_image = Image.open(file_name(recomended_result[4][0]))\n",
    "                    st.image(display_image)\n",
    "                    st.write(recomended_result[4][1])\n",
    "\n",
    "if \"refreshclick\" not in st.session_state:\n",
    "    st.session_state.refreshclick=False\n",
    "    if \"movie_id\" not in st.session_state:\n",
    "        randomlist=[]\n",
    "        for i in range(0,30):\n",
    "            n = random.randint(1,50000)\n",
    "            randomlist.append(n)\n",
    "        st.session_state.movie_id=randomlist\n",
    "\n",
    "   \n",
    "try:\n",
    "    conn = mysql.connect(host='localhost', database='movies', user='root', password='@Temp2023')\n",
    "    if conn.is_connected():\n",
    "        cursor = conn.cursor()\n",
    "        cursor.execute(\"select database();\")\n",
    "        record = cursor.fetchone()\n",
    "        print(\"You're connected to database: \", record)\n",
    "        print (\"randon number\",tuple(st.session_state.movie_id))\n",
    "        where_in = ','.join(['%s'] * len(st.session_state['movie_id']))\n",
    "        sql = \"SELECT movie_id,movie_title,poster_image FROM movies.movie_data where movie_id in (%s)\" % (where_in)\n",
    "        sql = sql+ \"and genres not like (%s) and genres not like (%s) and genres not like (%s) \"\n",
    "        print(sql)\n",
    "        tuple_list = tuple(st.session_state.movie_id) + (\"%TV Movie%\",\"%Romance%\",\"%Drama%\",)\n",
    "        print(len(tuple_list))\n",
    "        cursor.execute(sql, tuple_list)\n",
    "        myresult = cursor.fetchall()\n",
    "        col1,col2,col3,col4,col5 = st.columns(5)\n",
    "        st.session_state.refreshclick = False\n",
    "        if(len(myresult)!=0):\n",
    "            with col1:\n",
    "                if save_uploaded_file(myresult[0][2],myresult[0][0]):\n",
    "                # display the file\n",
    "                    display_image = Image.open(file_name(myresult[0][0]))\n",
    "                    clicked_0 = st.button(myresult[0][1] , st.image(display_image))\n",
    "            with col2:\n",
    "                if save_uploaded_file(myresult[1][2],myresult[1][0]):\n",
    "                # display the file\n",
    "                    display_image = Image.open(file_name(myresult[1][0]))\n",
    "                    clicked_1 = st.button(myresult[1][1] , st.image(display_image))\n",
    "                    \n",
    "            with col3:\n",
    "                if save_uploaded_file(myresult[2][2],myresult[2][0]):\n",
    "                # display the file\n",
    "                    display_image = Image.open(file_name(myresult[2][0]))\n",
    "                    clicked_2 = st.button(myresult[2][1] , st.image(display_image))\n",
    "            with col4:\n",
    "                if save_uploaded_file(myresult[3][2],myresult[3][0]):\n",
    "                # display the file\n",
    "                    display_image = Image.open(file_name(myresult[3][0]))\n",
    "                    clicked_3 = st.button(myresult[3][1] , st.image(display_image))\n",
    "                    \n",
    "            with col5:\n",
    "                if save_uploaded_file(myresult[4][2],myresult[4][0]):\n",
    "                # display the file\n",
    "                    display_image = Image.open(file_name(myresult[4][0]))\n",
    "                    clicked_4 = st.button(myresult[4][1] , st.image(display_image))\n",
    "                    \n",
    "            if(clicked_0):\n",
    "                predict_movies(myresult[0][0])\n",
    "            if(clicked_1):\n",
    "                predict_movies(myresult[1][0])\n",
    "            if(clicked_2):\n",
    "                predict_movies(myresult[2][0])\n",
    "            if(clicked_3):\n",
    "                predict_movies(myresult[3][0])\n",
    "            if(clicked_4):\n",
    "                predict_movies(myresult[4][0])\n",
    "                        \n",
    "    else:\n",
    "        st.header(\"Data Base Connection issue\")\n",
    "except Error as e:\n",
    "   print(e)\n",
    "clicked = st.button(\"Refresh\")"
   ]
  },
  {
   "cell_type": "code",
   "execution_count": 6,
   "metadata": {},
   "outputs": [
    {
     "name": "stdout",
     "output_type": "stream",
     "text": [
      "^C\n"
     ]
    }
   ],
   "source": [
    "!streamlit run mrs.py"
   ]
  },
  {
   "cell_type": "code",
   "execution_count": 2,
   "metadata": {},
   "outputs": [],
   "source": [
    "from azure.storage.blob import BlobServiceClient"
   ]
  },
  {
   "cell_type": "code",
   "execution_count": null,
   "metadata": {},
   "outputs": [],
   "source": [
    "from azure.storage.blob import BlockBlobService\n",
    "\n",
    "block_blob_service = BlockBlobService(account_name='myaccount', account_key='mykey')\n",
    "\n",
    "block_blob_service.get_blob_to_path('mycontainer', 'myblockblob', 'out-sunset.png')"
   ]
  },
  {
   "cell_type": "code",
   "execution_count": 1,
   "metadata": {},
   "outputs": [
    {
     "ename": "ImportError",
     "evalue": "cannot import name 'BlockBlobService' from 'azure.storage.blob' (C:\\Users\\ds.perneti\\.conda\\envs\\pysnowpark\\lib\\site-packages\\azure\\storage\\blob\\__init__.py)",
     "output_type": "error",
     "traceback": [
      "\u001b[1;31m---------------------------------------------------------------------------\u001b[0m",
      "\u001b[1;31mImportError\u001b[0m                               Traceback (most recent call last)",
      "Cell \u001b[1;32mIn[1], line 1\u001b[0m\n\u001b[1;32m----> 1\u001b[0m \u001b[38;5;28;01mfrom\u001b[39;00m \u001b[38;5;21;01mazure\u001b[39;00m\u001b[38;5;21;01m.\u001b[39;00m\u001b[38;5;21;01mstorage\u001b[39;00m\u001b[38;5;21;01m.\u001b[39;00m\u001b[38;5;21;01mblob\u001b[39;00m \u001b[38;5;28;01mimport\u001b[39;00m BlockBlobService\n",
      "\u001b[1;31mImportError\u001b[0m: cannot import name 'BlockBlobService' from 'azure.storage.blob' (C:\\Users\\ds.perneti\\.conda\\envs\\pysnowpark\\lib\\site-packages\\azure\\storage\\blob\\__init__.py)"
     ]
    }
   ],
   "source": [
    "from azure.storage.blob import BlockBlobService"
   ]
  },
  {
   "cell_type": "code",
   "execution_count": 2,
   "metadata": {},
   "outputs": [
    {
     "name": "stdout",
     "output_type": "stream",
     "text": [
      "Collecting azure-storage-blob\n",
      "  Downloading azure_storage_blob-12.16.0-py3-none-any.whl (387 kB)\n",
      "     ---------------------------------------- 0.0/388.0 kB ? eta -:--:--\n",
      "     ------------------------- ------------ 256.0/388.0 kB 5.2 MB/s eta 0:00:01\n",
      "     -------------------------------------- 388.0/388.0 kB 4.0 MB/s eta 0:00:00\n",
      "Collecting azure-identity\n",
      "  Downloading azure_identity-1.13.0-py3-none-any.whl (151 kB)\n",
      "     ---------------------------------------- 0.0/151.6 kB ? eta -:--:--\n",
      "     -------------------------------------- 151.6/151.6 kB 8.8 MB/s eta 0:00:00\n",
      "Requirement already satisfied: cryptography>=2.1.4 in c:\\users\\ds.perneti\\.conda\\envs\\pysnowpark\\lib\\site-packages (from azure-storage-blob) (40.0.2)\n",
      "Collecting azure-core<2.0.0,>=1.26.0\n",
      "  Downloading azure_core-1.27.0-py3-none-any.whl (174 kB)\n",
      "     ---------------------------------------- 0.0/174.2 kB ? eta -:--:--\n",
      "     -------------------------------------- 174.2/174.2 kB 5.3 MB/s eta 0:00:00\n",
      "Collecting isodate>=0.6.1\n",
      "  Downloading isodate-0.6.1-py2.py3-none-any.whl (41 kB)\n",
      "     ---------------------------------------- 0.0/41.7 kB ? eta -:--:--\n",
      "     ---------------------------------------- 41.7/41.7 kB 1.0 MB/s eta 0:00:00\n",
      "Requirement already satisfied: typing-extensions>=4.0.1 in c:\\users\\ds.perneti\\.conda\\envs\\pysnowpark\\lib\\site-packages (from azure-storage-blob) (4.5.0)\n",
      "Requirement already satisfied: six>=1.12.0 in c:\\users\\ds.perneti\\.conda\\envs\\pysnowpark\\lib\\site-packages (from azure-identity) (1.16.0)\n",
      "Collecting msal-extensions<2.0.0,>=0.3.0\n",
      "  Downloading msal_extensions-1.0.0-py2.py3-none-any.whl (19 kB)\n",
      "Collecting msal<2.0.0,>=1.20.0\n",
      "  Downloading msal-1.22.0-py2.py3-none-any.whl (90 kB)\n",
      "     ---------------------------------------- 0.0/90.0 kB ? eta -:--:--\n",
      "     ---------------------------------------- 90.0/90.0 kB 5.0 MB/s eta 0:00:00\n",
      "Requirement already satisfied: requests>=2.18.4 in c:\\users\\ds.perneti\\.conda\\envs\\pysnowpark\\lib\\site-packages (from azure-core<2.0.0,>=1.26.0->azure-storage-blob) (2.30.0)\n",
      "Requirement already satisfied: cffi>=1.12 in c:\\users\\ds.perneti\\.conda\\envs\\pysnowpark\\lib\\site-packages (from cryptography>=2.1.4->azure-storage-blob) (1.15.1)\n",
      "Requirement already satisfied: PyJWT[crypto]<3,>=1.0.0 in c:\\users\\ds.perneti\\.conda\\envs\\pysnowpark\\lib\\site-packages (from msal<2.0.0,>=1.20.0->azure-identity) (2.7.0)\n",
      "Collecting portalocker<3,>=1.6\n",
      "  Downloading portalocker-2.7.0-py2.py3-none-any.whl (15 kB)\n",
      "Requirement already satisfied: pycparser in c:\\users\\ds.perneti\\.conda\\envs\\pysnowpark\\lib\\site-packages (from cffi>=1.12->cryptography>=2.1.4->azure-storage-blob) (2.21)\n",
      "Requirement already satisfied: pywin32>=226 in c:\\users\\ds.perneti\\.conda\\envs\\pysnowpark\\lib\\site-packages (from portalocker<3,>=1.6->msal-extensions<2.0.0,>=0.3.0->azure-identity) (306)\n",
      "Requirement already satisfied: urllib3<3,>=1.21.1 in c:\\users\\ds.perneti\\.conda\\envs\\pysnowpark\\lib\\site-packages (from requests>=2.18.4->azure-core<2.0.0,>=1.26.0->azure-storage-blob) (1.26.15)\n",
      "Requirement already satisfied: idna<4,>=2.5 in c:\\users\\ds.perneti\\.conda\\envs\\pysnowpark\\lib\\site-packages (from requests>=2.18.4->azure-core<2.0.0,>=1.26.0->azure-storage-blob) (3.4)\n",
      "Requirement already satisfied: certifi>=2017.4.17 in c:\\users\\ds.perneti\\.conda\\envs\\pysnowpark\\lib\\site-packages (from requests>=2.18.4->azure-core<2.0.0,>=1.26.0->azure-storage-blob) (2023.5.7)\n",
      "Requirement already satisfied: charset-normalizer<4,>=2 in c:\\users\\ds.perneti\\.conda\\envs\\pysnowpark\\lib\\site-packages (from requests>=2.18.4->azure-core<2.0.0,>=1.26.0->azure-storage-blob) (2.1.1)\n",
      "Installing collected packages: portalocker, isodate, azure-core, azure-storage-blob, msal, msal-extensions, azure-identity\n",
      "Successfully installed azure-core-1.27.0 azure-identity-1.13.0 azure-storage-blob-12.16.0 isodate-0.6.1 msal-1.22.0 msal-extensions-1.0.0 portalocker-2.7.0\n",
      "Note: you may need to restart the kernel to use updated packages.\n"
     ]
    }
   ],
   "source": [
    "pip install azure-storage-blob azure-identity"
   ]
  },
  {
   "cell_type": "code",
   "execution_count": null,
   "metadata": {},
   "outputs": [],
   "source": [
    "DefaultEndpointsProtocol=https;AccountName=visrecstorage;AccountKey=q3Wvmg9bF4oPqZYdXV6PJ2+XPDfD3z4FckngdyHGMyCGE5zHMgqKPVNVk3AxGdjERc28EHGBVEE2+AStDSPpVw==;EndpointSuffix=core.windows.net"
   ]
  },
  {
   "cell_type": "code",
   "execution_count": null,
   "metadata": {},
   "outputs": [],
   "source": [
    "import os\n",
    "\n",
    "from azure.storage.blob import BlobServiceClient\n",
    "from smart_open import open\n",
    "\n",
    "connect_str = os.environ['AZURE_STORAGE_CONNECTION_STRING']\n",
    "transport_params = {\n",
    "    'client': BlobServiceClient.from_connection_string(connect_str),\n",
    "}\n",
    "\n",
    "# stream from Azure Blob Storage\n",
    "with open('azure://my_container/my_file.txt', transport_params=transport_params) as fin:\n",
    "    for line in fin:\n",
    "        print(line)\n",
    "\n",
    "# stream content *into* Azure Blob Storage (write mode):\n",
    "with open('azure://my_container/my_file.txt', 'wb', transport_params=transport_params) as fout:\n",
    "    fout.write(b'hello world')"
   ]
  },
  {
   "cell_type": "code",
   "execution_count": 1,
   "metadata": {},
   "outputs": [],
   "source": [
    "import os\n",
    "\n",
    "from azure.storage.blob import BlobServiceClient\n",
    "\n",
    "connect_str = 'DefaultEndpointsProtocol=https;AccountName=visrecstorage;AccountKey=q3Wvmg9bF4oPqZYdXV6PJ2+XPDfD3z4FckngdyHGMyCGE5zHMgqKPVNVk3AxGdjERc28EHGBVEE2+AStDSPpVw==;EndpointSuffix=core.windows.net'\n",
    "transport_params = {\n",
    "    'client': BlobServiceClient.from_connection_string(connect_str),\n",
    "}"
   ]
  },
  {
   "cell_type": "code",
   "execution_count": 2,
   "metadata": {},
   "outputs": [
    {
     "data": {
      "text/plain": [
       "{'client': <azure.storage.blob._blob_service_client.BlobServiceClient at 0x2511a0fa1f0>}"
      ]
     },
     "execution_count": 2,
     "metadata": {},
     "output_type": "execute_result"
    }
   ],
   "source": [
    "transport_params"
   ]
  },
  {
   "cell_type": "code",
   "execution_count": 3,
   "metadata": {},
   "outputs": [],
   "source": [
    "from smart_open import open"
   ]
  },
  {
   "cell_type": "code",
   "execution_count": 5,
   "metadata": {},
   "outputs": [],
   "source": [
    "with open('azure://posters/my_file.txt', 'wb', transport_params=transport_params) as fout:\n",
    "    fout.write(b'hello world')"
   ]
  },
  {
   "cell_type": "code",
   "execution_count": 12,
   "metadata": {},
   "outputs": [
    {
     "name": "stdout",
     "output_type": "stream",
     "text": [
      "Collecting smart_open\n",
      "  Downloading smart_open-6.3.0-py3-none-any.whl (56 kB)\n",
      "     ---------------------------------------- 0.0/56.8 kB ? eta -:--:--\n",
      "     ---------------------------------- --- 51.2/56.8 kB 871.5 kB/s eta 0:00:01\n",
      "     -------------------------------------- 56.8/56.8 kB 596.4 kB/s eta 0:00:00\n",
      "Installing collected packages: smart_open\n",
      "Successfully installed smart_open-6.3.0\n",
      "Note: you may need to restart the kernel to use updated packages.\n"
     ]
    }
   ],
   "source": [
    "pip install smart_open"
   ]
  },
  {
   "cell_type": "code",
   "execution_count": null,
   "metadata": {},
   "outputs": [],
   "source": []
  }
 ],
 "metadata": {
  "colab": {
   "provenance": [],
   "toc_visible": true
  },
  "kernelspec": {
   "display_name": "Python 3 (ipykernel)",
   "language": "python",
   "name": "python3"
  },
  "language_info": {
   "codemirror_mode": {
    "name": "ipython",
    "version": 3
   },
   "file_extension": ".py",
   "mimetype": "text/x-python",
   "name": "python",
   "nbconvert_exporter": "python",
   "pygments_lexer": "ipython3",
   "version": "3.8.16"
  }
 },
 "nbformat": 4,
 "nbformat_minor": 1
}
