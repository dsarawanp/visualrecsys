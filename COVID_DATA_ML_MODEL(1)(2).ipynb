{
 "cells": [
  {
   "cell_type": "code",
   "execution_count": 1,
   "id": "2595a409",
   "metadata": {},
   "outputs": [],
   "source": [
    "from snowflake.snowpark.session import Session\n",
    "import snowflake.snowpark.functions as F\n",
    "import snowflake.snowpark.types as T\n",
    "from snowflake.snowpark.window import Window\n",
    "from sklearn.model_selection import train_test_split\n",
    "\n",
    "import sys\n",
    "import getpass\n",
    "import pandas as pd\n",
    "import matplotlib.pyplot as plt\n",
    "import numpy as np\n",
    "import seaborn as sns"
   ]
  },
  {
   "cell_type": "code",
   "execution_count": 2,
   "id": "751f6fe6",
   "metadata": {},
   "outputs": [],
   "source": [
    "connection_parameters = {\n",
    "    \"account\": 'hg09621.central-india.azure',\n",
    "    \"user\": 'SHANTHINIMCA',\n",
    "    \"password\": 'Sgps@4565',\n",
    "    \"role\": \"ACCOUNTADMIN\",\n",
    "    \"database\": \"TEST_DB_SMALL_NEW\",\n",
    "    \"schema\": \"PUBLIC\",\n",
    "    \"warehouse\": \"TEST_WH_SMALL_NEW\"\n",
    "}\n",
    "\n",
    "session = Session.builder.configs(connection_parameters).create()"
   ]
  },
  {
   "cell_type": "code",
   "execution_count": 3,
   "id": "df7b36b3",
   "metadata": {},
   "outputs": [
    {
     "name": "stdout",
     "output_type": "stream",
     "text": [
      "-------------------------------------------------------------------------------------------------------------------------------------------------------------------------------------------------------------------------------------------------\n",
      "|\"created_on\"                      |\"name\"                 |\"is_default\"  |\"is_current\"  |\"origin\"                                            |\"owner\"       |\"comment\"                                          |\"options\"  |\"retention_time\"  |\n",
      "-------------------------------------------------------------------------------------------------------------------------------------------------------------------------------------------------------------------------------------------------\n",
      "|2023-05-11 07:27:40.661000-07:00  |HOL_DB                 |N             |N             |                                                    |ACCOUNTADMIN  |                                                   |           |1                 |\n",
      "|2023-05-25 07:15:02.720000-07:00  |NEW_TEST_DB            |N             |N             |                                                    |ACCOUNTADMIN  |                                                   |           |1                 |\n",
      "|2023-05-10 22:32:43.568000-07:00  |SNOWFLAKE              |N             |N             |SNOWFLAKE.ACCOUNT_USAGE                             |              |                                                   |           |0                 |\n",
      "|2023-05-10 22:32:48.521000-07:00  |SNOWFLAKE_SAMPLE_DATA  |N             |N             |SFSALESSHARED.SFC_SAMPLES_AZCENTRALINDIA.SAMPLE...  |ACCOUNTADMIN  |Provided by Snowflake during account provisioning  |           |0                 |\n",
      "|2023-05-24 00:00:30.024000-07:00  |TEST_DB                |N             |N             |                                                    |ACCOUNTADMIN  |                                                   |           |1                 |\n",
      "|2023-05-26 03:07:40.775000-07:00  |TEST_DB_SMALL_NEW      |N             |Y             |                                                    |ACCOUNTADMIN  |                                                   |           |1                 |\n",
      "|2023-05-26 00:09:06.416000-07:00  |TEST_WH_SMALL_DB       |N             |N             |                                                    |ACCOUNTADMIN  |                                                   |           |1                 |\n",
      "|2023-05-26 03:07:04.069000-07:00  |TEST_WH_SMALL_NEW      |N             |N             |                                                    |ACCOUNTADMIN  |                                                   |           |1                 |\n",
      "-------------------------------------------------------------------------------------------------------------------------------------------------------------------------------------------------------------------------------------------------\n",
      "\n"
     ]
    }
   ],
   "source": [
    "session.sql(\"show databases\").show()"
   ]
  },
  {
   "cell_type": "code",
   "execution_count": 4,
   "id": "09ad89f8",
   "metadata": {},
   "outputs": [
    {
     "data": {
      "text/html": [
       "<div>\n",
       "<style scoped>\n",
       "    .dataframe tbody tr th:only-of-type {\n",
       "        vertical-align: middle;\n",
       "    }\n",
       "\n",
       "    .dataframe tbody tr th {\n",
       "        vertical-align: top;\n",
       "    }\n",
       "\n",
       "    .dataframe thead th {\n",
       "        text-align: right;\n",
       "    }\n",
       "</style>\n",
       "<table border=\"1\" class=\"dataframe\">\n",
       "  <thead>\n",
       "    <tr style=\"text-align: right;\">\n",
       "      <th></th>\n",
       "      <th>USMER</th>\n",
       "      <th>MEDICAL_UNIT</th>\n",
       "      <th>SEX</th>\n",
       "      <th>PATIENT_TYPE</th>\n",
       "      <th>DATE_DIED</th>\n",
       "      <th>INTUBED</th>\n",
       "      <th>PNEUMONIA</th>\n",
       "      <th>AGE</th>\n",
       "      <th>PREGNANT</th>\n",
       "      <th>DIABETES</th>\n",
       "      <th>...</th>\n",
       "      <th>ASTHMA</th>\n",
       "      <th>INMSUPR</th>\n",
       "      <th>HIPERTENSION</th>\n",
       "      <th>OTHER_DISEASE</th>\n",
       "      <th>CARDIOVASCULAR</th>\n",
       "      <th>OBESITY</th>\n",
       "      <th>RENAL_CHRONIC</th>\n",
       "      <th>TOBACCO</th>\n",
       "      <th>CLASIFFICATION_FINAL</th>\n",
       "      <th>ICU</th>\n",
       "    </tr>\n",
       "  </thead>\n",
       "  <tbody>\n",
       "    <tr>\n",
       "      <th>0</th>\n",
       "      <td>2</td>\n",
       "      <td>1</td>\n",
       "      <td>1</td>\n",
       "      <td>1</td>\n",
       "      <td>03/05/2020</td>\n",
       "      <td>97</td>\n",
       "      <td>1</td>\n",
       "      <td>65</td>\n",
       "      <td>2</td>\n",
       "      <td>2</td>\n",
       "      <td>...</td>\n",
       "      <td>2</td>\n",
       "      <td>2</td>\n",
       "      <td>1</td>\n",
       "      <td>2</td>\n",
       "      <td>2</td>\n",
       "      <td>2</td>\n",
       "      <td>2</td>\n",
       "      <td>2</td>\n",
       "      <td>3</td>\n",
       "      <td>97</td>\n",
       "    </tr>\n",
       "    <tr>\n",
       "      <th>1</th>\n",
       "      <td>2</td>\n",
       "      <td>1</td>\n",
       "      <td>2</td>\n",
       "      <td>1</td>\n",
       "      <td>03/06/2020</td>\n",
       "      <td>97</td>\n",
       "      <td>1</td>\n",
       "      <td>72</td>\n",
       "      <td>97</td>\n",
       "      <td>2</td>\n",
       "      <td>...</td>\n",
       "      <td>2</td>\n",
       "      <td>2</td>\n",
       "      <td>1</td>\n",
       "      <td>2</td>\n",
       "      <td>2</td>\n",
       "      <td>1</td>\n",
       "      <td>1</td>\n",
       "      <td>2</td>\n",
       "      <td>5</td>\n",
       "      <td>97</td>\n",
       "    </tr>\n",
       "    <tr>\n",
       "      <th>2</th>\n",
       "      <td>2</td>\n",
       "      <td>1</td>\n",
       "      <td>2</td>\n",
       "      <td>2</td>\n",
       "      <td>09/06/2020</td>\n",
       "      <td>1</td>\n",
       "      <td>2</td>\n",
       "      <td>55</td>\n",
       "      <td>97</td>\n",
       "      <td>1</td>\n",
       "      <td>...</td>\n",
       "      <td>2</td>\n",
       "      <td>2</td>\n",
       "      <td>2</td>\n",
       "      <td>2</td>\n",
       "      <td>2</td>\n",
       "      <td>2</td>\n",
       "      <td>2</td>\n",
       "      <td>2</td>\n",
       "      <td>3</td>\n",
       "      <td>2</td>\n",
       "    </tr>\n",
       "    <tr>\n",
       "      <th>3</th>\n",
       "      <td>2</td>\n",
       "      <td>1</td>\n",
       "      <td>1</td>\n",
       "      <td>1</td>\n",
       "      <td>12/06/2020</td>\n",
       "      <td>97</td>\n",
       "      <td>2</td>\n",
       "      <td>53</td>\n",
       "      <td>2</td>\n",
       "      <td>2</td>\n",
       "      <td>...</td>\n",
       "      <td>2</td>\n",
       "      <td>2</td>\n",
       "      <td>2</td>\n",
       "      <td>2</td>\n",
       "      <td>2</td>\n",
       "      <td>2</td>\n",
       "      <td>2</td>\n",
       "      <td>2</td>\n",
       "      <td>7</td>\n",
       "      <td>97</td>\n",
       "    </tr>\n",
       "    <tr>\n",
       "      <th>4</th>\n",
       "      <td>2</td>\n",
       "      <td>1</td>\n",
       "      <td>2</td>\n",
       "      <td>1</td>\n",
       "      <td>21/06/2020</td>\n",
       "      <td>97</td>\n",
       "      <td>2</td>\n",
       "      <td>68</td>\n",
       "      <td>97</td>\n",
       "      <td>1</td>\n",
       "      <td>...</td>\n",
       "      <td>2</td>\n",
       "      <td>2</td>\n",
       "      <td>1</td>\n",
       "      <td>2</td>\n",
       "      <td>2</td>\n",
       "      <td>2</td>\n",
       "      <td>2</td>\n",
       "      <td>2</td>\n",
       "      <td>3</td>\n",
       "      <td>97</td>\n",
       "    </tr>\n",
       "  </tbody>\n",
       "</table>\n",
       "<p>5 rows × 21 columns</p>\n",
       "</div>"
      ],
      "text/plain": [
       "   USMER  MEDICAL_UNIT  SEX  PATIENT_TYPE   DATE_DIED  INTUBED  PNEUMONIA  \\\n",
       "0      2             1    1             1  03/05/2020       97          1   \n",
       "1      2             1    2             1  03/06/2020       97          1   \n",
       "2      2             1    2             2  09/06/2020        1          2   \n",
       "3      2             1    1             1  12/06/2020       97          2   \n",
       "4      2             1    2             1  21/06/2020       97          2   \n",
       "\n",
       "   AGE  PREGNANT  DIABETES  ...  ASTHMA  INMSUPR  HIPERTENSION  OTHER_DISEASE  \\\n",
       "0   65         2         2  ...       2        2             1              2   \n",
       "1   72        97         2  ...       2        2             1              2   \n",
       "2   55        97         1  ...       2        2             2              2   \n",
       "3   53         2         2  ...       2        2             2              2   \n",
       "4   68        97         1  ...       2        2             1              2   \n",
       "\n",
       "   CARDIOVASCULAR  OBESITY  RENAL_CHRONIC  TOBACCO  CLASIFFICATION_FINAL  ICU  \n",
       "0               2        2              2        2                     3   97  \n",
       "1               2        1              1        2                     5   97  \n",
       "2               2        2              2        2                     3    2  \n",
       "3               2        2              2        2                     7   97  \n",
       "4               2        2              2        2                     3   97  \n",
       "\n",
       "[5 rows x 21 columns]"
      ]
     },
     "execution_count": 4,
     "metadata": {},
     "output_type": "execute_result"
    }
   ],
   "source": [
    "df = pd.read_csv(\"Covid_Data.csv\")\n",
    "df.head()"
   ]
  },
  {
   "cell_type": "code",
   "execution_count": 5,
   "id": "c1e5dd88",
   "metadata": {},
   "outputs": [
    {
     "data": {
      "text/plain": [
       "(1048575, 21)"
      ]
     },
     "execution_count": 5,
     "metadata": {},
     "output_type": "execute_result"
    }
   ],
   "source": [
    "df.shape"
   ]
  },
  {
   "cell_type": "code",
   "execution_count": 6,
   "id": "4c855918",
   "metadata": {},
   "outputs": [
    {
     "name": "stdout",
     "output_type": "stream",
     "text": [
      "<class 'pandas.core.frame.DataFrame'>\n",
      "RangeIndex: 1048575 entries, 0 to 1048574\n",
      "Data columns (total 21 columns):\n",
      " #   Column                Non-Null Count    Dtype \n",
      "---  ------                --------------    ----- \n",
      " 0   USMER                 1048575 non-null  int64 \n",
      " 1   MEDICAL_UNIT          1048575 non-null  int64 \n",
      " 2   SEX                   1048575 non-null  int64 \n",
      " 3   PATIENT_TYPE          1048575 non-null  int64 \n",
      " 4   DATE_DIED             1048575 non-null  object\n",
      " 5   INTUBED               1048575 non-null  int64 \n",
      " 6   PNEUMONIA             1048575 non-null  int64 \n",
      " 7   AGE                   1048575 non-null  int64 \n",
      " 8   PREGNANT              1048575 non-null  int64 \n",
      " 9   DIABETES              1048575 non-null  int64 \n",
      " 10  COPD                  1048575 non-null  int64 \n",
      " 11  ASTHMA                1048575 non-null  int64 \n",
      " 12  INMSUPR               1048575 non-null  int64 \n",
      " 13  HIPERTENSION          1048575 non-null  int64 \n",
      " 14  OTHER_DISEASE         1048575 non-null  int64 \n",
      " 15  CARDIOVASCULAR        1048575 non-null  int64 \n",
      " 16  OBESITY               1048575 non-null  int64 \n",
      " 17  RENAL_CHRONIC         1048575 non-null  int64 \n",
      " 18  TOBACCO               1048575 non-null  int64 \n",
      " 19  CLASIFFICATION_FINAL  1048575 non-null  int64 \n",
      " 20  ICU                   1048575 non-null  int64 \n",
      "dtypes: int64(20), object(1)\n",
      "memory usage: 168.0+ MB\n"
     ]
    }
   ],
   "source": [
    "df.info()"
   ]
  },
  {
   "cell_type": "code",
   "execution_count": 7,
   "id": "4e4513b3",
   "metadata": {},
   "outputs": [
    {
     "data": {
      "text/plain": [
       "<snowflake.snowpark.table.Table at 0x1ded4d67eb0>"
      ]
     },
     "execution_count": 7,
     "metadata": {},
     "output_type": "execute_result"
    }
   ],
   "source": [
    "#let's write dataset into snowflake\n",
    "session.write_pandas(df, table_name='COVID_DATA', auto_create_table=True, overwrite=True)"
   ]
  },
  {
   "cell_type": "code",
   "execution_count": 8,
   "id": "5cacec1e",
   "metadata": {},
   "outputs": [],
   "source": [
    "snowpark_df = session.table(\"COVID_DATA\")"
   ]
  },
  {
   "cell_type": "code",
   "execution_count": 9,
   "id": "61e233a9",
   "metadata": {},
   "outputs": [
    {
     "data": {
      "text/plain": [
       "snowflake.snowpark.table.Table"
      ]
     },
     "execution_count": 9,
     "metadata": {},
     "output_type": "execute_result"
    }
   ],
   "source": [
    "type(snowpark_df)"
   ]
  },
  {
   "cell_type": "code",
   "execution_count": 10,
   "id": "b19f2bf7",
   "metadata": {},
   "outputs": [
    {
     "name": "stdout",
     "output_type": "stream",
     "text": [
      "Size of the table object: 4.8e-05 MB\n"
     ]
    }
   ],
   "source": [
    "print(f\"Size of the table object: {(sys.getsizeof(snowpark_df)/1e6)} MB\")"
   ]
  },
  {
   "cell_type": "code",
   "execution_count": 11,
   "id": "60779c73",
   "metadata": {},
   "outputs": [
    {
     "data": {
      "text/plain": [
       "1048575"
      ]
     },
     "execution_count": 11,
     "metadata": {},
     "output_type": "execute_result"
    }
   ],
   "source": [
    "snowpark_df.count()"
   ]
  },
  {
   "cell_type": "code",
   "execution_count": 12,
   "id": "72d1771a",
   "metadata": {},
   "outputs": [
    {
     "data": {
      "text/plain": [
       "21"
      ]
     },
     "execution_count": 12,
     "metadata": {},
     "output_type": "execute_result"
    }
   ],
   "source": [
    "len(snowpark_df.columns)"
   ]
  },
  {
   "cell_type": "code",
   "execution_count": 13,
   "id": "35b83abc",
   "metadata": {},
   "outputs": [
    {
     "data": {
      "text/plain": [
       "[StructField('USMER', LongType(), nullable=True),\n",
       " StructField('MEDICAL_UNIT', LongType(), nullable=True),\n",
       " StructField('SEX', LongType(), nullable=True),\n",
       " StructField('PATIENT_TYPE', LongType(), nullable=True),\n",
       " StructField('DATE_DIED', StringType(), nullable=True),\n",
       " StructField('INTUBED', LongType(), nullable=True),\n",
       " StructField('PNEUMONIA', LongType(), nullable=True),\n",
       " StructField('AGE', LongType(), nullable=True),\n",
       " StructField('PREGNANT', LongType(), nullable=True),\n",
       " StructField('DIABETES', LongType(), nullable=True),\n",
       " StructField('COPD', LongType(), nullable=True),\n",
       " StructField('ASTHMA', LongType(), nullable=True),\n",
       " StructField('INMSUPR', LongType(), nullable=True),\n",
       " StructField('HIPERTENSION', LongType(), nullable=True),\n",
       " StructField('OTHER_DISEASE', LongType(), nullable=True),\n",
       " StructField('CARDIOVASCULAR', LongType(), nullable=True),\n",
       " StructField('OBESITY', LongType(), nullable=True),\n",
       " StructField('RENAL_CHRONIC', LongType(), nullable=True),\n",
       " StructField('TOBACCO', LongType(), nullable=True),\n",
       " StructField('CLASIFFICATION_FINAL', LongType(), nullable=True),\n",
       " StructField('ICU', LongType(), nullable=True)]"
      ]
     },
     "execution_count": 13,
     "metadata": {},
     "output_type": "execute_result"
    }
   ],
   "source": [
    "snowpark_df.schema.fields"
   ]
  },
  {
   "cell_type": "code",
   "execution_count": 14,
   "id": "1672af67",
   "metadata": {},
   "outputs": [
    {
     "name": "stdout",
     "output_type": "stream",
     "text": [
      "Column[\"USMER\"] has 2 unique values\n",
      "Column[\"MEDICAL_UNIT\"] has 13 unique values\n",
      "Column[\"SEX\"] has 2 unique values\n",
      "Column[\"PATIENT_TYPE\"] has 2 unique values\n",
      "Column[\"DATE_DIED\"] has 401 unique values\n",
      "Column[\"INTUBED\"] has 4 unique values\n",
      "Column[\"PNEUMONIA\"] has 3 unique values\n",
      "Column[\"AGE\"] has 121 unique values\n",
      "Column[\"PREGNANT\"] has 4 unique values\n",
      "Column[\"DIABETES\"] has 3 unique values\n",
      "Column[\"COPD\"] has 3 unique values\n",
      "Column[\"ASTHMA\"] has 3 unique values\n",
      "Column[\"INMSUPR\"] has 3 unique values\n",
      "Column[\"HIPERTENSION\"] has 3 unique values\n",
      "Column[\"OTHER_DISEASE\"] has 3 unique values\n",
      "Column[\"CARDIOVASCULAR\"] has 3 unique values\n",
      "Column[\"OBESITY\"] has 3 unique values\n",
      "Column[\"RENAL_CHRONIC\"] has 3 unique values\n",
      "Column[\"TOBACCO\"] has 3 unique values\n",
      "Column[\"CLASIFFICATION_FINAL\"] has 7 unique values\n",
      "Column[\"ICU\"] has 4 unique values\n"
     ]
    }
   ],
   "source": [
    "for column in snowpark_df:\n",
    "    print(column,'has',snowpark_df[[column]].distinct().count(),'unique values')"
   ]
  },
  {
   "cell_type": "code",
   "execution_count": 15,
   "id": "8bda36f8",
   "metadata": {},
   "outputs": [
    {
     "name": "stdout",
     "output_type": "stream",
     "text": [
      "---------\n",
      "|\"SEX\"  |\n",
      "---------\n",
      "|1      |\n",
      "|2      |\n",
      "|2      |\n",
      "|1      |\n",
      "|2      |\n",
      "|1      |\n",
      "|1      |\n",
      "|1      |\n",
      "|1      |\n",
      "|1      |\n",
      "---------\n",
      "\n"
     ]
    }
   ],
   "source": [
    "snowpark_df.select(\"SEX\").show()"
   ]
  },
  {
   "cell_type": "code",
   "execution_count": 16,
   "id": "f19c7a6e",
   "metadata": {},
   "outputs": [
    {
     "name": "stdout",
     "output_type": "stream",
     "text": [
      "--------------------------------------\n",
      "|\"SUMMARY\"  |\"CLASIFFICATION_FINAL\"  |\n",
      "--------------------------------------\n",
      "|count      |1048575.0               |\n",
      "|mean       |5.305653                |\n",
      "|stddev     |1.8811653303205436      |\n",
      "|max        |7.0                     |\n",
      "|min        |1.0                     |\n",
      "--------------------------------------\n",
      "\n"
     ]
    }
   ],
   "source": [
    "snowpark_df[['CLASIFFICATION_FINAL']].describe().show()"
   ]
  },
  {
   "cell_type": "code",
   "execution_count": 17,
   "id": "0c59c970",
   "metadata": {},
   "outputs": [
    {
     "name": "stdout",
     "output_type": "stream",
     "text": [
      "------------------------------------\n",
      "|\"CLASIFFICATION_FINAL\"  |\"COUNT\"  |\n",
      "------------------------------------\n",
      "|3                       |381527   |\n",
      "|5                       |26091    |\n",
      "|7                       |499250   |\n",
      "|6                       |128133   |\n",
      "|1                       |8601     |\n",
      "|2                       |1851     |\n",
      "|4                       |3122     |\n",
      "------------------------------------\n",
      "\n"
     ]
    }
   ],
   "source": [
    "snowpark_df.group_by(\"CLASIFFICATION_FINAL\").count().show()"
   ]
  },
  {
   "cell_type": "code",
   "execution_count": 18,
   "id": "95a1c7b5",
   "metadata": {},
   "outputs": [],
   "source": [
    "snowpark_df = snowpark_df.with_column('TARGET', F.when(F.col('CLASIFFICATION_FINAL')\n",
    "                        < 4, 1).otherwise(0))"
   ]
  },
  {
   "cell_type": "code",
   "execution_count": 19,
   "id": "86c126cd",
   "metadata": {},
   "outputs": [
    {
     "data": {
      "image/png": "[encoded data removed]",
      "text/plain": [
       "<Figure size 640x480 with 1 Axes>"
      ]
     },
     "metadata": {},
     "output_type": "display_data"
    }
   ],
   "source": [
    "snowpark_df\\\n",
    ".group_by(\"TARGET\").count().to_pandas().set_index(\"TARGET\")\\\n",
    ".plot.bar()\n",
    "\n",
    "plt.title(\"Target distribution\",fontweight='semibold')\n",
    "plt.show()"
   ]
  },
  {
   "cell_type": "code",
   "execution_count": 20,
   "id": "cf1a3dcb",
   "metadata": {},
   "outputs": [
    {
     "name": "stderr",
     "output_type": "stream",
     "text": [
      "Input key or value type doesn't match the target column data type, this replacement was skipped. Column Name: \"DATE_DIED\", Type: StringType(), Input Key: 97, Type: <class 'int'>, Input Value: None, Type: <class 'NoneType'>\n",
      "Input key or value type doesn't match the target column data type, this replacement was skipped. Column Name: \"DATE_DIED\", Type: StringType(), Input Key: 99, Type: <class 'int'>, Input Value: None, Type: <class 'NoneType'>\n"
     ]
    }
   ],
   "source": [
    "snowpark_df = snowpark_df.replace([97,99],value=None)"
   ]
  },
  {
   "cell_type": "code",
   "execution_count": 21,
   "id": "d5303949",
   "metadata": {},
   "outputs": [
    {
     "data": {
      "image/png": "[encoded data removed]",
      "text/plain": [
       "<Figure size 640x480 with 1 Axes>"
      ]
     },
     "metadata": {},
     "output_type": "display_data"
    }
   ],
   "source": [
    "snowpark_df\\\n",
    ".select('AGE').to_pandas()\\\n",
    ".plot.hist(bins=100,alpha=0.8)\n",
    "\n",
    "plt.title(\"Age distribution\",fontweight='semibold')\n",
    "plt.show()"
   ]
  },
  {
   "cell_type": "code",
   "execution_count": 22,
   "id": "990b732b",
   "metadata": {},
   "outputs": [
    {
     "name": "stdout",
     "output_type": "stream",
     "text": [
      "---------------------\n",
      "|\"OO\"       |\"AGE\"  |\n",
      "---------------------\n",
      "|OLD ADULT  |65     |\n",
      "|OLD ADULT  |72     |\n",
      "|OLD ADULT  |55     |\n",
      "|OLD ADULT  |53     |\n",
      "|OLD ADULT  |68     |\n",
      "|ADULT      |40     |\n",
      "|OLD ADULT  |64     |\n",
      "|OLD ADULT  |64     |\n",
      "|ADULT      |37     |\n",
      "|ADULT      |25     |\n",
      "---------------------\n",
      "\n"
     ]
    }
   ],
   "source": [
    "snowpark_df.select(F.when(F.col('AGE') < 21, 'YOUNG'\n",
    "                   ).otherwise(F.when(F.col('AGE') < 49, 'ADULT'\n",
    "                   ).otherwise('OLD ADULT')).as_('OO'), 'AGE').show()"
   ]
  },
  {
   "cell_type": "code",
   "execution_count": 23,
   "id": "21f08756",
   "metadata": {},
   "outputs": [],
   "source": [
    "snowpark_df = snowpark_df.with_column(\n",
    "    \"AGE_BKT\",\n",
    "    F.when(F.col(\"AGE\") < 21, \"YOUNG\").otherwise(\n",
    "        F.when(F.col(\"AGE\") < 49, \"ADULT\").otherwise(\"OLD ADULT\")\n",
    "    ),\n",
    ")"
   ]
  },
  {
   "cell_type": "code",
   "execution_count": 24,
   "id": "a3dbdd28",
   "metadata": {},
   "outputs": [],
   "source": [
    "age_bkt_df = snowpark_df.select(\n",
    "    F.col(\"AGE_BKT\"),\n",
    "    F.when((F.col(\"AGE_BKT\")=='YOUNG') & (F.col(\"TARGET\")==1),1).otherwise(0).as_(\"YOUNG_\"),\n",
    "    F.when((F.col(\"AGE_BKT\")=='ADULT') & (F.col(\"TARGET\")==1),1).otherwise(0).as_(\"ADULT_\"),\n",
    "    F.when((F.col(\"AGE_BKT\")=='OLD ADULT') & (F.col(\"TARGET\")==1),1).otherwise(0).as_(\"OLD_ADULT_\")\n",
    ")"
   ]
  },
  {
   "cell_type": "code",
   "execution_count": 25,
   "id": "b7ee1386",
   "metadata": {},
   "outputs": [
    {
     "name": "stdout",
     "output_type": "stream",
     "text": [
      "-----------------------\n",
      "|\"AGE_BKT\"  |\"COUNT\"  |\n",
      "-----------------------\n",
      "|OLD ADULT  |342413   |\n",
      "|ADULT      |628554   |\n",
      "|YOUNG      |77608    |\n",
      "-----------------------\n",
      "\n"
     ]
    }
   ],
   "source": [
    "age_bkt_df.group_by(F.col(\"AGE_BKT\")).count().show()"
   ]
  },
  {
   "cell_type": "code",
   "execution_count": 26,
   "id": "ae034359",
   "metadata": {},
   "outputs": [
    {
     "data": {
      "image/png": "[encoded data removed]",
      "text/plain": [
       "<Figure size 640x480 with 1 Axes>"
      ]
     },
     "metadata": {},
     "output_type": "display_data"
    }
   ],
   "source": [
    "age_bkt_df.group_by(F.col(\"AGE_BKT\")).count().to_pandas().set_index(\"AGE_BKT\")\\\n",
    ".plot.barh(alpha=0.8)\n",
    "\n",
    "plt.title(\"Cases count by gender bucket\",fontweight='semibold')\n",
    "plt.show()"
   ]
  },
  {
   "cell_type": "code",
   "execution_count": 27,
   "id": "2512bf37",
   "metadata": {},
   "outputs": [
    {
     "name": "stdout",
     "output_type": "stream",
     "text": [
      "--------------------------------------------------------------------\n",
      "|\"YOUNG % OF CASES\"  |\"ADULT % OF CASES\"  |\"OLD_ADULT % OF CASES\"  |\n",
      "--------------------------------------------------------------------\n",
      "|1.534463            |20.877858           |14.969745               |\n",
      "--------------------------------------------------------------------\n",
      "\n"
     ]
    }
   ],
   "source": [
    "age_bkt_df.select(\n",
    "    ((F.sum(\"YOUNG_\") * 100 ) / F.count(\"YOUNG_\")).as_(\"YOUNG % OF CASES\"),\n",
    "    ((F.sum(\"ADULT_\") * 100) / F.count(\"ADULT_\")).as_(\"ADULT % OF CASES\"),\n",
    "    ((F.sum(\"OLD_ADULT_\") * 100) / F.count(\"OLD_ADULT_\")).as_(\"OLD_ADULT % OF CASES\")\n",
    ").show()"
   ]
  },
  {
   "cell_type": "code",
   "execution_count": 28,
   "id": "de7702f8",
   "metadata": {},
   "outputs": [
    {
     "data": {
      "image/png": "[encoded data removed]",
      "text/plain": [
       "<Figure size 640x480 with 1 Axes>"
      ]
     },
     "metadata": {},
     "output_type": "display_data"
    }
   ],
   "source": [
    "age_bkt_df.select(\n",
    "    (F.as_double((F.sum(\"YOUNG_\") ) * 100 / F.count(\"YOUNG_\"))).as_(\"YOUNG % OF CASES\"),\n",
    "    (F.as_double((F.sum(\"ADULT_\")) * 100 / F.count(\"ADULT_\"))).as_(\"ADULT % OF CASES\"),\n",
    "    (F.as_double((F.sum(\"OLD_ADULT_\")) * 100 / F.count(\"OLD_ADULT_\"))).as_(\"OLD_ADULT % OF CASES\")\n",
    ").to_pandas().T\\\n",
    ".plot.barh()\n",
    "\n",
    "plt.show()\n"
   ]
  },
  {
   "cell_type": "code",
   "execution_count": 29,
   "id": "9091b905",
   "metadata": {},
   "outputs": [
    {
     "name": "stdout",
     "output_type": "stream",
     "text": [
      "-----------------------------\n",
      "|\"IS_USMER_NULL\"  |\"COUNT\"  |\n",
      "-----------------------------\n",
      "|NO               |1048575  |\n",
      "-----------------------------\n",
      "\n",
      "------------------------------------\n",
      "|\"IS_MEDICAL_UNIT_NULL\"  |\"COUNT\"  |\n",
      "------------------------------------\n",
      "|NO                      |1048575  |\n",
      "------------------------------------\n",
      "\n",
      "---------------------------\n",
      "|\"IS_SEX_NULL\"  |\"COUNT\"  |\n",
      "---------------------------\n",
      "|NO             |1048575  |\n",
      "---------------------------\n",
      "\n",
      "------------------------------------\n",
      "|\"IS_PATIENT_TYPE_NULL\"  |\"COUNT\"  |\n",
      "------------------------------------\n",
      "|NO                      |1048575  |\n",
      "------------------------------------\n",
      "\n",
      "---------------------------------\n",
      "|\"IS_DATE_DIED_NULL\"  |\"COUNT\"  |\n",
      "---------------------------------\n",
      "|NO                   |1048575  |\n",
      "---------------------------------\n",
      "\n",
      "-------------------------------\n",
      "|\"IS_INTUBED_NULL\"  |\"COUNT\"  |\n",
      "-------------------------------\n",
      "|YES                |855869   |\n",
      "|NO                 |192706   |\n",
      "-------------------------------\n",
      "\n",
      "---------------------------------\n",
      "|\"IS_PNEUMONIA_NULL\"  |\"COUNT\"  |\n",
      "---------------------------------\n",
      "|NO                   |1032572  |\n",
      "|YES                  |16003    |\n",
      "---------------------------------\n",
      "\n",
      "---------------------------\n",
      "|\"IS_AGE_NULL\"  |\"COUNT\"  |\n",
      "---------------------------\n",
      "|NO             |1048354  |\n",
      "|YES            |221      |\n",
      "---------------------------\n",
      "\n",
      "--------------------------------\n",
      "|\"IS_PREGNANT_NULL\"  |\"COUNT\"  |\n",
      "--------------------------------\n",
      "|NO                  |525064   |\n",
      "|YES                 |523511   |\n",
      "--------------------------------\n",
      "\n",
      "--------------------------------\n",
      "|\"IS_DIABETES_NULL\"  |\"COUNT\"  |\n",
      "--------------------------------\n",
      "|NO                  |1048575  |\n",
      "--------------------------------\n",
      "\n",
      "----------------------------\n",
      "|\"IS_COPD_NULL\"  |\"COUNT\"  |\n",
      "----------------------------\n",
      "|NO              |1048575  |\n",
      "----------------------------\n",
      "\n",
      "------------------------------\n",
      "|\"IS_ASTHMA_NULL\"  |\"COUNT\"  |\n",
      "------------------------------\n",
      "|NO                |1048575  |\n",
      "------------------------------\n",
      "\n",
      "-------------------------------\n",
      "|\"IS_INMSUPR_NULL\"  |\"COUNT\"  |\n",
      "-------------------------------\n",
      "|NO                 |1048575  |\n",
      "-------------------------------\n",
      "\n",
      "------------------------------------\n",
      "|\"IS_HIPERTENSION_NULL\"  |\"COUNT\"  |\n",
      "------------------------------------\n",
      "|NO                      |1048575  |\n",
      "------------------------------------\n",
      "\n",
      "-------------------------------------\n",
      "|\"IS_OTHER_DISEASE_NULL\"  |\"COUNT\"  |\n",
      "-------------------------------------\n",
      "|NO                       |1048575  |\n",
      "-------------------------------------\n",
      "\n",
      "--------------------------------------\n",
      "|\"IS_CARDIOVASCULAR_NULL\"  |\"COUNT\"  |\n",
      "--------------------------------------\n",
      "|NO                        |1048575  |\n",
      "--------------------------------------\n",
      "\n",
      "-------------------------------\n",
      "|\"IS_OBESITY_NULL\"  |\"COUNT\"  |\n",
      "-------------------------------\n",
      "|NO                 |1048575  |\n",
      "-------------------------------\n",
      "\n",
      "-------------------------------------\n",
      "|\"IS_RENAL_CHRONIC_NULL\"  |\"COUNT\"  |\n",
      "-------------------------------------\n",
      "|NO                       |1048575  |\n",
      "-------------------------------------\n",
      "\n",
      "-------------------------------\n",
      "|\"IS_TOBACCO_NULL\"  |\"COUNT\"  |\n",
      "-------------------------------\n",
      "|NO                 |1048575  |\n",
      "-------------------------------\n",
      "\n",
      "--------------------------------------------\n",
      "|\"IS_CLASIFFICATION_FINAL_NULL\"  |\"COUNT\"  |\n",
      "--------------------------------------------\n",
      "|NO                              |1048575  |\n",
      "--------------------------------------------\n",
      "\n",
      "---------------------------\n",
      "|\"IS_ICU_NULL\"  |\"COUNT\"  |\n",
      "---------------------------\n",
      "|YES            |856032   |\n",
      "|NO             |192543   |\n",
      "---------------------------\n",
      "\n",
      "------------------------------\n",
      "|\"IS_TARGET_NULL\"  |\"COUNT\"  |\n",
      "------------------------------\n",
      "|NO                |1048575  |\n",
      "------------------------------\n",
      "\n",
      "-------------------------------\n",
      "|\"IS_AGE_BKT_NULL\"  |\"COUNT\"  |\n",
      "-------------------------------\n",
      "|NO                 |1048575  |\n",
      "-------------------------------\n",
      "\n"
     ]
    }
   ],
   "source": [
    "for col in snowpark_df.columns:\n",
    "    snowpark_df.with_column(f\"IS_{col}_NULL\",F.when(F.is_null(col),\"YES\").otherwise(\"NO\")).group_by(f'IS_{col}_NULL').count().show()"
   ]
  },
  {
   "cell_type": "code",
   "execution_count": 30,
   "id": "742a4bed",
   "metadata": {},
   "outputs": [],
   "source": [
    "snowpark_df = snowpark_df.drop([\"ICU\",\"DATE_DIED\",\"CLASIFFICATION_FINAL\",\"AGE_BKT\"])"
   ]
  },
  {
   "cell_type": "code",
   "execution_count": 31,
   "id": "957b481a",
   "metadata": {},
   "outputs": [
    {
     "name": "stdout",
     "output_type": "stream",
     "text": [
      "----------------------\n",
      "|\"TARGET\"  |\"COUNT\"  |\n",
      "----------------------\n",
      "|1         |41926    |\n",
      "|0         |36262    |\n",
      "----------------------\n",
      "\n"
     ]
    }
   ],
   "source": [
    "snowpark_df.dropna().group_by(\"TARGET\").count().show()"
   ]
  },
  {
   "cell_type": "code",
   "execution_count": 32,
   "id": "6e2f0c9a",
   "metadata": {},
   "outputs": [],
   "source": [
    "snowpark_df = snowpark_df.dropna()"
   ]
  },
  {
   "cell_type": "code",
   "execution_count": 33,
   "id": "896d838b",
   "metadata": {},
   "outputs": [],
   "source": [
    "snowpark_df.write.save_as_table(\n",
    "    table_name='COVID19_RECORDS_PROCESSED',\n",
    "    mode='overwrite'\n",
    ")"
   ]
  },
  {
   "cell_type": "code",
   "execution_count": 34,
   "id": "31a01ae1",
   "metadata": {},
   "outputs": [],
   "source": [
    "del snowpark_df\n",
    "del df"
   ]
  },
  {
   "cell_type": "code",
   "execution_count": 35,
   "id": "91669837",
   "metadata": {},
   "outputs": [],
   "source": [
    "train_data = session.table(\"COVID19_RECORDS_PROCESSED\")"
   ]
  },
  {
   "cell_type": "code",
   "execution_count": 36,
   "id": "cc3bfb26",
   "metadata": {},
   "outputs": [
    {
     "data": {
      "text/plain": [
       "78188"
      ]
     },
     "execution_count": 36,
     "metadata": {},
     "output_type": "execute_result"
    }
   ],
   "source": [
    "train_data.count()"
   ]
  },
  {
   "cell_type": "code",
   "execution_count": 37,
   "id": "31916bec",
   "metadata": {},
   "outputs": [
    {
     "name": "stdout",
     "output_type": "stream",
     "text": [
      "---------------------\n",
      "|\"SUM(\"\"TARGET\"\")\"  |\n",
      "---------------------\n",
      "|41926              |\n",
      "---------------------\n",
      "\n"
     ]
    }
   ],
   "source": [
    "train_data.select(F.sum(F.col(\"TARGET\"))).show()"
   ]
  },
  {
   "cell_type": "code",
   "execution_count": 38,
   "id": "b0e6f108",
   "metadata": {},
   "outputs": [
    {
     "name": "stdout",
     "output_type": "stream",
     "text": [
      "----------------------------------------------\n",
      "|\"status\"                                    |\n",
      "----------------------------------------------\n",
      "|Stage area ML_MODELS successfully created.  |\n",
      "----------------------------------------------\n",
      "\n"
     ]
    }
   ],
   "source": [
    "session.sql('CREATE OR REPLACE STAGE ML_MODELS').show()"
   ]
  },
  {
   "cell_type": "code",
   "execution_count": 39,
   "id": "86b7f3ff",
   "metadata": {},
   "outputs": [],
   "source": [
    "def train_dt_procedure(\n",
    "    session: Session,\n",
    "    training_table: str,\n",
    "    feature_cols: list,\n",
    "    target_col: str,\n",
    "    model_name: str,\n",
    ") -> T.Variant:\n",
    "    \n",
    "    \"\"\"\n",
    "    This will be our training procedure. Later we will register this as snowflake procedure.\n",
    "    \n",
    "    training_table: snowflake table name to be used for training task\n",
    "    feature_cols: list of columns to be used in training\n",
    "    target_col: target column to be used\n",
    "    model_name: model name to used for model saving purpose\n",
    "    \n",
    "    \"\"\"\n",
    "\n",
    "    #convert as pandas DF, rest of the steps similar to the local model training and saving.\n",
    "    local_training_data = session.table(training_table).to_pandas()\n",
    "\n",
    "    from sklearn.tree import DecisionTreeClassifier\n",
    "\n",
    "    X = local_training_data[feature_cols]\n",
    "    y = local_training_data[target_col]\n",
    "\n",
    "    model = DecisionTreeClassifier()\n",
    "    model.fit(X, y)\n",
    "\n",
    "    feat_importance = pd.DataFrame(\n",
    "        model.feature_importances_, feature_cols, columns=[\"FeatImportance\"]\n",
    "    ).to_dict()\n",
    "\n",
    "    from joblib import dump\n",
    "\n",
    "    dump(model, \"/tmp/\" + model_name)\n",
    "    session.file.put(\n",
    "        \"/tmp/\" + model_name, \"@ML_MODELS\", auto_compress=False, overwrite=True\n",
    "    )\n",
    "    return feat_importance"
   ]
  },
  {
   "cell_type": "code",
   "execution_count": 40,
   "id": "5aeab0e7",
   "metadata": {},
   "outputs": [],
   "source": [
    "sproc_train_dt_model = session.sproc.register(\n",
    "                    func=train_dt_procedure, \n",
    "                    name='sproc_train_dt_model', \n",
    "                    is_permanent=True, \n",
    "                    replace=True, \n",
    "                    stage_location='@ML_MODELS', \n",
    "                    packages=[\n",
    "                        'snowflake-snowpark-python',\n",
    "                        'scikit-learn',\n",
    "                        'joblib']\n",
    ")"
   ]
  },
  {
   "cell_type": "code",
   "execution_count": 41,
   "id": "0db5862c",
   "metadata": {},
   "outputs": [],
   "source": [
    "train_data_pd = train_data.to_pandas()"
   ]
  },
  {
   "cell_type": "code",
   "execution_count": 42,
   "id": "e035288a",
   "metadata": {},
   "outputs": [],
   "source": [
    "#create train and test dataframes\n",
    "train_data_pd,test_data_pd = train_test_split(\n",
    "                                        train_data_pd,\n",
    "                                        stratify=train_data_pd['TARGET'],\n",
    "                                        test_size=0.2\n",
    ")"
   ]
  },
  {
   "cell_type": "code",
   "execution_count": 43,
   "id": "0b9293b1",
   "metadata": {},
   "outputs": [
    {
     "name": "stderr",
     "output_type": "stream",
     "text": [
      "C:\\Users\\shanthini.swaminatha\\AppData\\Local\\anaconda3\\envs\\pysnowpark\\lib\\site-packages\\snowflake\\snowpark\\session.py:1116: UserWarning: Pandas Dataframe has non-standard index of type <class 'pandas.core.indexes.numeric.Int64Index'> which will not be written. Consider changing the index to pd.RangeIndex(start=0,...,step=1) or call reset_index() to keep index as column(s)\n",
      "  success, nchunks, nrows, ci_output = write_pandas(\n"
     ]
    },
    {
     "data": {
      "text/plain": [
       "<snowflake.snowpark.table.Table at 0x1ded7c23430>"
      ]
     },
     "execution_count": 43,
     "metadata": {},
     "output_type": "execute_result"
    }
   ],
   "source": [
    "#writing as tempoary tables for mode training and inferencing part\n",
    "session.write_pandas(train_data_pd, table_name='TRAIN_DATA_TMP', auto_create_table=True,table_type=\"temporary\")\n",
    "session.write_pandas(test_data_pd, table_name='TEST_DATA_TMP', auto_create_table=True,table_type=\"temporary\")"
   ]
  },
  {
   "cell_type": "code",
   "execution_count": 44,
   "id": "2b35760a",
   "metadata": {},
   "outputs": [],
   "source": [
    "feature_cols = train_data.columns\n",
    "feature_cols.remove('TARGET')\n",
    "target_col = 'TARGET'\n",
    "model_name = 'decisiontree.model'\n",
    "\n",
    "model_response = sproc_train_dt_model('TRAIN_DATA_TMP', \n",
    "                                            feature_cols, \n",
    "                                            target_col,\n",
    "                                            model_name, \n",
    "                                            session=session\n",
    "                                           )"
   ]
  },
  {
   "cell_type": "code",
   "execution_count": 45,
   "id": "0c452d7d",
   "metadata": {},
   "outputs": [
    {
     "name": "stdout",
     "output_type": "stream",
     "text": [
      "{\n",
      "  \"FeatImportance\": {\n",
      "    \"AGE\": 0.44743967440867166,\n",
      "    \"ASTHMA\": 0.029612124233229137,\n",
      "    \"CARDIOVASCULAR\": 0.02591188451947336,\n",
      "    \"COPD\": 0.01936666376379341,\n",
      "    \"DIABETES\": 0.054954667224403925,\n",
      "    \"HIPERTENSION\": 0.06514111570605849,\n",
      "    \"INMSUPR\": 0.021799273257447103,\n",
      "    \"INTUBED\": 0.02342536411292342,\n",
      "    \"MEDICAL_UNIT\": 0.09287717423974587,\n",
      "    \"OBESITY\": 0.02819715327742732,\n",
      "    \"OTHER_DISEASE\": 0.02976693710736335,\n",
      "    \"PATIENT_TYPE\": 0,\n",
      "    \"PNEUMONIA\": 0.038542969500577694,\n",
      "    \"PREGNANT\": 0.01296446369450444,\n",
      "    \"RENAL_CHRONIC\": 0.01711962408100381,\n",
      "    \"SEX\": 0,\n",
      "    \"TOBACCO\": 0.030628101048683166,\n",
      "    \"USMER\": 0.06225280982469384\n",
      "  }\n",
      "}\n"
     ]
    }
   ],
   "source": [
    "print(model_response)"
   ]
  },
  {
   "cell_type": "code",
   "execution_count": 46,
   "id": "452391d6",
   "metadata": {},
   "outputs": [
    {
     "name": "stdout",
     "output_type": "stream",
     "text": [
      "-------------------------------------------------------------------------------------------------------------\n",
      "|\"name\"                        |\"size\"   |\"md5\"                             |\"last_modified\"                |\n",
      "-------------------------------------------------------------------------------------------------------------\n",
      "|ml_models/decisiontree.model  |2409648  |9240dfa661281839029e1dd3f4dfb9a0  |Fri, 26 May 2023 12:10:20 GMT  |\n",
      "-------------------------------------------------------------------------------------------------------------\n",
      "\n"
     ]
    }
   ],
   "source": [
    "    session.sql('LIST @ML_MODELS').show()"
   ]
  },
  {
   "cell_type": "code",
   "execution_count": 47,
   "id": "4a251ae4",
   "metadata": {},
   "outputs": [
    {
     "data": {
      "image/png": "[encoded data removed]",
      "text/plain": [
       "<Figure size 1200x500 with 1 Axes>"
      ]
     },
     "metadata": {},
     "output_type": "display_data"
    }
   ],
   "source": [
    "feature_coefficients = pd.DataFrame(eval(model_response))\n",
    "\n",
    "feature_coefficients\\\n",
    ".sort_values(by='FeatImportance',ascending=False)\\\n",
    ".plot\\\n",
    ".bar(y='FeatImportance', figsize=(12,5))\n",
    "plt.show()"
   ]
  },
  {
   "cell_type": "code",
   "execution_count": 48,
   "id": "305832a3",
   "metadata": {},
   "outputs": [],
   "source": [
    "def udf_predict_risk_score(*args) -> float:\n",
    "    import os\n",
    "    import sys\n",
    "    from joblib import load\n",
    "    \n",
    "    IMPORT_DIRECTORY_NAME = \"snowflake_import_directory\"\n",
    "    import_dir = sys._xoptions[IMPORT_DIRECTORY_NAME]\n",
    "    model_name = 'decisiontree.model'\n",
    "    model = load(import_dir+model_name)\n",
    "    scored_data = model.predict(pd.DataFrame([args]))[0]\n",
    "    return scored_data\n"
   ]
  },
  {
   "cell_type": "code",
   "execution_count": 49,
   "id": "5ef95fbd",
   "metadata": {},
   "outputs": [],
   "source": [
    "udf_risk_score_model = session.udf.register(\n",
    "                            func=udf_predict_risk_score, \n",
    "                            name=\"udf_risk_score_model\", \n",
    "                            stage_location='@ML_MODELS',\n",
    "                            input_types=[T.FloatType()]*len(feature_cols),\n",
    "                            return_type = T.FloatType(),\n",
    "                            replace=True, \n",
    "                            is_permanent=True, \n",
    "                            imports=['@ML_MODELS/decisiontree.model'],\n",
    "                            packages=['scikit-learn==1.1.1','pandas','joblib'], \n",
    "                            session=session\n",
    ")"
   ]
  },
  {
   "cell_type": "code",
   "execution_count": 50,
   "id": "038d34ad",
   "metadata": {},
   "outputs": [],
   "source": [
    "test_data_sf = session.table(\"TEST_DATA_TMP\")"
   ]
  },
  {
   "cell_type": "code",
   "execution_count": 51,
   "id": "d072f353",
   "metadata": {},
   "outputs": [],
   "source": [
    "test_data_sf = test_data_sf.with_column('PREDICTION', udf_risk_score_model(*feature_cols))"
   ]
  },
  {
   "cell_type": "code",
   "execution_count": 52,
   "id": "c6d091b3",
   "metadata": {},
   "outputs": [
    {
     "name": "stdout",
     "output_type": "stream",
     "text": [
      "SELECT \"USMER\", \"MEDICAL_UNIT\", \"SEX\", \"PATIENT_TYPE\", \"INTUBED\", \"PNEUMONIA\", \"AGE\", \"PREGNANT\", \"DIABETES\", \"COPD\", \"ASTHMA\", \"INMSUPR\", \"HIPERTENSION\", \"OTHER_DISEASE\", \"CARDIOVASCULAR\", \"OBESITY\", \"RENAL_CHRONIC\", \"TOBACCO\", \"TARGET\", udf_risk_score_model(\"USMER\", \"MEDICAL_UNIT\", \"SEX\", \"PATIENT_TYPE\", \"INTUBED\", \"PNEUMONIA\", \"AGE\", \"PREGNANT\", \"DIABETES\", \"COPD\", \"ASTHMA\", \"INMSUPR\", \"HIPERTENSION\", \"OTHER_DISEASE\", \"CARDIOVASCULAR\", \"OBESITY\", \"RENAL_CHRONIC\", \"TOBACCO\") AS \"PREDICTION\" FROM ( SELECT  *  FROM (TEST_DATA_TMP))\n"
     ]
    }
   ],
   "source": [
    "print(test_data_sf.queries['queries'][0])"
   ]
  },
  {
   "cell_type": "code",
   "execution_count": 53,
   "id": "3155f96a",
   "metadata": {},
   "outputs": [
    {
     "data": {
      "text/plain": [
       "['USMER',\n",
       " 'MEDICAL_UNIT',\n",
       " 'SEX',\n",
       " 'PATIENT_TYPE',\n",
       " 'INTUBED',\n",
       " 'PNEUMONIA',\n",
       " 'AGE',\n",
       " 'PREGNANT',\n",
       " 'DIABETES',\n",
       " 'COPD',\n",
       " 'ASTHMA',\n",
       " 'INMSUPR',\n",
       " 'HIPERTENSION',\n",
       " 'OTHER_DISEASE',\n",
       " 'CARDIOVASCULAR',\n",
       " 'OBESITY',\n",
       " 'RENAL_CHRONIC',\n",
       " 'TOBACCO']"
      ]
     },
     "execution_count": 53,
     "metadata": {},
     "output_type": "execute_result"
    }
   ],
   "source": [
    "feature_cols\n"
   ]
  },
  {
   "cell_type": "code",
   "execution_count": 54,
   "id": "1e8788fd",
   "metadata": {},
   "outputs": [],
   "source": [
    "def get_model_report(test_df):\n",
    "    from sklearn.metrics import confusion_matrix,precision_score,recall_score,f1_score,ConfusionMatrixDisplay\n",
    "    \n",
    "    target = test_df.select(\"TARGET\").to_pandas()\n",
    "    predictions = test_df.select(\"PREDICTION\").to_pandas()\n",
    "    \n",
    "    cm = confusion_matrix(target,predictions)\n",
    "    precision = precision_score(target,predictions)\n",
    "    recall = recall_score(target,predictions)\n",
    "    f1= f1_score(target,predictions)\n",
    "    \n",
    "    print(f\"Model perfomances Recall: {recall:.2}, Precision: {precision:.2}\\n\")\n",
    "    \n",
    "    cmd = ConfusionMatrixDisplay(cm)\n",
    "    cmd.plot()"
   ]
  },
  {
   "cell_type": "code",
   "execution_count": 55,
   "id": "da17dc59",
   "metadata": {},
   "outputs": [
    {
     "name": "stdout",
     "output_type": "stream",
     "text": [
      "Model perfomances Recall: 0.53, Precision: 0.53\n",
      "\n"
     ]
    },
    {
     "data": {
      "image/png": "[encoded data removed]",
      "text/plain": [
       "<Figure size 640x480 with 2 Axes>"
      ]
     },
     "metadata": {},
     "output_type": "display_data"
    }
   ],
   "source": [
    "get_model_report(test_df=test_data_sf)"
   ]
  },
  {
   "cell_type": "markdown",
   "id": "e74e9d3e",
   "metadata": {},
   "source": [
    "def train_model_locally(train):\n",
    "    from sklearn.tree import DecisionTreeClassifier\n",
    "    \n",
    "    #convert into pd dataframes\n",
    "    \n",
    "    train = train.to_pandas()\n",
    "    \n",
    "    xtrain,ytrain = train.drop('TARGET',axis=1),train['TARGET']\n",
    "    \n",
    "    model = DecisionTreeClassifier()\n",
    "    model.fit(xtrain,ytrain)\n",
    "    \n",
    "    return model"
   ]
  },
  {
   "cell_type": "markdown",
   "id": "30310363",
   "metadata": {},
   "source": [
    "train_data_sf = session.table(\"TRAIN_DATA_TMP\")"
   ]
  },
  {
   "cell_type": "markdown",
   "id": "4185d636",
   "metadata": {},
   "source": [
    "model = train_model_locally(train_data_sf)"
   ]
  },
  {
   "cell_type": "markdown",
   "id": "7691ac4a",
   "metadata": {},
   "source": [
    "import joblib\n",
    "\n",
    "joblib.dump(model, 'predict_risk_score.joblib')"
   ]
  },
  {
   "cell_type": "markdown",
   "id": "f2eb3c3e",
   "metadata": {},
   "source": [
    "session.file.put(\n",
    "    \"predict_risk_score.joblib\", \"@ML_MODELS\", auto_compress=False, overwrite=True\n",
    ")"
   ]
  },
  {
   "cell_type": "markdown",
   "id": "648f6856",
   "metadata": {},
   "source": [
    "?session.add_import"
   ]
  },
  {
   "cell_type": "markdown",
   "id": "1a2e0001",
   "metadata": {},
   "source": [
    "session.clear_imports()\n",
    "session.clear_packages()\n",
    "session.add_import(\"@ML_MODELS/predict_risk_score.joblib\")\n",
    "session.add_packages(\"joblib==1.1.0\", \"scikit-learn==1.1.1\", \"pandas==1.3.2\")"
   ]
  },
  {
   "cell_type": "markdown",
   "id": "183fbe36",
   "metadata": {},
   "source": [
    "from snowflake.snowpark.types import PandasSeries, PandasDataFrame\n",
    "\n",
    "\n",
    "def read_file(filename):\n",
    "    import joblib\n",
    "    import sys\n",
    "    import os\n",
    "    \n",
    "    import_dir = sys._xoptions.get(\"snowflake_import_directory\")\n",
    "    if import_dir:\n",
    "        with open(os.path.join(import_dir, filename), 'rb') as file:\n",
    "            m = joblib.load(file)\n",
    "            return m\n",
    "\n",
    "@F.udf(name = 'predict_risk_score', is_permanent = True, replace = True, stage_location = '@ML_MODELS')\n",
    "def predict_risk_score(ds: PandasSeries[dict]) -> PandasSeries[float]:\n",
    "    df = pd.io.json.json_normalize(ds)[feature_cols]\n",
    "    pipeline = read_file('predict_risk_score.joblib')\n",
    "    return pipeline.predict_proba(df)[:,1]"
   ]
  },
  {
   "cell_type": "markdown",
   "id": "9e0672cf",
   "metadata": {},
   "source": [
    "session.sql(\"DESC FUNCTION PREDICT_RISK_SCORE(object)\").show()"
   ]
  },
  {
   "cell_type": "markdown",
   "id": "a4c8084a",
   "metadata": {},
   "source": [
    "test_data_sf.with_column(\n",
    "    'PREDICTION', \n",
    "    predict_risk_score(F.object_construct('*')))\\\n",
    ".select(\"TARGET\",\"PREDICTION\").show(20)"
   ]
  },
  {
   "cell_type": "markdown",
   "id": "40dda02a",
   "metadata": {},
   "source": [
    "get_model_report(test_df=test_data_sf)"
   ]
  }
 ],
 "metadata": {
  "kernelspec": {
   "display_name": "Python 3 (ipykernel)",
   "language": "python",
   "name": "python3"
  },
  "language_info": {
   "codemirror_mode": {
    "name": "ipython",
    "version": 3
   },
   "file_extension": ".py",
   "mimetype": "text/x-python",
   "name": "python",
   "nbconvert_exporter": "python",
   "pygments_lexer": "ipython3",
   "version": "3.8.16"
  }
 },
 "nbformat": 4,
 "nbformat_minor": 5
}
